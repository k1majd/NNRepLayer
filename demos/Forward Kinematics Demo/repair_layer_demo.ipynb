{
 "cells": [
  {
   "cell_type": "code",
   "execution_count": 1,
   "source": [
    "import numpy as np\n",
    "import tensorflow as tf\n",
    "gpus = tf.config.experimental.list_physical_devices('GPU')\n",
    "if gpus:\n",
    "    try:\n",
    "        # Currently, memory growth needs to be the same across GPUs\n",
    "        for gpu in gpus:\n",
    "            tf.config.experimental.set_memory_growth(gpu, True)\n",
    "        logical_gpus = tf.config.experimental.list_logical_devices('GPU')\n",
    "        print(len(gpus), \"Physical GPUs,\", len(logical_gpus), \"Logical GPUs\")\n",
    "    except RuntimeError as e:\n",
    "        # Memory growth must be set before GPUs have been initialized\n",
    "        print(e)\n",
    "from pprint import pprint\n",
    "from numpy import sin, cos, pi\n",
    "from matplotlib import pyplot as plt\n",
    "from shapely.geometry import Polygon\n",
    "from tensorflow import keras\n",
    "from pyomo.gdp import *\n",
    "from scipy.spatial import ConvexHull\n",
    "import os\n",
    "import pickle\n",
    "from tensorflow import keras\n",
    "import tensorflow.keras.backend as kb"
   ],
   "outputs": [
    {
     "output_type": "stream",
     "name": "stdout",
     "text": [
      "2 Physical GPUs, 2 Logical GPUs\n"
     ]
    },
    {
     "output_type": "stream",
     "name": "stderr",
     "text": [
      "2022-02-23 12:42:10.979622: I tensorflow/core/platform/cpu_feature_guard.cc:151] This TensorFlow binary is optimized with oneAPI Deep Neural Network Library (oneDNN) to use the following CPU instructions in performance-critical operations:  AVX2 AVX512F FMA\n",
      "To enable them in other operations, rebuild TensorFlow with the appropriate compiler flags.\n",
      "2022-02-23 12:42:11.779397: I tensorflow/core/common_runtime/gpu/gpu_device.cc:1525] Created device /job:localhost/replica:0/task:0/device:GPU:0 with 154 MB memory:  -> device: 0, name: Quadro RTX 4000, pci bus id: 0000:bd:00.0, compute capability: 7.5\n",
      "2022-02-23 12:42:11.779951: I tensorflow/core/common_runtime/gpu/gpu_device.cc:1525] Created device /job:localhost/replica:0/task:0/device:GPU:1 with 5680 MB memory:  -> device: 1, name: NVIDIA GeForce GTX 1080, pci bus id: 0000:91:00.0, compute capability: 6.1\n"
     ]
    }
   ],
   "metadata": {}
  },
  {
   "cell_type": "code",
   "execution_count": 2,
   "source": [
    "from nnreplayer.utils.options import Options\n",
    "from nnreplayer.utils.utils import constraints_class\n",
    "from nnreplayer.repair.perform_repair import perform_repair\n"
   ],
   "outputs": [
    {
     "output_type": "stream",
     "name": "stdout",
     "text": [
      "2 Physical GPUs, 2 Logical GPUs\n"
     ]
    }
   ],
   "metadata": {}
  },
  {
   "cell_type": "markdown",
   "source": [
    "# Introduction\n",
    "\n",
    "This demo is for repairing a neural network that repairs the affine transform neural network example to follow a certain constraint. We perform the folowing operations here:\n",
    "\n",
    "1. Load the neural network and samples that have both normal and adverserial examples.\n",
    "2. Define the constraints\n",
    "3. Define the layer to repair and run the repair"
   ],
   "metadata": {}
  },
  {
   "cell_type": "markdown",
   "source": [
    "# Load Neural Network"
   ],
   "metadata": {}
  },
  {
   "cell_type": "code",
   "execution_count": 3,
   "source": [
    "\n",
    "#define costum loss function\n",
    "def keras_SSE_costum(y_actual, y_predicted):\n",
    "    err = y_actual - y_predicted\n",
    "    loss_value = kb.sum(kb.square(err))\n",
    "    return loss_value\n",
    "\n",
    "model_orig = keras.models.load_model(os.getcwd()+'/forward_kinematics_original_model', compile= False)\n",
    "\n",
    "\n",
    "\n",
    "\n",
    "\n",
    "with open(os.getcwd() + \"/forward_kinematics_io_dataset.pickle\", \"rb\") as data:\n",
    "    x_train, y_train, x_test, y_test = pickle.load(data)\n",
    "\n",
    "x_train = np.reshape(x_train, (-1,1))\n",
    "x_test = np.reshape(x_test, (-1,1))"
   ],
   "outputs": [],
   "metadata": {}
  },
  {
   "cell_type": "markdown",
   "source": [
    "# Define the Architecture and Cost-Function"
   ],
   "metadata": {}
  },
  {
   "cell_type": "code",
   "execution_count": 4,
   "source": [
    "\n",
    "num_input = 1\n",
    "num_output = 2\n",
    "num_hidden_0 = 10\n",
    "num_hidden_1 = 10\n",
    "architecture = [num_input, num_hidden_0, num_hidden_1, num_output]\n",
    "\n",
    "def squared_sum(x, y):\n",
    "    m,n = np.array(x).shape\n",
    "    _squared_sum = 0\n",
    "    for i in range(m):\n",
    "        for j in range(n):\n",
    "            _squared_sum += (x[i, j] - y[i, j]) ** 2\n",
    "    return _squared_sum\n",
    "    \n"
   ],
   "outputs": [],
   "metadata": {}
  },
  {
   "cell_type": "markdown",
   "source": [
    "# Define the Constraint for the form $ Ax<b$"
   ],
   "metadata": {}
  },
  {
   "cell_type": "code",
   "execution_count": 10,
   "source": [
    "poly3 = Polygon([(.45, .1), (.45, .25), (.55, .25), (.55, .1)])\n",
    "\n",
    "x_poly3, y_poly3 = poly3.exterior.xy\n",
    "\n",
    "A_1 = np.array([[1,0],[-1,0],[1,0],[1,0]])\n",
    "b_1 = np.array([[0.45],[-0.55],[0.55],[0.55]])\n",
    "\n",
    "A_2 = np.array([[0, 0], [0, 0],[-1,0],[-1,0]])\n",
    "b_2 = np.array([[0],[0],[-0.45],[-0.45]])\n",
    "\n",
    "A_3 = np.array([[0, 0], [0, 0],[0,-1],[0,1]])\n",
    "b_3 = np.array([[0],[0],[-0.25],[0.1]])\n",
    "\n",
    "A = [A_1, A_2, A_3]\n",
    "B = [b_1,b_2,b_3]\n",
    "constraint_outside = constraints_class(\"outside\", A, B)\n",
    "\n",
    "output_constraint_list = [constraint_outside]\n"
   ],
   "outputs": [],
   "metadata": {}
  },
  {
   "cell_type": "markdown",
   "source": [
    "# Run the Repair Problem"
   ],
   "metadata": {}
  },
  {
   "cell_type": "code",
   "execution_count": 11,
   "source": [
    "\n",
    "layer_to_repair = 3\n",
    "train_dataset = (x_train, y_train)\n",
    "\n",
    "weight_slack = 100\n",
    "time_limit = 3600\n",
    "mip_gap = 0.05\n",
    "options = Options('gdp.bigm', 'gurobi', \"python\", \"keras\", weight_slack, time_limit, mip_gap)\n",
    "\n",
    "results = perform_repair(layer_to_repair, model_orig, architecture, output_constraint_list, squared_sum, train_dataset, options)\n",
    "\n",
    "\n",
    "y_new_train = results.new_model.predict(x_train)\n",
    "y_new_test = results.new_model.predict(x_test)\n",
    "\n",
    "\n",
    "y_train_original = model_orig.predict(x_train)\n",
    "y_test_original = model_orig.predict(x_test)\n",
    "\n",
    "print(\"weight_error: {}\".format(results.weight_error))\n",
    "print(\"bias_error: {}\".format(results.bias_error))\n",
    "\n"
   ],
   "outputs": [
    {
     "output_type": "stream",
     "name": "stdout",
     "text": [
      "[array([[-0.4149825 , -0.13678607, -0.30032253,  0.60274017, -0.34963357,\n",
      "        -0.2993674 , -0.22025649,  0.90724254, -0.12496518, -0.10619882]],\n",
      "      dtype=float32), array([ 0.0000000e+00,  0.0000000e+00,  0.0000000e+00, -3.8317433e-01,\n",
      "        0.0000000e+00,  0.0000000e+00,  0.0000000e+00,  4.1754825e-05,\n",
      "        0.0000000e+00,  0.0000000e+00], dtype=float32), array([[ 0.1423751 ,  0.08301663,  0.1034766 , -0.08368659,  0.24172698,\n",
      "         0.26049873, -0.25935104, -0.29150262,  0.30198687,  0.0550815 ],\n",
      "       [-0.11074551, -0.09819555,  0.08211356,  0.30373377,  0.19064851,\n",
      "        -0.24184424,  0.25513855,  0.14286369, -0.19372392,  0.10210928],\n",
      "       [ 0.04424187, -0.10841577, -0.11357298,  0.16096292,  0.2504523 ,\n",
      "        -0.2852776 , -0.19864267,  0.08718713,  0.26560304, -0.08913513],\n",
      "       [ 0.16936241, -0.07726429,  0.5885457 ,  0.13567129, -0.39005944,\n",
      "         0.07594254, -0.22790603, -0.14664178, -0.4508284 , -0.04787717],\n",
      "       [-0.3188948 ,  0.29846066, -0.24392621, -0.02000285, -0.06449388,\n",
      "         0.12023362, -0.24743958, -0.24919471,  0.10710888, -0.19064948],\n",
      "       [ 0.15498634, -0.30980995,  0.20873632, -0.32244554,  0.12083734,\n",
      "        -0.04556106,  0.11283478,  0.08054703, -0.16300054,  0.22801994],\n",
      "       [ 0.29733205, -0.06418394,  0.12189237,  0.3314366 , -0.14581543,\n",
      "        -0.30925316,  0.04209519, -0.17503102, -0.32099828,  0.2990515 ],\n",
      "       [-0.25818047, -0.13085404,  0.30233142, -0.05821016, -0.03762643,\n",
      "        -0.14580494,  0.48324516, -0.45368034,  0.56996155, -0.0151928 ],\n",
      "       [ 0.15371868, -0.01409376, -0.25522342, -0.09395105,  0.10101271,\n",
      "         0.16692224, -0.13523719,  0.23861451,  0.10801087, -0.06354019],\n",
      "       [ 0.23186415, -0.06971715, -0.14315888,  0.09164499, -0.12962191,\n",
      "         0.27671573,  0.10107273,  0.09217654,  0.04795296, -0.27750304]],\n",
      "      dtype=float32), array([ 0.        ,  0.        , -0.3614745 ,  0.08287597,  0.5594049 ,\n",
      "        0.        ,  0.01529298,  0.755109  ,  0.04227601,  0.        ],\n",
      "      dtype=float32), array([[-0.11344118, -0.34054667],\n",
      "       [-0.2361283 , -0.07639676],\n",
      "       [-0.65550494,  0.41875222],\n",
      "       [-0.4008939 , -0.3934164 ],\n",
      "       [ 0.55558205,  0.62585753],\n",
      "       [-0.42185354,  0.26962236],\n",
      "       [ 0.6282558 , -0.01691743],\n",
      "       [-0.4958883 ,  0.8208493 ],\n",
      "       [ 0.1800377 , -0.70850617],\n",
      "       [ 0.37003642, -0.0908656 ]], dtype=float32), array([0.14364281, 0.07290275], dtype=float32)]\n",
      "************************************************\n",
      "Activating Last layer\n",
      "Set parameter LogFile to value \"/tmp/tmpd8t6bmt2.log\"\n",
      "Set parameter TimeLimit to value 3600\n",
      "Set parameter MIPGap to value 0.02\n",
      "Gurobi Optimizer version 9.5.0 build v9.5.0rc5 (linux64)\n",
      "Thread count: 10 physical cores, 20 logical processors, using up to 20 threads\n",
      "Optimize a model with 1584 rows, 1003 columns and 4794 nonzeros\n",
      "Model fingerprint: 0x5ba885fc\n",
      "Model has 280 quadratic objective terms\n",
      "Variable types: 303 continuous, 700 integer (700 binary)\n",
      "Coefficient statistics:\n",
      "  Matrix range     [5e-03, 1e+01]\n",
      "  Objective range  [3e-04, 2e+00]\n",
      "  QObjective range [2e+00, 2e+00]\n",
      "  Bounds range     [1e+00, 1e+02]\n",
      "  RHS range        [2e-02, 1e+01]\n",
      "Found heuristic solution: objective 4368.0497228\n",
      "Presolve removed 576 rows and 148 columns\n",
      "Presolve time: 0.02s\n",
      "Presolved: 1008 rows, 855 columns, 4202 nonzeros\n",
      "Presolved model has 280 quadratic objective terms\n",
      "Found heuristic solution: objective 4269.8705721\n",
      "Variable types: 295 continuous, 560 integer (560 binary)\n",
      "\n",
      "Root relaxation: objective 5.312625e-02, 709 iterations, 0.01 seconds (0.01 work units)\n",
      "\n",
      "    Nodes    |    Current Node    |     Objective Bounds      |     Work\n",
      " Expl Unexpl |  Obj  Depth IntInf | Incumbent    BestBd   Gap | It/Node Time\n",
      "\n",
      "     0     0    0.05313    0   68 4269.87057    0.05313   100%     -    0s\n",
      "     0     0    0.05313    0   74 4269.87057    0.05313   100%     -    0s\n",
      "H    0     0                       7.2434489    0.05313  99.3%     -    0s\n",
      "     0     0    0.05313    0   74    7.24345    0.05313  99.3%     -    0s\n",
      "     0     0    0.05313    0  115    7.24345    0.05313  99.3%     -    0s\n",
      "     0     0    0.05313    0  115    7.24345    0.05313  99.3%     -    0s\n",
      "     0     0    0.05404    0   84    7.24345    0.05404  99.3%     -    0s\n",
      "     0     0    0.05404    0   84    7.24345    0.05404  99.3%     -    0s\n",
      "     0     0    0.05404    0   84    7.24345    0.05404  99.3%     -    0s\n",
      "     0     0    0.05404    0   85    7.24345    0.05404  99.3%     -    0s\n",
      "     0     0    0.05615    0   91    7.24345    0.05615  99.2%     -    0s\n",
      "H    0     0                       0.4762362    0.05615  88.2%     -    0s\n",
      "     0     0    0.05615    0   97    0.47624    0.05615  88.2%     -    0s\n",
      "     0     0    0.05704    0   97    0.47624    0.05704  88.0%     -    0s\n",
      "     0     0    0.05704    0  115    0.47624    0.05704  88.0%     -    0s\n",
      "     0     0    0.05704    0  116    0.47624    0.05704  88.0%     -    0s\n",
      "     0     0    0.05733    0  118    0.47624    0.05733  88.0%     -    0s\n",
      "     0     0    0.05733    0  118    0.47624    0.05733  88.0%     -    0s\n",
      "     0     0    0.05733    0  119    0.47624    0.05733  88.0%     -    0s\n",
      "     0     0    0.05733    0  119    0.47624    0.05733  88.0%     -    0s\n",
      "     0     0    0.05733    0  124    0.47624    0.05733  88.0%     -    0s\n",
      "     0     0    0.05733    0  125    0.47624    0.05733  88.0%     -    0s\n",
      "     0     0    0.05733    0  125    0.47624    0.05733  88.0%     -    0s\n",
      "     0     0    0.05733    0  125    0.47624    0.05733  88.0%     -    0s\n",
      "     0     2    0.05733    0  125    0.47624    0.05733  88.0%     -    0s\n",
      "H  150    48                       0.3375196    0.23581  30.1%  12.3    0s\n",
      "*  421    17              47       0.3364446    0.23581  29.9%   7.3    0s\n",
      "*  431    17              47       0.3298786    0.23581  28.5%   7.3    0s\n",
      "H  450     9                       0.3297601    0.23581  28.5%   7.1    0s\n",
      "H  479    13                       0.3167456    0.23581  25.6%   6.9    0s\n",
      "*  756    65              84       0.3166974    0.24320  23.2%   6.2    0s\n",
      "*  769    65              85       0.2936143    0.24320  17.2%   6.1    0s\n",
      "*  932     7              85       0.2907134    0.27538  5.28%   5.6    0s\n",
      "\n",
      "Cutting planes:\n",
      "  Gomory: 13\n",
      "  Implied bound: 2\n",
      "  MIR: 110\n",
      "  StrongCG: 2\n",
      "  Relax-and-lift: 2\n",
      "\n",
      "Explored 1002 nodes (6811 simplex iterations) in 0.99 seconds (1.42 work units)\n",
      "Thread count was 20 (of 20 available processors)\n",
      "\n",
      "Solution count 10: 0.290713 0.293614 0.316697 ... 7.24345\n",
      "\n",
      "Optimal solution found (tolerance 2.00e-02)\n",
      "Best objective 2.907133790270e-01, best bound 2.892039354630e-01, gap 0.5192%\n",
      "Set parameter LogFile to value \"\"\n",
      "dw : Size=1, Index=None\n",
      "    Key  : Lower : Value               : Upper : Fixed : Stale : Domain\n",
      "    None :     0 : 0.08361897516501815 :   100 : False : False : NonNegativeReals\n",
      "None\n",
      "weight_error: 0.08361897516501815\n",
      "bias_error: 0.0028558482037177174\n"
     ]
    }
   ],
   "metadata": {}
  },
  {
   "cell_type": "markdown",
   "source": [
    "# Plot the Outputs"
   ],
   "metadata": {}
  },
  {
   "cell_type": "code",
   "execution_count": 13,
   "source": [
    "\n",
    "plt.plot(y_train[:, 0], y_train[:, 1], 'ro', label='Original Samples')\n",
    "plt.plot(y_train_original[:, 0], y_train_original[:, 1], 'ko', label='Prev Predicted outputs')\n",
    "plt.plot(x_poly3, y_poly3, color='red', alpha=0.7, linewidth=3, solid_capstyle='round', zorder=2, label='Target Set')\n",
    "plt.ylim(-.2,1.1)\n",
    "plt.xlim(-.2,0.7)\n",
    "plt.plot(y_new_train[:, 0], y_new_train[:, 1], 'go', label='New Predicted Output')\n",
    "plt.title('Refined Model (Training Data)')\n",
    "plt.xlabel('x')\n",
    "plt.ylabel('y')\n",
    "plt.legend(loc=\"upper left\")\n",
    "plt.show()\n",
    "\n"
   ],
   "outputs": [
    {
     "output_type": "display_data",
     "data": {
      "text/plain": [
       "<Figure size 432x288 with 1 Axes>"
      ],
      "image/png": "[encoded data removed]"
     },
     "metadata": {
      "needs_background": "light"
     }
    }
   ],
   "metadata": {}
  },
  {
   "cell_type": "code",
   "execution_count": 14,
   "source": [
    "\n",
    "plt.plot(y_test[:, 0], y_test[:, 1], 'ro', label='Original Samples')\n",
    "plt.plot(y_test_original[:, 0], y_test_original[:, 1], 'ko', label='Prev Predicted outputs')\n",
    "plt.plot(x_poly3, y_poly3, color='red', alpha=0.7, linewidth=3, solid_capstyle='round', zorder=2, label='Target Set')\n",
    "plt.ylim(-.2,1.1)\n",
    "plt.xlim(-.2,0.7)\n",
    "plt.plot(y_new_test[:, 0], y_new_test[:, 1], 'go', label='New Predicted Output')\n",
    "plt.title('Refined Model (Testing Data)')\n",
    "plt.xlabel('x')\n",
    "plt.ylabel('y')\n",
    "plt.legend(loc=\"upper left\")\n",
    "plt.show()\n"
   ],
   "outputs": [
    {
     "output_type": "display_data",
     "data": {
      "text/plain": [
       "<Figure size 432x288 with 1 Axes>"
      ],
      "image/png": "[encoded data removed]"
     },
     "metadata": {
      "needs_background": "light"
     }
    }
   ],
   "metadata": {}
  },
  {
   "cell_type": "code",
   "execution_count": null,
   "source": [],
   "outputs": [],
   "metadata": {}
  }
 ],
 "metadata": {
  "interpreter": {
   "hash": "31f2aee4e71d21fbe5cf8b01ff0e069b9275f58929596ceb00d14d90e3e16cd6"
  },
  "kernelspec": {
   "display_name": "Python 3 (ipykernel)",
   "language": "python",
   "name": "python3"
  },
  "language_info": {
   "codemirror_mode": {
    "name": "ipython",
    "version": 3
   },
   "file_extension": ".py",
   "mimetype": "text/x-python",
   "name": "python",
   "nbconvert_exporter": "python",
   "pygments_lexer": "ipython3",
   "version": "3.8.5"
  }
 },
 "nbformat": 4,
 "nbformat_minor": 2
}