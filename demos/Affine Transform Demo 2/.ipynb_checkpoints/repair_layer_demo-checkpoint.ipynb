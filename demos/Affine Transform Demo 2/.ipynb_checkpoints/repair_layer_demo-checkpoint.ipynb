{
 "cells": [
  {
   "cell_type": "code",
   "execution_count": 1,
   "metadata": {},
   "outputs": [
    {
     "name": "stdout",
     "output_type": "stream",
     "text": [
      "2 Physical GPUs, 2 Logical GPUs\n"
     ]
    },
    {
     "name": "stderr",
     "output_type": "stream",
     "text": [
      "2022-02-23 14:05:09.481821: I tensorflow/core/platform/cpu_feature_guard.cc:151] This TensorFlow binary is optimized with oneAPI Deep Neural Network Library (oneDNN) to use the following CPU instructions in performance-critical operations:  AVX2 AVX512F FMA\n",
      "To enable them in other operations, rebuild TensorFlow with the appropriate compiler flags.\n",
      "2022-02-23 14:05:10.299497: I tensorflow/core/common_runtime/gpu/gpu_device.cc:1525] Created device /job:localhost/replica:0/task:0/device:GPU:0 with 6415 MB memory:  -> device: 0, name: Quadro RTX 4000, pci bus id: 0000:bd:00.0, compute capability: 7.5\n",
      "2022-02-23 14:05:10.300069: I tensorflow/core/common_runtime/gpu/gpu_device.cc:1525] Created device /job:localhost/replica:0/task:0/device:GPU:1 with 7047 MB memory:  -> device: 1, name: NVIDIA GeForce GTX 1080, pci bus id: 0000:91:00.0, compute capability: 6.1\n"
     ]
    }
   ],
   "source": [
    "import numpy as np\n",
    "import tensorflow as tf\n",
    "gpus = tf.config.experimental.list_physical_devices('GPU')\n",
    "if gpus:\n",
    "    try:\n",
    "        # Currently, memory growth needs to be the same across GPUs\n",
    "        for gpu in gpus:\n",
    "            tf.config.experimental.set_memory_growth(gpu, True)\n",
    "        logical_gpus = tf.config.experimental.list_logical_devices('GPU')\n",
    "        print(len(gpus), \"Physical GPUs,\", len(logical_gpus), \"Logical GPUs\")\n",
    "    except RuntimeError as e:\n",
    "        # Memory growth must be set before GPUs have been initialized\n",
    "        print(e)\n",
    "from pprint import pprint\n",
    "from numpy import sin, cos, pi\n",
    "import numpy as np\n",
    "\n",
    "from matplotlib import pyplot as plt\n",
    "from shapely.geometry import Polygon\n",
    "from tensorflow import keras\n",
    "from pyomo.gdp import *\n",
    "from scipy.spatial import ConvexHull\n",
    "import os\n",
    "import pickle\n",
    "from tensorflow import keras\n",
    "import tensorflow.keras.backend as kb"
   ]
  },
  {
   "cell_type": "code",
   "execution_count": 2,
   "metadata": {},
   "outputs": [
    {
     "name": "stdout",
     "output_type": "stream",
     "text": [
      "2 Physical GPUs, 2 Logical GPUs\n"
     ]
    }
   ],
   "source": [
    "from nnreplayer.utils.options import Options\n",
    "from nnreplayer.utils.utils import constraints_class\n",
    "from nnreplayer.repair.perform_repair import perform_repair\n"
   ]
  },
  {
   "cell_type": "markdown",
   "metadata": {},
   "source": [
    "# Introduction\n",
    "\n",
    "This demo is for repairing a neural network that repairs the affine transform neural network example to follow a certain constraint. We perform the folowing operations here:\n",
    "\n",
    "1) Load the neural network and samples that have both normal and adverserial examples.\n",
    "2) Define the constraints\n",
    "3) Define the layer to repair and run the repair"
   ]
  },
  {
   "cell_type": "markdown",
   "metadata": {},
   "source": [
    "# Load Neural Network"
   ]
  },
  {
   "cell_type": "code",
   "execution_count": 3,
   "metadata": {},
   "outputs": [],
   "source": [
    "\n",
    "#define costum loss function\n",
    "def keras_SSE_costum(y_actual, y_predicted):\n",
    "    err = y_actual - y_predicted\n",
    "    loss_value = kb.sum(kb.square(err))\n",
    "    return loss_value\n",
    "\n",
    "model_orig = keras.models.load_model(os.getcwd()+'/affine_transform_original_model', compile= False)\n",
    "\n",
    "\n",
    "\n",
    "\n",
    "\n",
    "with open(os.getcwd() + \"/affine_io_dataset.pickle\", \"rb\") as data:\n",
    "    x_train, y_train, x_test, y_test = pickle.load(data)\n",
    "\n"
   ]
  },
  {
   "cell_type": "markdown",
   "metadata": {},
   "source": [
    "# Define the Architecture and Cost-Function"
   ]
  },
  {
   "cell_type": "code",
   "execution_count": 4,
   "metadata": {},
   "outputs": [],
   "source": [
    "\n",
    "num_input = 3\n",
    "num_output = 3\n",
    "num_hidden_0 = 20\n",
    "num_hidden_1 = 10\n",
    "architecture = [num_input, num_hidden_0, num_hidden_1, num_output]\n",
    "architecture = [num_input, num_hidden_0, num_hidden_1, num_output]\n",
    "\n",
    "def squared_sum(x, y):\n",
    "    m,n = np.array(x).shape\n",
    "    _squared_sum = 0\n",
    "    for i in range(m):\n",
    "        for j in range(n):\n",
    "            _squared_sum += (x[i, j] - y[i, j]) ** 2\n",
    "    return _squared_sum\n",
    "    \n"
   ]
  },
  {
   "cell_type": "markdown",
   "metadata": {},
   "source": [
    "# Define the Constraint for the form $ Ax<b$"
   ]
  },
  {
   "cell_type": "code",
   "execution_count": 5,
   "metadata": {},
   "outputs": [],
   "source": [
    "transform1 = np.array([[1, 0, 2.5], [0, 1, 2.5], [0, 0, 1]])  # transformation matrix 1\n",
    "transform2 = np.array([[1, 0, -2.5], [0, 1, -2.5], [0, 0, 1]])  # transformation matrix 2\n",
    "rotate = np.array([[cos(pi / 4), -sin(pi / 4), 0], [sin(pi / 4), cos(pi / 4), 0], [0, 0, 1]])  # rotation matrix\n",
    "inp = np.array([[1.25, 3.75, 3.75, 1.25],[1.25, 1.25, 3.75, 3.75],[1, 1 , 1, 1]])\n",
    "out = np.matmul(np.matmul(np.matmul(transform1, rotate), transform2), inp)\n",
    "poly3 = Polygon([(out[0, 0], out[1, 0]), (out[0, 1], out[1, 1]), (out[0, 2], out[1, 2]), (out[0, 3], out[1, 3])])\n",
    "\n",
    "# get the coordinates of the exterior points of the polytope\n",
    "ex_points = np.array(poly3.exterior.coords)\n",
    "\n",
    "# get A and b matrices\n",
    "hull = ConvexHull(ex_points)\n",
    "eqs = np.array(hull.equations)\n",
    "A = eqs[0:eqs.shape[0],0:eqs.shape[1]-1]\n",
    "b = -eqs[0:eqs.shape[0],-1]\n",
    "\n",
    "b = np.array([b]).T\n",
    "\n"
   ]
  },
  {
   "cell_type": "code",
   "execution_count": 6,
   "metadata": {},
   "outputs": [],
   "source": [
    "poly_outside = Polygon([(2,2),(2,3),(3,3),(3,2)])\n",
    "\n",
    "x_poly_out, y_poly_out = poly_outside.exterior.xy\n",
    "\n",
    "A_1 = np.array([[1,0],[-1,0],[1,0],[1,0]])\n",
    "b_1 = np.array([[2],[-3],[3],[3]])\n",
    "\n",
    "A_2 = np.array([[0, 0], [0, 0],[-1,0],[-1,0]])\n",
    "b_2 = np.array([[0],[0],[-2],[-2]])\n",
    "\n",
    "A_3 = np.array([[0, 0], [0, 0],[0,-1],[0,1]])\n",
    "b_3 = np.array([[0],[0],[-3],[2]])\n",
    "\n",
    "A_out = [A_1, A_2, A_3]\n",
    "B_out = [b_1,b_2,b_3]\n"
   ]
  },
  {
   "cell_type": "code",
   "execution_count": 7,
   "metadata": {},
   "outputs": [],
   "source": [
    "\n",
    "constraint_inside = constraints_class(\"inside\", A, b)\n",
    "constraint_outside = constraints_class(\"outside\", A_out, B_out)\n",
    "output_constraint_list = [constraint_inside, constraint_outside]"
   ]
  },
  {
   "cell_type": "markdown",
   "metadata": {},
   "source": [
    "# Run the Repair Problem"
   ]
  },
  {
   "cell_type": "code",
   "execution_count": 8,
   "metadata": {},
   "outputs": [
    {
     "name": "stdout",
     "output_type": "stream",
     "text": [
      "[array([[ 0.1527933 , -0.4584618 ,  0.41190028,  0.10153176,  0.5757257 ,\n",
      "         0.08488729,  0.38855442,  0.31845412,  0.4002477 , -0.31296813,\n",
      "         0.21285433, -0.24697264,  0.4693379 ,  0.5320379 , -0.47404468,\n",
      "         0.5163657 ,  0.46384728, -0.08686642,  0.09493613,  0.22740853],\n",
      "       [-0.25900388,  0.2050879 ,  0.30359364, -0.24099126,  0.15401314,\n",
      "         0.50630444,  0.291847  ,  0.2595745 ,  0.37641752, -0.4881648 ,\n",
      "        -0.26873833,  0.04861793,  0.34866428,  0.44599187, -0.37207475,\n",
      "        -0.16419302, -0.22000594,  0.4737313 ,  0.38109094, -0.31981322],\n",
      "       [ 0.25460562, -0.13012575,  0.30391592,  0.5568485 , -0.03611979,\n",
      "         0.06791569,  0.4143772 , -0.4817024 , -0.07655319, -0.3438477 ,\n",
      "        -0.41244155,  0.45593193,  0.4573522 , -0.11596949,  0.2593981 ,\n",
      "         0.43060085, -0.32273042,  0.45740855, -0.46666884, -0.47320876]],\n",
      "      dtype=float32), array([-0.01502308, -0.02838152, -0.11501939,  0.09838924,  0.03879526,\n",
      "       -0.0576232 , -0.016722  , -0.02777195, -0.03096552,  0.        ,\n",
      "       -0.04426279,  0.01948093,  0.10936049, -0.03836636,  0.        ,\n",
      "        0.20749542, -0.0082858 , -0.02504883, -0.1283142 ,  0.00087734],\n",
      "      dtype=float32), array([[-3.31079572e-01, -4.59456205e-01, -3.40717643e-01,\n",
      "         2.42583454e-01,  2.77322203e-01, -3.52521867e-01,\n",
      "         2.04067469e-01, -4.08889860e-01, -1.15028076e-01,\n",
      "        -2.99965441e-01],\n",
      "       [ 3.29067081e-01,  2.75534362e-01,  4.00557183e-04,\n",
      "        -3.50565970e-01, -2.80836225e-01,  3.57984275e-01,\n",
      "         2.78261572e-01,  6.85435981e-02,  1.53879747e-01,\n",
      "        -1.79770887e-01],\n",
      "       [-2.08122030e-01,  2.84734547e-01,  3.11483175e-01,\n",
      "         3.45090508e-01, -1.09156422e-01,  1.73945889e-01,\n",
      "         3.50394219e-01, -1.27608135e-01, -1.61274910e-01,\n",
      "        -2.59222567e-01],\n",
      "       [ 9.82624386e-03, -2.65814185e-01,  2.23791212e-01,\n",
      "        -9.51716751e-02, -9.55537311e-04, -3.46178353e-01,\n",
      "        -2.95005739e-01, -2.25996211e-01,  5.67847155e-02,\n",
      "         4.79347438e-01],\n",
      "       [ 7.54306372e-03,  1.19942516e-01, -4.14004445e-01,\n",
      "         2.90533155e-02,  4.27959621e-01,  7.32128844e-02,\n",
      "         2.98655063e-01, -2.53161520e-01,  4.21308637e-01,\n",
      "         2.48970255e-01],\n",
      "       [ 1.00206397e-01,  4.86388877e-02,  1.46577805e-01,\n",
      "        -9.75977778e-02,  4.41206008e-01, -1.55932218e-01,\n",
      "         1.12848587e-01, -2.73608208e-01, -7.32574686e-02,\n",
      "         8.36696252e-02],\n",
      "       [ 2.78978050e-02,  6.09022193e-02, -4.20501262e-01,\n",
      "        -3.48939560e-02,  9.67473984e-02, -3.32253873e-01,\n",
      "        -3.02414279e-02, -3.44394594e-01,  1.69128716e-01,\n",
      "        -7.50329942e-02],\n",
      "       [ 2.48556510e-01,  3.81616801e-01,  3.10619324e-01,\n",
      "         9.50330272e-02,  6.13399819e-02,  3.94288860e-02,\n",
      "        -1.98904961e-01,  2.23952591e-01,  2.96761632e-01,\n",
      "        -2.79234707e-01],\n",
      "       [-3.83068740e-01, -1.18568234e-01, -3.01965445e-01,\n",
      "         3.79886962e-02,  3.60049665e-01, -1.54479325e-01,\n",
      "         4.49977010e-01, -2.01442927e-01, -2.23655984e-01,\n",
      "         1.34859443e-01],\n",
      "       [-1.59360073e-03, -7.55997598e-02, -8.84872570e-04,\n",
      "        -3.57442498e-01, -1.56320363e-01,  1.37389854e-01,\n",
      "         3.75924081e-01, -9.10022557e-02, -1.41715258e-01,\n",
      "        -2.49929354e-01],\n",
      "       [-1.98645562e-01, -1.31308749e-01, -2.93894541e-02,\n",
      "         5.13632484e-02, -3.59519660e-01, -3.07438582e-01,\n",
      "        -2.93736964e-01,  1.25862122e-01, -3.96570176e-01,\n",
      "        -3.23232800e-01],\n",
      "       [ 2.36780301e-01, -1.45189837e-01, -3.54561746e-01,\n",
      "        -1.01518333e-01,  3.33462805e-01,  1.20532230e-01,\n",
      "         1.20629184e-01,  2.44735181e-01,  2.10187972e-01,\n",
      "         3.21157783e-01],\n",
      "       [-4.31329235e-02, -2.36948282e-01,  2.29279742e-01,\n",
      "         1.29628390e-01, -1.56140417e-01, -2.49354541e-01,\n",
      "         2.24394068e-01,  2.91912675e-01,  1.45749822e-01,\n",
      "         2.57279843e-01],\n",
      "       [ 2.40171269e-01,  3.15953940e-01, -6.69130683e-03,\n",
      "         1.52930990e-01,  2.19871014e-01, -4.60799746e-02,\n",
      "         3.28408211e-01, -3.24561715e-01,  2.73730397e-01,\n",
      "        -9.21392962e-02],\n",
      "       [ 7.02881142e-02, -3.18109959e-01,  1.44609660e-01,\n",
      "         8.10377523e-02, -2.59334117e-01, -2.65560802e-02,\n",
      "        -3.29404205e-01, -2.14883089e-02,  1.78818092e-01,\n",
      "        -3.02009322e-02],\n",
      "       [ 3.33308339e-01, -1.55191258e-01, -4.15238261e-01,\n",
      "         2.48144776e-01, -3.20834517e-01, -2.52822042e-01,\n",
      "         2.28303611e-01, -3.87276411e-01,  5.48058510e-01,\n",
      "         5.00510037e-01],\n",
      "       [-2.46355250e-01,  3.01075697e-01, -1.23732530e-01,\n",
      "         5.01294807e-02, -2.33283043e-01,  4.06969666e-01,\n",
      "         1.33273184e-01, -3.57325822e-01, -2.67854393e-01,\n",
      "         3.94986458e-02],\n",
      "       [-4.26643461e-01,  1.89962849e-01, -6.79735467e-02,\n",
      "        -3.33739609e-01, -1.29237682e-01, -2.96599984e-01,\n",
      "        -1.63672566e-01,  3.83272886e-01, -1.01165377e-01,\n",
      "         3.58483583e-01],\n",
      "       [ 1.85522899e-01,  3.45584512e-01,  4.02104110e-01,\n",
      "        -5.16452231e-02,  1.94022909e-01,  6.30064979e-02,\n",
      "         1.54613301e-01,  1.61408991e-01, -3.71668041e-01,\n",
      "        -3.97907227e-01],\n",
      "       [ 9.67664570e-02,  6.37924625e-03,  3.79807539e-02,\n",
      "        -1.00905336e-01,  6.41877577e-02,  2.01081544e-01,\n",
      "         2.29103550e-01,  2.43402459e-02,  1.31762832e-01,\n",
      "         3.27958725e-02]], dtype=float32), array([ 0.        , -0.2085907 ,  0.        ,  0.04456798, -0.09593673,\n",
      "        0.        , -0.03160935,  0.        ,  0.17239818,  0.12631159],\n",
      "      dtype=float32), array([[ 0.11877163,  0.35128942, -0.18299738],\n",
      "       [-0.5014248 ,  0.59075075, -0.49214634],\n",
      "       [ 0.28141797, -0.1305206 , -0.1219383 ],\n",
      "       [ 0.61122346,  0.16966408, -0.45408276],\n",
      "       [-0.72123   ,  0.23569514,  0.63688046],\n",
      "       [-0.40470165,  0.08055693, -0.37146413],\n",
      "       [ 0.21392424,  0.4399961 , -0.07551911],\n",
      "       [-0.11542994,  0.44083422,  0.25013226],\n",
      "       [ 0.69833726, -0.00865555,  0.4275423 ],\n",
      "       [ 0.60359716, -0.12007624,  0.25403816]], dtype=float32), array([ 0.20179343, -0.12133674,  0.11003722], dtype=float32)]\n",
      "************************************************\n",
      "Activating Last layer\n",
      "Set parameter LogFile to value \"/tmp/tmpt736hel2.log\"\n",
      "Set parameter TimeLimit to value 3600\n",
      "Set parameter MIPGap to value 0.001\n",
      "Gurobi Optimizer version 9.5.0 build v9.5.0rc5 (linux64)\n",
      "Thread count: 10 physical cores, 20 logical processors, using up to 20 threads\n",
      "Optimize a model with 3426 rows, 1714 columns and 11052 nonzeros\n",
      "Model fingerprint: 0xa1bc75bf\n",
      "Model has 630 quadratic objective terms\n",
      "Variable types: 664 continuous, 1050 integer (1050 binary)\n",
      "Coefficient statistics:\n",
      "  Matrix range     [1e-02, 1e+01]\n",
      "  Objective range  [9e-01, 9e+00]\n",
      "  QObjective range [2e+00, 2e+00]\n",
      "  Bounds range     [1e+00, 1e+01]\n",
      "  RHS range        [9e-03, 1e+01]\n",
      "Presolve removed 864 rows and 222 columns\n",
      "Presolve time: 0.04s\n",
      "Presolved: 2562 rows, 1492 columns, 12684 nonzeros\n",
      "Presolved model has 630 quadratic objective terms\n",
      "Variable types: 652 continuous, 840 integer (840 binary)\n",
      "Found heuristic solution: objective 355.2055638\n",
      "Found heuristic solution: objective 255.0342716\n",
      "\n",
      "Root relaxation: objective 8.890610e+00, 2040 iterations, 0.09 seconds (0.13 work units)\n",
      "\n",
      "    Nodes    |    Current Node    |     Objective Bounds      |     Work\n",
      " Expl Unexpl |  Obj  Depth IntInf | Incumbent    BestBd   Gap | It/Node Time\n",
      "\n",
      "     0     0    8.89061    0  355  255.03427    8.89061  96.5%     -    0s\n",
      "     0     0    8.89061    0  370  255.03427    8.89061  96.5%     -    0s\n",
      "     0     0    8.89061    0  376  255.03427    8.89061  96.5%     -    0s\n",
      "     0     0    8.89061    0  388  255.03427    8.89061  96.5%     -    0s\n",
      "     0     0    8.89061    0  365  255.03427    8.89061  96.5%     -    0s\n",
      "     0     0    8.89061    0  365  255.03427    8.89061  96.5%     -    0s\n",
      "     0     0    8.89061    0  365  255.03427    8.89061  96.5%     -    0s\n",
      "     0     0    8.89061    0  367  255.03427    8.89061  96.5%     -    0s\n",
      "     0     0    8.89061    0  370  255.03427    8.89061  96.5%     -    0s\n",
      "     0     2    8.89061    0  370  255.03427    8.89061  96.5%     -    0s\n",
      "H  494   306                     254.8002642    8.89061  96.5%   8.9    1s\n",
      "H  499   306                     254.7993054    8.89061  96.5%   8.9    1s\n"
     ]
    },
    {
     "name": "stdout",
     "output_type": "stream",
     "text": [
      "H  502   306                     254.7838042    8.89061  96.5%   8.8    1s\n",
      "H 1372   702                     251.6154432    8.89061  96.5%   9.0    1s\n",
      "H 2004   951                     251.4141243    8.89061  96.5%  15.9    4s\n",
      "H 2007   905                     251.1195352    8.89061  96.5%  15.9    4s\n",
      "H 2056   883                     250.9302813    8.89061  96.5%  16.9    5s\n",
      "H 2058   841                     239.9185932    8.89061  96.3%  16.9    5s\n",
      "H 2061   802                     238.8376438    8.89061  96.3%  16.9    5s\n",
      "H 2067   763                     231.7321875    8.89061  96.2%  17.1    5s\n",
      "H 2080   736                     230.7191724    8.89061  96.1%  17.3    6s\n",
      "H 2090   700                     230.6535312    8.89061  96.1%  17.4    6s\n",
      "H 3105   751                     230.5580060    8.89061  96.1%  18.2    7s\n",
      "H 3107   721                     230.5580058    8.89061  96.1%  18.2    7s\n",
      "H 3925   887                     230.3373406    8.89061  96.1%  18.3    8s\n",
      "H 3946   887                     230.1698860    8.89061  96.1%  18.3    8s\n",
      "H 3950   887                     230.0270987    8.89061  96.1%  18.3    8s\n",
      "* 7691  2811             266     229.9401239    8.89061  96.1%  15.2    9s\n",
      "* 7874  2838             266     229.9251493    8.89061  96.1%  15.3    9s\n",
      "  9496  3458  220.32180   64  289  229.92515    9.36644  95.9%  15.6   10s\n",
      "H11247  3981                     229.2282970   10.20392  95.5%  15.8   11s\n",
      "H11248  3971                     229.1078784   10.20392  95.5%  15.8   11s\n",
      "H11249  3964                     229.0603936   10.20392  95.5%  15.8   11s\n",
      "H11253  3918                     228.2170865   10.20392  95.5%  15.8   11s\n",
      "H11254  3908                     228.0259436   10.20392  95.5%  15.8   11s\n",
      "H11255  3801                     226.9956111   10.20392  95.5%  15.8   11s\n",
      "H11269  3799                     226.9210492   10.20392  95.5%  15.8   11s\n",
      " 13796  4773   11.00152   41  323  226.92105   10.20392  95.5%  15.9   15s\n",
      " 27862  6152     cutoff   57       226.92105   18.49111  91.9%  15.6   20s\n",
      " 45290  9958     cutoff   85       226.92105   53.40380  76.5%  15.7   25s\n",
      " 47256  9959  203.35997   54  370  226.92105   53.48348  76.4%  15.7   33s\n",
      " 47268  9967  193.47046   51  437  226.92105   53.48348  76.4%  15.7   35s\n",
      " 48301 10034   63.76144   42  296  226.92105   54.30394  76.1%  16.0   40s\n",
      " 63860  9707     cutoff   54       226.92105   91.52230  59.7%  16.1   45s\n",
      " 65443  9369   97.65145   88  260  226.92105   91.52230  59.7%  16.1   50s\n",
      " 77212  8049     cutoff   85       226.92105  107.16672  52.8%  15.7   55s\n",
      " 95247 11544  158.37822   74  297  226.92105  124.95319  44.9%  15.6   60s\n",
      " 114535 13955  212.58470   61  234  226.92105  152.53705  32.8%  15.3   65s\n",
      " 134763 15130  206.92702   84  221  226.92105  175.09427  22.8%  14.8   70s\n",
      " 153428 16579  198.25805   70  343  226.92105  196.51534  13.4%  14.1   75s\n",
      " 174275 19903  220.79148   98  144  226.92105  205.88228  9.27%  13.3   80s\n",
      " 193554 23014  213.02223   97  260  226.92105  209.18591  7.82%  12.7   85s\n",
      " 213285 24094  218.77267   88  184  226.92105  212.00152  6.57%  12.2   90s\n",
      " 236463 22961  216.81474  127  253  226.92105  214.38670  5.52%  11.7   95s\n",
      " 256565 22070  220.48404  113  220  226.92105  216.49269  4.60%  11.3  100s\n",
      " 275537 20885  218.48840  117  253  226.92105  217.93750  3.96%  11.0  105s\n",
      " 293765 18923     cutoff   92       226.92105  219.25917  3.38%  10.7  110s\n",
      " 314391 15033  224.30895  116  214  226.92105  221.65615  2.32%  10.4  115s\n",
      " 335115 10043  223.93947  110  137  226.92105  223.93340  1.32%  10.1  120s\n",
      " 345920  7018     cutoff   86       226.92105  224.91520  0.88%   9.9  125s\n",
      " 367734     6  226.74213   95  139  226.92105  226.57671  0.15%   9.6  130s\n",
      "\n",
      "Cutting planes:\n",
      "  Gomory: 123\n",
      "  Clique: 10\n",
      "  MIR: 6\n",
      "  StrongCG: 97\n",
      "  Flow cover: 33\n",
      "  Zero half: 5\n",
      "\n",
      "Explored 368846 nodes (3535808 simplex iterations) in 130.09 seconds (178.32 work units)\n",
      "Thread count was 20 (of 20 available processors)\n",
      "\n",
      "Solution count 10: 226.921 226.996 228.026 ... 230.027\n",
      "\n",
      "Optimal solution found (tolerance 1.00e-03)\n",
      "Best objective 2.269210492271e+02, best bound 2.269208108803e+02, gap 0.0001%\n",
      "Set parameter LogFile to value \"\"\n",
      "dw : Size=1, Index=None\n",
      "    Key  : Lower : Value : Upper : Fixed : Stale : Domain\n",
      "    None :     0 :   1.0 :     1 : False : False : NonNegativeReals\n",
      "None\n",
      "weight_error: 1.0\n",
      "bias_error: 1.0\n"
     ]
    }
   ],
   "source": [
    "\n",
    "layer_to_repair = 3\n",
    "train_dataset = (x_train, y_train)\n",
    "\n",
    "weight_slack = 1\n",
    "time_limit = 3600\n",
    "mip_gap = 0.05\n",
    "options = Options('gdp.bigm', 'gurobi', \"python\", \"keras\", weight_slack, time_limit, mip_gap)\n",
    "\n",
    "results = perform_repair(layer_to_repair, model_orig, architecture, output_constraint_list, squared_sum, train_dataset, options)\n",
    "\n",
    "\n",
    "y_new_train = results.new_model.predict(x_train)\n",
    "y_new_test = results.new_model.predict(x_test)\n",
    "\n",
    "\n",
    "y_train_original = model_orig.predict(x_train)\n",
    "y_test_original = model_orig.predict(x_test)\n",
    "\n",
    "print(\"weight_error: {}\".format(results.weight_error))\n",
    "print(\"bias_error: {}\".format(results.bias_error))\n",
    "\n"
   ]
  },
  {
   "cell_type": "markdown",
   "metadata": {},
   "source": [
    "# Plot the Outputs"
   ]
  },
  {
   "cell_type": "code",
   "execution_count": 9,
   "metadata": {},
   "outputs": [],
   "source": [
    "def plot_model(model, x_true, y_true, arg):\n",
    "    y_predict = model.predict(x_true)\n",
    "    \n",
    "    ## training output\n",
    "    plt.plot(y_true[:,0], y_true[:,1], 'ro', label='Original Samples')\n",
    "\n",
    "    ## predicted output\n",
    "    plt.plot(y_predict[:,0], y_predict[:,1], 'ko', label='Predicted Output')\n",
    "    plt.title(arg)\n",
    "    plt.xlabel('x')\n",
    "    plt.ylabel('y')\n",
    "    plt.legend(loc=\"upper left\")\n",
    "    plt.show()\n",
    "    return y_predict\n",
    "\n"
   ]
  },
  {
   "cell_type": "code",
   "execution_count": 10,
   "metadata": {},
   "outputs": [
    {
     "name": "stdout",
     "output_type": "stream",
     "text": [
      "(210, 3)\n"
     ]
    },
    {
     "data": {
      "image/png": "[encoded data removed]",
      "text/plain": [
       "<Figure size 432x288 with 1 Axes>"
      ]
     },
     "metadata": {
      "needs_background": "light"
     },
     "output_type": "display_data"
    },
    {
     "name": "stdout",
     "output_type": "stream",
     "text": [
      "(210, 3)\n"
     ]
    },
    {
     "data": {
      "image/png": "[encoded data removed]",
      "text/plain": [
       "<Figure size 432x288 with 1 Axes>"
      ]
     },
     "metadata": {
      "needs_background": "light"
     },
     "output_type": "display_data"
    },
    {
     "name": "stdout",
     "output_type": "stream",
     "text": [
      "WARNING:tensorflow:Compiled the loaded model, but the compiled metrics have yet to be built. `model.compile_metrics` will be empty until you train or evaluate the model.\n"
     ]
    },
    {
     "name": "stderr",
     "output_type": "stream",
     "text": [
      "2022-02-23 14:07:30.937373: W tensorflow/python/util/util.cc:368] Sets are not currently considered sequences, but this may change in the future, so consider avoiding using them.\n"
     ]
    },
    {
     "name": "stdout",
     "output_type": "stream",
     "text": [
      "INFO:tensorflow:Assets written to: repaired_affine_transform_layer3/assets\n"
     ]
    }
   ],
   "source": [
    "num_pts = 200\n",
    "## polygon vertices\n",
    "poly = Polygon([(1, 1), (4, 1), (4, 4), (1, 4)])\n",
    "poly2 = Polygon([(2.5, 4.621), (4.624, 2.5), (2.5, 0.3787), (0.3787, 2.5)])  # transformed polygon vertices\n",
    "x_poly, y_poly = poly.exterior.xy\n",
    "x_poly2, y_poly2 = poly2.exterior.xy\n",
    "x_poly3, y_poly3 = poly3.exterior.xy\n",
    "print(x_train.shape)\n",
    "plt.plot(x_train[:,0], x_train[:,1], 'bo', label='Training samples')\n",
    "plt.plot(y_train_original[:,0], y_train_original[:,1], 'ro', label='Original Model ouput')\n",
    "plt.plot(x_poly, y_poly, color='blue', alpha=0.7, linewidth=3, solid_capstyle='round', zorder=2, label='Input Set')\n",
    "plt.plot(x_poly2, y_poly2, color='red', alpha=0.7, linewidth=3, solid_capstyle='round', zorder=2, label='Target Set')\n",
    "plt.plot(x_poly3, y_poly3, color='green', alpha=0.7, linewidth=3, solid_capstyle='round', zorder=2, label='Target Set')\n",
    "plt.plot(x_poly_out, y_poly_out, color = 'yellow', alpha=0.7, linewidth=3, solid_capstyle='round', zorder=2, label = \"Bad Region\")\n",
    "plt.plot(y_new_train[:,0], y_new_train[:,1], 'yo', label='Repaired Model Ouptut')\n",
    "plt.legend(loc=\"upper left\")\n",
    "plt.show()\n",
    "\n",
    "num_pts = 200\n",
    "## polygon vertices\n",
    "poly = Polygon([(1, 1), (4, 1), (4, 4), (1, 4)])\n",
    "poly2 = Polygon([(2.5, 4.621), (4.624, 2.5), (2.5, 0.3787), (0.3787, 2.5)])  # transformed polygon vertices\n",
    "x_poly, y_poly = poly.exterior.xy\n",
    "x_poly2, y_poly2 = poly2.exterior.xy\n",
    "x_poly3, y_poly3 = poly3.exterior.xy\n",
    "print(x_train.shape)\n",
    "plt.plot(x_test[:,0], x_test[:,1], 'bo', label='Training samples')\n",
    "plt.plot(y_test_original[:,0], y_test_original[:,1], 'ro', label='Original Model ouput')\n",
    "plt.plot(x_poly, y_poly, color='blue', alpha=0.7, linewidth=3, solid_capstyle='round', zorder=2, label='Input Set')\n",
    "plt.plot(x_poly2, y_poly2, color='red', alpha=0.7, linewidth=3, solid_capstyle='round', zorder=2, label='Target Set')\n",
    "plt.plot(x_poly3, y_poly3, color='green', alpha=0.7, linewidth=3, solid_capstyle='round', zorder=2, label='Target Set')\n",
    "plt.plot(x_poly_out, y_poly_out, color = 'yellow', alpha=0.7, linewidth=3, solid_capstyle='round', zorder=2, label = \"Bad Region\")\n",
    "plt.plot(y_new_test[:,0], y_new_test[:,1], 'yo', label='Repaired Model Ouptut')\n",
    "plt.legend(loc=\"upper left\")\n",
    "plt.show()\n",
    "\n",
    "results.new_model.save(\"repaired_affine_transform_layer{}\".format(layer_to_repair), '/home/daittan/NN-Repair/NN-Repair/')\n"
   ]
  },
  {
   "cell_type": "code",
   "execution_count": null,
   "metadata": {},
   "outputs": [],
   "source": []
  },
  {
   "cell_type": "code",
   "execution_count": null,
   "metadata": {},
   "outputs": [],
   "source": []
  }
 ],
 "metadata": {
  "interpreter": {
   "hash": "31f2aee4e71d21fbe5cf8b01ff0e069b9275f58929596ceb00d14d90e3e16cd6"
  },
  "kernelspec": {
   "display_name": "Python 3 (ipykernel)",
   "language": "python",
   "name": "python3"
  },
  "language_info": {
   "codemirror_mode": {
    "name": "ipython",
    "version": 3
   },
   "file_extension": ".py",
   "mimetype": "text/x-python",
   "name": "python",
   "nbconvert_exporter": "python",
   "pygments_lexer": "ipython3",
   "version": "3.8.5"
  }
 },
 "nbformat": 4,
 "nbformat_minor": 2
}
