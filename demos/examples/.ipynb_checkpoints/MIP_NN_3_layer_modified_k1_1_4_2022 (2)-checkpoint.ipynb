{
 "cells": [
  {
   "cell_type": "code",
   "execution_count": 145,
   "metadata": {},
   "outputs": [],
   "source": [
    "import numpy as np\n",
    "import os\n",
    "import sys\n",
    "from pprint import pprint\n",
    "from numpy import sin, cos, pi\n",
    "import numpy.matlib\n",
    "import random\n",
    "from matplotlib import pyplot as plt\n",
    "from shapely.geometry import Polygon, Point\n",
    "import shapely.affinity as affinity\n",
    "import tensorflow as tf\n",
    "from tensorflow import keras\n",
    "from tensorflow.keras import layers, regularizers\n",
    "from sklearn.model_selection import train_test_split\n",
    "import pyomo.environ as pyo\n",
    "import pyomo.gdp as pyg\n",
    "from pyomo.gdp import *\n",
    "from scipy.spatial import ConvexHull\n",
    "#tf.disable_v2_behavior()  # this line is added to allow placeholder() function to work (does not work in tf2)"
   ]
  },
  {
   "cell_type": "code",
   "execution_count": 146,
   "metadata": {},
   "outputs": [
    {
     "ename": "IndexError",
     "evalue": "list index out of range",
     "output_type": "error",
     "traceback": [
      "\u001b[0;31m---------------------------------------------------------------------------\u001b[0m",
      "\u001b[0;31mIndexError\u001b[0m                                Traceback (most recent call last)",
      "\u001b[0;32m/var/folders/7v/7wknzt0d797gn2p62b8394yc0000gn/T/ipykernel_3275/1295225995.py\u001b[0m in \u001b[0;36m<module>\u001b[0;34m\u001b[0m\n\u001b[1;32m      1\u001b[0m \u001b[0mphysical_devices\u001b[0m \u001b[0;34m=\u001b[0m \u001b[0mtf\u001b[0m\u001b[0;34m.\u001b[0m\u001b[0mconfig\u001b[0m\u001b[0;34m.\u001b[0m\u001b[0mlist_physical_devices\u001b[0m\u001b[0;34m(\u001b[0m\u001b[0;34m'GPU'\u001b[0m\u001b[0;34m)\u001b[0m\u001b[0;34m\u001b[0m\u001b[0;34m\u001b[0m\u001b[0m\n\u001b[0;32m----> 2\u001b[0;31m \u001b[0mtf\u001b[0m\u001b[0;34m.\u001b[0m\u001b[0mconfig\u001b[0m\u001b[0;34m.\u001b[0m\u001b[0mexperimental\u001b[0m\u001b[0;34m.\u001b[0m\u001b[0mset_memory_growth\u001b[0m\u001b[0;34m(\u001b[0m\u001b[0mphysical_devices\u001b[0m\u001b[0;34m[\u001b[0m\u001b[0;36m0\u001b[0m\u001b[0;34m]\u001b[0m\u001b[0;34m,\u001b[0m \u001b[0;32mTrue\u001b[0m\u001b[0;34m)\u001b[0m\u001b[0;34m\u001b[0m\u001b[0;34m\u001b[0m\u001b[0m\n\u001b[0m",
      "\u001b[0;31mIndexError\u001b[0m: list index out of range"
     ]
    }
   ],
   "source": [
    "physical_devices = tf.config.list_physical_devices('GPU') \n",
    "tf.config.experimental.set_memory_growth(physical_devices[0], True)"
   ]
  },
  {
   "cell_type": "markdown",
   "metadata": {},
   "source": [
    "#  Generate Data\n"
   ]
  },
  {
   "cell_type": "markdown",
   "metadata": {},
   "source": [
    "## Training/Testing Data "
   ]
  },
  {
   "cell_type": "markdown",
   "metadata": {},
   "source": [
    "#### Create Data "
   ]
  },
  {
   "cell_type": "code",
   "execution_count": 147,
   "metadata": {},
   "outputs": [],
   "source": [
    "x = np.linspace(0,4,200) \n",
    "y = np.stack([np.array([np.exp(-0.5*x[i])*np.sin(x[i]),np.exp(-0.7*x[i])*np.cos(x[i])]) + np.random.normal(0,0.005,1) for i in range(x.shape[0])],axis = 0)"
   ]
  },
  {
   "cell_type": "code",
   "execution_count": 148,
   "metadata": {},
   "outputs": [
    {
     "data": {
      "image/png": "[encoded data removed]",
      "text/plain": [
       "<Figure size 432x288 with 1 Axes>"
      ]
     },
     "metadata": {
      "needs_background": "light"
     },
     "output_type": "display_data"
    }
   ],
   "source": [
    "plt.scatter(y[:,0],y[:,1])\n",
    "plt.show()"
   ]
  },
  {
   "cell_type": "markdown",
   "metadata": {},
   "source": [
    "#### Safe Bound"
   ]
  },
  {
   "cell_type": "code",
   "execution_count": 149,
   "metadata": {},
   "outputs": [],
   "source": [
    "poly3 = Polygon([(.45, .1), (.45, .25), (.55, .25), (.55, .1)])\n",
    "\n",
    "# get the coordinates of the exterior points of the polytope\n",
    "ex_points = np.array(poly3.exterior.coords)\n",
    "\n",
    "# get A and b matrices: A*x <= b\n",
    "hull = ConvexHull(ex_points)\n",
    "eqs = np.array(hull.equations)\n",
    "A = eqs[0:eqs.shape[0],0:eqs.shape[1]-1]  \n",
    "b = -eqs[0:eqs.shape[0],-1]"
   ]
  },
  {
   "cell_type": "code",
   "execution_count": 150,
   "metadata": {},
   "outputs": [
    {
     "data": {
      "image/png": "[encoded data removed]",
      "text/plain": [
       "<Figure size 432x288 with 1 Axes>"
      ]
     },
     "metadata": {
      "needs_background": "light"
     },
     "output_type": "display_data"
    }
   ],
   "source": [
    "x_poly3, y_poly3 = poly3.exterior.xy\n",
    "plt.scatter(y[:,0],y[:,1])\n",
    "plt.plot(x_poly3, y_poly3, color='red', alpha=0.7, linewidth=3, solid_capstyle='round', zorder=2, label='Target Set')\n",
    "plt.ylim(-.2,1.1)\n",
    "plt.xlim(-.2,0.7)\n",
    "plt.show()"
   ]
  },
  {
   "cell_type": "markdown",
   "metadata": {},
   "source": [
    "#### Training Mini-Batch Generator"
   ]
  },
  {
   "cell_type": "code",
   "execution_count": 151,
   "metadata": {},
   "outputs": [
    {
     "name": "stdout",
     "output_type": "stream",
     "text": [
      "(200,)\n"
     ]
    }
   ],
   "source": [
    "print(x.shape)"
   ]
  },
  {
   "cell_type": "code",
   "execution_count": 152,
   "metadata": {},
   "outputs": [],
   "source": [
    "class Batch(object):\n",
    "    def __init__(self, X_col, Y_col, batch_size_val):\n",
    "        self.X = X_col\n",
    "        self.Y = Y_col\n",
    "        self.size = X_col.shape[0]\n",
    "        self.train_size = batch_size_val\n",
    "        self.test_size = self.size - batch_size_val\n",
    "\n",
    "    def getBatch(self):\n",
    "        values = range(self.size)\n",
    "        train_dataset, test_dataset = train_test_split(values, train_size=self.train_size, test_size=self.test_size)\n",
    "        # indices = np.random.choice(range(self.size), self.batch_size)  # sampling with replacement\n",
    "        return self.X[train_dataset], self.Y[train_dataset,:], self.X[test_dataset], self.Y[test_dataset,:]\n",
    "num_pts = x.shape[0]\n",
    "batch_size = int(0.7 * num_pts)\n",
    "batch = Batch(x, y, batch_size)"
   ]
  },
  {
   "cell_type": "markdown",
   "metadata": {},
   "source": [
    "# 3-Layer NN"
   ]
  },
  {
   "cell_type": "markdown",
   "metadata": {},
   "source": [
    "## Build 3-Layer NN Model"
   ]
  },
  {
   "cell_type": "markdown",
   "metadata": {},
   "source": [
    "Here we setup a 3-layer MLP, with the single hidden layer of ReLU activation and train it with gradient descent optimizer to learn the defined affine transformation from the given data. \n",
    "$$\n",
    "\\min_{\\mathbf{W}^0,\\mathbf{W}^1,\\mathbf{W}^2,\\mathbf{b}^0,\\mathbf{b}^1,\\mathbf{b}^2}~~\\frac{1}{2}\\sum^{N}_{n=1}|| \\mathbf{y}(\\mathbf{x}^0_n,\\mathbf{W}^0,\\mathbf{W}^1,\\mathbf{b}^0,\\mathbf{b}^1)-\\mathbf{t}_n||^2_2\n",
    "$$\n",
    "$$\n",
    "\\mathbf{W}^0 \\mathbf{x}^0 + \\mathbf{b}^0 = \\mathbf{h}^0\n",
    "$$\n",
    "$$\n",
    "\\mathbf{x}^1 = \\mathrm{ReLU} (\\mathbf{h}^0)\n",
    "$$\n",
    "$$\n",
    "\\mathbf{W}^1 \\mathbf{x}^1 + \\mathbf{b}^1 = \\mathbf{h}^1\n",
    "$$\n",
    "$$\n",
    "\\mathbf{x}^2 = \\mathrm{ReLU} (\\mathbf{h}^1)\n",
    "$$\n",
    "$$\n",
    "\\mathbf{W}^2 \\mathbf{x}^2 + \\mathbf{b}^2 = \\mathbf{y}\n",
    "$$"
   ]
  },
  {
   "cell_type": "markdown",
   "metadata": {},
   "source": [
    "#### Initializing Parameters for MLP Model"
   ]
  },
  {
   "cell_type": "code",
   "execution_count": 153,
   "metadata": {},
   "outputs": [
    {
     "name": "stdout",
     "output_type": "stream",
     "text": [
      "Model: \"3_layer_NN\"\n",
      "_________________________________________________________________\n",
      "Layer (type)                 Output Shape              Param #   \n",
      "=================================================================\n",
      "layer0 (Dense)               (None, 10)                20        \n",
      "_________________________________________________________________\n",
      "layer1 (Dense)               (None, 10)                110       \n",
      "_________________________________________________________________\n",
      "output (Dense)               (None, 2)                 22        \n",
      "=================================================================\n",
      "Total params: 152\n",
      "Trainable params: 152\n",
      "Non-trainable params: 0\n",
      "_________________________________________________________________\n",
      "[<tf.Variable 'layer0/kernel:0' shape=(1, 10) dtype=float32, numpy=\n",
      "array([[-0.22827643, -0.11425728,  0.5060862 , -0.00824934, -0.23097807,\n",
      "         0.1799953 ,  0.47166055,  0.5400432 ,  0.1062488 , -0.05955684]],\n",
      "      dtype=float32)>, <tf.Variable 'layer0/bias:0' shape=(10,) dtype=float32, numpy=array([0., 0., 0., 0., 0., 0., 0., 0., 0., 0.], dtype=float32)>]\n",
      "<tf.Variable 'layer0/kernel:0' shape=(1, 10) dtype=float32, numpy=\n",
      "array([[-0.22827643, -0.11425728,  0.5060862 , -0.00824934, -0.23097807,\n",
      "         0.1799953 ,  0.47166055,  0.5400432 ,  0.1062488 , -0.05955684]],\n",
      "      dtype=float32)>\n"
     ]
    }
   ],
   "source": [
    "num_input = 1\n",
    "num_output = 2\n",
    "#num_layers_0 = 3\n",
    "num_hidden_0 = 10\n",
    "num_hidden_1 = 10\n",
    "architecture = [num_input, num_hidden_0, num_hidden_1, num_output]\n",
    "starter_learning_rate = 0.0005\n",
    "regularizer_rate = 0.01\n",
    "\n",
    "#Create the 3 layers model\n",
    "# Define Sequential model with 3 layers\n",
    "model_orig = keras.Sequential(name=\"3_layer_NN\")\n",
    "model_orig.add(layers.Dense(num_hidden_0,\n",
    "                            activation=\"relu\",\n",
    "                            kernel_regularizer = regularizers.l2(regularizer_rate),\n",
    "                            bias_regularizer = regularizers.l2(regularizer_rate),\n",
    "                            input_shape=(num_input,),\n",
    "                            name=\"layer0\"))\n",
    "#model_orig.add(layers.Dropout(0.01))\n",
    "model_orig.add(layers.Dense(num_hidden_1,\n",
    "                            activation=\"relu\",\n",
    "                            kernel_regularizer = regularizers.l2(regularizer_rate),\n",
    "                            bias_regularizer = regularizers.l2(regularizer_rate),\n",
    "                            name=\"layer1\"))\n",
    "#model_orig.add(layers.Dropout(0.01))\n",
    "model_orig.add(layers.Dense(num_output,\n",
    "                            kernel_regularizer = regularizers.l2(regularizer_rate),\n",
    "                            bias_regularizer = regularizers.l2(regularizer_rate), \n",
    "                            name=\"output\"))\n",
    "\n",
    "model_orig.summary()\n",
    "print(model_orig.layers[0].weights)\n",
    "print(model_orig.layers[0].kernel)"
   ]
  },
  {
   "cell_type": "markdown",
   "metadata": {},
   "source": [
    "#### Train the model"
   ]
  },
  {
   "cell_type": "code",
   "execution_count": 154,
   "metadata": {},
   "outputs": [],
   "source": [
    "import tensorflow.keras.backend as kb\n",
    "#define costum loss function\n",
    "def keras_SSE_costum(y_actual, y_predicted):\n",
    "    err = y_actual - y_predicted\n",
    "    loss_value = kb.sum(kb.square(err))\n",
    "    return loss_value"
   ]
  },
  {
   "cell_type": "code",
   "execution_count": 155,
   "metadata": {},
   "outputs": [],
   "source": [
    "# define loss \n",
    "loss = keras.losses.MeanSquaredError(name='MSE')\n",
    "#loss = keras.losses.MeanSquaredLogarithmicError(name='MSLE')\n",
    "optimizer = keras.optimizers.SGD(learning_rate = starter_learning_rate, name='SGD')\n",
    "model_orig.compile(optimizer = optimizer,\n",
    "                   loss = keras_SSE_costum,\n",
    "                   metrics=['accuracy'])\n",
    "x_train, y_train, x_test, y_test = batch.getBatch()"
   ]
  },
  {
   "cell_type": "code",
   "execution_count": 156,
   "metadata": {},
   "outputs": [
    {
     "name": "stdout",
     "output_type": "stream",
     "text": [
      "Model Accuracy on Test Data Set\n",
      "2/2 - 0s - loss: 0.1261 - accuracy: 0.9833\n"
     ]
    },
    {
     "data": {
      "text/plain": [
       "[0.12607304751873016, 0.9833333492279053]"
      ]
     },
     "execution_count": 156,
     "metadata": {},
     "output_type": "execute_result"
    }
   ],
   "source": [
    "his = model_orig.fit(x_train, y_train, epochs=10000, use_multiprocessing = True, verbose = 0)\n",
    "print(\"Model Accuracy on Test Data Set\")\n",
    "model_orig.evaluate(x_test,  y_test, verbose=2)\n"
   ]
  },
  {
   "cell_type": "code",
   "execution_count": 157,
   "metadata": {},
   "outputs": [],
   "source": [
    "#w0_orig, b0_orig, w1_orig, b1_orig, w2_orig, b2_orig = s.run([weights_0, bias_0, weights_1, bias_1, weights_2, bias_2])\n",
    "w0_orig = model_orig.layers[0].kernel.numpy()\n",
    "b0_orig = model_orig.layers[0].bias.numpy()\n",
    "w1_orig = model_orig.layers[1].kernel.numpy()\n",
    "b1_orig = model_orig.layers[1].bias.numpy()\n",
    "w2_orig = model_orig.layers[2].kernel.numpy()\n",
    "b2_orig = model_orig.layers[2].bias.numpy()"
   ]
  },
  {
   "cell_type": "code",
   "execution_count": 158,
   "metadata": {},
   "outputs": [
    {
     "name": "stdout",
     "output_type": "stream",
     "text": [
      "(None, 10)\n",
      "(None, 10)\n",
      "(None, 2)\n"
     ]
    }
   ],
   "source": [
    "weights = []\n",
    "bias = []\n",
    "\n",
    "for iterate in model_orig.layers:\n",
    "    print(iterate.output_shape)\n",
    "    weights.append(iterate.kernel.numpy())\n",
    "    bias.append(iterate.bias.numpy())\n",
    "\n",
    "\n",
    "\n"
   ]
  },
  {
   "cell_type": "markdown",
   "metadata": {},
   "source": [
    "#### Plot Loss Function"
   ]
  },
  {
   "cell_type": "code",
   "execution_count": 159,
   "metadata": {},
   "outputs": [
    {
     "data": {
      "image/png": "[encoded data removed]",
      "text/plain": [
       "<Figure size 432x288 with 1 Axes>"
      ]
     },
     "metadata": {
      "needs_background": "light"
     },
     "output_type": "display_data"
    }
   ],
   "source": [
    "\n",
    "results_train_loss = his.history['loss']\n",
    "plt.plot(results_train_loss, color='red')\n",
    "plt.title('Loss Function Output')\n",
    "plt.xlabel('epoch')\n",
    "plt.ylabel('loss')\n",
    "plt.show()"
   ]
  },
  {
   "cell_type": "markdown",
   "metadata": {},
   "source": [
    "#### Plot Trained Model Ouput"
   ]
  },
  {
   "cell_type": "code",
   "execution_count": 160,
   "metadata": {},
   "outputs": [
    {
     "data": {
      "image/png": "[encoded data removed]",
      "text/plain": [
       "<Figure size 432x288 with 1 Axes>"
      ]
     },
     "metadata": {
      "needs_background": "light"
     },
     "output_type": "display_data"
    },
    {
     "data": {
      "image/png": "[encoded data removed]",
      "text/plain": [
       "<Figure size 432x288 with 1 Axes>"
      ]
     },
     "metadata": {
      "needs_background": "light"
     },
     "output_type": "display_data"
    }
   ],
   "source": [
    "def plot_model(model, x_true, y_true, arg):\n",
    "    y_predict = model_orig.predict(x_true)\n",
    "    \n",
    "    ## training output\n",
    "    plt.plot(y_true[:,0], y_true[:,1], 'ro', label='Original Samples')\n",
    "\n",
    "    ## predicted output\n",
    "    plt.plot(y_predict[:,0], y_predict[:,1], 'ko', label='Predicted Output')\n",
    "    plt.title(arg)\n",
    "    plt.xlabel('x')\n",
    "    plt.ylabel('y')\n",
    "    plt.legend(loc=\"upper left\")\n",
    "    plt.show()\n",
    "    return y_predict\n",
    "\n",
    "y_predict_train = plot_model(model_orig, x_train, y_train, arg='Trained Model - Training Data')\n",
    "y_predict_test = plot_model(model_orig, x_test, y_test, arg='Trained Model - Testing Data')"
   ]
  },
  {
   "cell_type": "markdown",
   "metadata": {},
   "source": [
    "### Replicate the Original NN"
   ]
  },
  {
   "cell_type": "markdown",
   "metadata": {},
   "source": [
    "#### Classes (NN with Numpy)"
   ]
  },
  {
   "cell_type": "code",
   "execution_count": 162,
   "metadata": {},
   "outputs": [],
   "source": [
    "class Dense:\n",
    "    def __init__(self, nin, nout):\n",
    "        self.weights = np.random.rand(nin, nout) * 2 - 1\n",
    "        self.bias = np.random.rand(nout) * 2 - 1\n",
    "        \n",
    "    def _relu(self, x):\n",
    "        return np.maximum(x, 0)\n",
    "    \n",
    "    def __call__(self, x, relu=False):\n",
    "        print(x.shape)\n",
    "        x = x @ self.weights + self.bias\n",
    "        if relu:\n",
    "            x = self._relu(x)\n",
    "            \n",
    "        return x\n",
    "\n",
    "    def set_variables(self, weights=None, bias=None):\n",
    "        if weights is not None:\n",
    "            self.weights[:] = weights[:]\n",
    "            \n",
    "        if bias is not None:\n",
    "            self.bias[:] = bias[:]\n",
    "            \n",
    "class MLP:\n",
    "    def __init__(self, nin, uout, uhidden):\n",
    "        self.num_layer = len(uhidden)+1\n",
    "        prev = nin\n",
    "        self.layers = []\n",
    "        for u in uhidden:\n",
    "            self.layers.append(Dense(prev, u))\n",
    "            prev = u\n",
    "        self.layers.append(Dense(prev, uout))\n",
    "        \n",
    "    def __call__(self, x, relu=False):\n",
    "        \n",
    "        if self.num_layer == 2:\n",
    "            x1 = self.layers[0](x, relu=True)\n",
    "            y = self.layers[1](x1, relu=relu)\n",
    "            return x1, y\n",
    "        \n",
    "        if self.num_layer == 3:\n",
    "            x1 = self.layers[0](x, relu=True)\n",
    "            x2 = self.layers[1](x1, relu=True)\n",
    "            y = self.layers[2](x2, relu=relu)\n",
    "            print(x.shape)\n",
    "            print(x1.shape)\n",
    "            print(x2.shape)\n",
    "            print(y.shape)\n",
    "            return x1, x2, y"
   ]
  },
  {
   "cell_type": "markdown",
   "metadata": {},
   "source": [
    "#### Reconstruct the Original NN to Obtain Diferrent Layer values given Input x0"
   ]
  },
  {
   "cell_type": "code",
   "execution_count": 163,
   "metadata": {},
   "outputs": [],
   "source": [
    "x_train = np.transpose(np.array([x_train]))\n",
    "x_test = np.transpose(np.array([x_test]))"
   ]
  },
  {
   "cell_type": "code",
   "execution_count": 164,
   "metadata": {},
   "outputs": [
    {
     "name": "stdout",
     "output_type": "stream",
     "text": [
      "(140, 1)\n",
      "(140, 10)\n",
      "(140, 10)\n",
      "(140, 1)\n",
      "(140, 10)\n",
      "(140, 10)\n",
      "(140, 2)\n",
      "(60, 1)\n",
      "(60, 10)\n",
      "(60, 10)\n",
      "(60, 1)\n",
      "(60, 10)\n",
      "(60, 10)\n",
      "(60, 2)\n"
     ]
    }
   ],
   "source": [
    "mlp_orig = MLP(num_input, num_output, [num_hidden_0, num_hidden_1])\n",
    "mlp_orig.layers[0].weights=w0_orig   \n",
    "mlp_orig.layers[1].weights=w1_orig  \n",
    "mlp_orig.layers[2].weights=w2_orig  \n",
    "mlp_orig.layers[0].bias=b0_orig\n",
    "mlp_orig.layers[1].bias=b1_orig\n",
    "mlp_orig.layers[2].bias=b2_orig\n",
    "\n",
    "X0_orig_train, X1_orig_train, Y_orig_train = mlp_orig(x_train, relu=False)\n",
    "X0_orig_test, X1_orig_test, Y_orig_test = mlp_orig(x_test, relu=False)"
   ]
  },
  {
   "cell_type": "markdown",
   "metadata": {},
   "source": [
    "## Repair Class"
   ]
  },
  {
   "cell_type": "code",
   "execution_count": 165,
   "metadata": {},
   "outputs": [],
   "source": [
    "class MIPLayer:\n",
    "    def __init__(self, model, layer_to_repair, uin, uout, weights, bias, param_bounds=(-1, 1)):\n",
    "\n",
    "        model.nlayers = getattr(model, 'nlayers', 0)\n",
    "        # print(\"Model layers = {}\".format(model.nlayers))\n",
    "        self.layer_num = model.nlayers\n",
    "        self.uin, self.uout = uin, uout\n",
    "\n",
    "        if model.nlayers == layer_to_repair:\n",
    "            w_l, b_l = 'w' + str(model.nlayers), 'b' + str(model.nlayers)\n",
    "        \n",
    "            setattr(model, w_l, pyo.Var(range(uin), range(uout), domain=pyo.Reals, bounds=param_bounds))\n",
    "            setattr(model, b_l, pyo.Var(range(uout), domain=pyo.Reals, bounds=param_bounds))\n",
    "        \n",
    "            self.w = getattr(model, w_l)\n",
    "            self.b = getattr(model, b_l)\n",
    "            self.w_orig = weights\n",
    "            self.b_orig = bias\n",
    "        else:\n",
    "            self.w = weights\n",
    "            self.b = bias\n",
    "            \n",
    "        model.nlayers += 1\n",
    "\n",
    "        self.model = model\n",
    "        self.layer_to_repair = layer_to_repair\n",
    "        \n",
    "        \n",
    "    def __call__(self, x, shape, relu=False, output_bounds=(-1e1, 1e1),w_b_bound_error=0.5):\n",
    "        \n",
    "        self.lout = getattr(self, 'layer_num', 0)+1\n",
    "        if relu:\n",
    "            return self._relu_constraints(x, shape, self.lout, output_bounds, w_b_bound_error)\n",
    "        return self._constraints(x, shape, self.lout, output_bounds, w_b_bound_error)\n",
    "    \n",
    "    def _relu_constraints(self, x, shape, l, output_bounds=(-1e1, 1e1), w_b_bound_error = 0.5):\n",
    "        m, n = shape\n",
    "        assert n == self.uin\n",
    "        \n",
    "        x_l, s_l, theta_l = 'x'+str(l), 's'+str(l), 'theta'+str(l)\n",
    "        w_l = 'w'+str(l-1)\n",
    "        b_l = 'b'+str(l-1)\n",
    "\n",
    "        setattr(self.model, x_l, pyo.Var(range(m), range(self.uout), domain=pyo.NonNegativeReals, bounds=output_bounds))\n",
    "        setattr(self.model, s_l, pyo.Var(range(m), range(self.uout), domain=pyo.NonNegativeReals, bounds=output_bounds))\n",
    "        setattr(self.model, theta_l, pyo.Var(range(m), range(self.uout), domain=pyo.Binary))\n",
    "        \n",
    "        def constraints(model, i, j):\n",
    "            product = self.b[j]\n",
    "            for k in range(self.uin):\n",
    "                product += x[i, k] * self.w[k, j]\n",
    "            return product == getattr(model, x_l)[i, j] - getattr(model, s_l)[i, j]\n",
    "        \n",
    "        setattr(self.model, 'eq_constraint'+str(l),\n",
    "                pyo.Constraint(range(m), range(self.uout), rule=constraints))\n",
    "        \n",
    "        if l==self.layer_to_repair+1:\n",
    "            print(\"Activating mid layer\")\n",
    "            \n",
    "            dw_l = 'dw' + str(l-1)\n",
    "            setattr(self.model, dw_l, pyo.Var(within=pyo.NonNegativeReals, bounds=(0, output_bounds[1])))\n",
    "            \n",
    "            def constraint_bound_w0(model, i, j):\n",
    "                return(getattr(model, w_l)[i, j]-self.w_orig[i,j] <= getattr(model, dw_l))\n",
    "        \n",
    "            def constraint_bound_w1(model, i, j): \n",
    "                return(getattr(model, w_l)[i, j]-self.w_orig[i,j] >= - getattr(model, dw_l))\n",
    "        \n",
    "            def constraint_bound_b0(model, j):\n",
    "                return(getattr(model, b_l)[j]-self.b_orig[j] <= getattr(model, dw_l))\n",
    "        \n",
    "            def constraint_bound_b1(model, j): \n",
    "                return(getattr(model, b_l)[j]-self.b_orig[j] >= - getattr(model, dw_l))\n",
    "            \n",
    "            setattr(self.model, 'w_bounded_constraint0'+str(l),\n",
    "                pyo.Constraint(range(self.uin), range(self.uout), rule=constraint_bound_w0))\n",
    "            setattr(self.model, 'w_bounded_constraint1'+str(l),\n",
    "                pyo.Constraint(range(self.uin), range(self.uout), rule=constraint_bound_w1))\n",
    "            setattr(self.model, 'b_bounded_constraint0'+str(l),\n",
    "                pyo.Constraint(range(self.uout), rule=constraint_bound_b0))\n",
    "            setattr(self.model, 'b_bounded_constraint1'+str(l),\n",
    "                pyo.Constraint(range(self.uout), rule=constraint_bound_b1))\n",
    "        \n",
    "        def disjuncts(model, i, j):\n",
    "            return [(getattr(model, theta_l)[i, j] == 0, getattr(model, x_l)[i, j] <= 0),\n",
    "                    (getattr(model, theta_l)[i, j] == 1, getattr(model, s_l)[i, j] <= 0)]\n",
    "        \n",
    "        setattr(self.model, 'disjunction'+str(l), pyg.Disjunction(range(m), range(self.uout), rule=disjuncts))\n",
    "        return  getattr(self.model, x_l)\n",
    "        \n",
    "    def _constraints(self, x, shape, l, output_bounds=(-1e1, 1e1), w_b_bound_error = 0.5):\n",
    "        m, n = shape\n",
    "        assert n == self.uin\n",
    "        if l==self.layer_to_repair+1:\n",
    "            w_l = 'w'+str(l-1)\n",
    "            b_l = 'b'+str(l-1)\n",
    "        x_l = 'x'+str(l)\n",
    "        setattr(self.model, x_l, pyo.Var(range(m), range(self.uout), domain=pyo.Reals, bounds=output_bounds))\n",
    "        \n",
    "        def constraints(model, i, j):\n",
    "            product = self.b[j]\n",
    "            for k in range(self.uin):\n",
    "                product += x[i, k] * self.w[k, j]\n",
    "            return product == getattr(model, x_l)[i, j]\n",
    "        \n",
    "        setattr(self.model, 'eq_constraint'+str(l),\n",
    "                pyo.Constraint(range(m), range(self.uout), rule=constraints))\n",
    "        \n",
    "        \n",
    "        ########## Define the output constraint here ########################\n",
    "        def constraint_inside0(model, i):  \n",
    "            return [[getattr(model, x_l)[i, 0] - 0.45 <= 0],\n",
    "                    [0.55 - getattr(model, x_l)[i, 0] <= 0],\n",
    "                    [getattr(model, x_l)[i, 0] - 0.55 <= 0, 0.45 - getattr(model, x_l)[i, 0] <= 0, 0.25 - getattr(model, x_l)[i, 1] <= 0],\n",
    "                    [getattr(model, x_l)[i, 0] - 0.55 <= 0, 0.45 - getattr(model, x_l)[i, 0] <= 0, getattr(model, x_l)[i, 1] - 0.1 <= 0]]\n",
    "        \n",
    "        setattr(self.model, 'keep_inside_constraint0'+str(l),\n",
    "                 pyg.Disjunction(range(m), rule=constraint_inside0))\n",
    "        #####################################################################\n",
    "\n",
    "        if l==self.layer_to_repair+1:\n",
    "            print(\"Activating Last layer\")\n",
    "            \n",
    "            dw_l = 'dw' + str(l-1)\n",
    "            setattr(self.model, dw_l, pyo.Var(within=pyo.NonNegativeReals, bounds=(0, output_bounds[1])))\n",
    "            \n",
    "            def constraint_bound_w0(model, i, j):\n",
    "                return(getattr(model, w_l)[i, j]-self.w_orig[i,j] <= getattr(model, dw_l))\n",
    "        \n",
    "            def constraint_bound_w1(model, i, j): \n",
    "                return(getattr(model, w_l)[i, j]-self.w_orig[i,j] >= -getattr(model, dw_l))\n",
    "        \n",
    "            def constraint_bound_b0(model, j):\n",
    "                return(getattr(model, b_l)[j]-self.b_orig[j] <= getattr(model, dw_l))\n",
    "        \n",
    "            def constraint_bound_b1(model, j): \n",
    "                return(getattr(model, b_l)[j]-self.b_orig[j] >= -getattr(model, dw_l))\n",
    "            \n",
    "            setattr(self.model, 'w_bounded_constraint0'+str(l),\n",
    "                pyo.Constraint(range(self.uin), range(self.uout), rule=constraint_bound_w0))\n",
    "            setattr(self.model, 'w_bounded_constraint1'+str(l),\n",
    "                pyo.Constraint(range(self.uin), range(self.uout), rule=constraint_bound_w1))\n",
    "            setattr(self.model, 'b_bounded_constraint0'+str(l),\n",
    "                pyo.Constraint(range(self.uout), rule=constraint_bound_b0))\n",
    "            setattr(self.model, 'b_bounded_constraint1'+str(l),\n",
    "                pyo.Constraint(range(self.uout), rule=constraint_bound_b1))\n",
    "        \n",
    "        \n",
    "        \n",
    "        return getattr(self.model, x_l)"
   ]
  },
  {
   "cell_type": "code",
   "execution_count": 166,
   "metadata": {},
   "outputs": [],
   "source": [
    "class MIPNNModel:\n",
    "    def __init__(self, layer_to_repair, architecture, weights, bias, param_bounds=(-1, 1)):\n",
    "        self.model = pyo.ConcreteModel()\n",
    "        \n",
    "        self.model.nlayers = layer_to_repair\n",
    "        \n",
    "        self.uin, self.uout = architecture[layer_to_repair-1], architecture[-1]\n",
    "        uhidden = architecture[layer_to_repair:-1]\n",
    "        \n",
    "        self.layers = []\n",
    "        prev = architecture[layer_to_repair-1]\n",
    "        print(\"UHidden = {}\".format(uhidden))\n",
    "        for iterate, u in enumerate(uhidden): \n",
    "            self.layers.append(MIPLayer(self.model, layer_to_repair, prev, u, weights[layer_to_repair-1 + iterate], bias[layer_to_repair-1 + iterate], param_bounds))\n",
    "            prev = u\n",
    "        self.layers.append(MIPLayer(self.model, layer_to_repair, prev, architecture[-1], weights[-1], bias[-1], param_bounds))\n",
    "        \n",
    "        \n",
    "    def __call__(self, x, shape, w_b_bound_error, relu=False, output_bounds=(-1e1, 1e1)):\n",
    "        \n",
    "        m, n = shape\n",
    "        assert n == self.uin\n",
    "        \n",
    "        for layer in self.layers[:-1]:\n",
    "            x = layer(x, (m, layer.uin), relu=True, output_bounds=output_bounds, w_b_bound_error=w_b_bound_error)\n",
    "        \n",
    "        layer = self.layers[-1]\n",
    "        y = layer(x, (m, layer.uin), relu=relu, output_bounds=output_bounds,w_b_bound_error=w_b_bound_error)\n",
    "        return y"
   ]
  },
  {
   "cell_type": "markdown",
   "metadata": {},
   "source": [
    "## Repair the network with the modification of the last layer"
   ]
  },
  {
   "cell_type": "markdown",
   "metadata": {},
   "source": [
    "Repairing last layer $\\mathbf{W}_{new}^2 \\mathbf{x}^2 + \\mathbf{b}_{new}^2 = \\mathbf{y}$:\n",
    "\n",
    "\\begin{align}\n",
    "       & \\min_{\\mathbf{W}^2,\\mathbf{b}^2}\n",
    "       & & \\frac{1}{2}\\sum^{N}_{n=1}|| \\mathbf{y}(\\mathbf{x}^2_n,\\mathbf{W}^2,\\mathbf{b}^2)-\\mathbf{t}_n||^2_2, \\\\\n",
    "       & \\text{s.t.} & &   \\mathbf{W}_{new}^2 \\mathbf{x}^2 + \\mathbf{b}_{new}^2 = \\mathbf{y},\\\\\n",
    "       & & & \\mathbf{y}\\in \\Psi\n",
    "\\end{align}\n"
   ]
  },
  {
   "cell_type": "markdown",
   "metadata": {},
   "source": [
    "### Build 1 Layer MIP NN"
   ]
  },
  {
   "cell_type": "markdown",
   "metadata": {},
   "source": [
    "#### Building 1 Layer"
   ]
  },
  {
   "cell_type": "code",
   "execution_count": 167,
   "metadata": {},
   "outputs": [
    {
     "name": "stdout",
     "output_type": "stream",
     "text": [
      "UHidden = []\n",
      "Activating Last layer\n"
     ]
    }
   ],
   "source": [
    "num_samples = X1_orig_train.shape[0]\n",
    "layer_2_repair = 3\n",
    "mip_model_layer3 = MIPNNModel(layer_2_repair, architecture, weights, bias)\n",
    "y_ = mip_model_layer3(X1_orig_train, (num_samples, num_hidden_1), w_b_bound_error = 1)\n",
    "\n",
    "\n",
    "model_lay3 = mip_model_layer3.model"
   ]
  },
  {
   "cell_type": "markdown",
   "metadata": {},
   "source": [
    "#### Define Objective function"
   ]
  },
  {
   "cell_type": "code",
   "execution_count": 168,
   "metadata": {},
   "outputs": [],
   "source": [
    "def squared_sum(x, y, m, n):\n",
    "    _squared_sum = 0\n",
    "    for i in range(m):\n",
    "        for j in range(n):\n",
    "            _squared_sum += (x[i, j] - y[i, j]) ** 2\n",
    "    return _squared_sum\n",
    "\n",
    "cost_expr = squared_sum(y_, y_train, num_samples, num_output) ## check correctness\n",
    "\n",
    "# minimize error bound\n",
    "dw_l = 'dw' + str(layer_2_repair)\n",
    "cost_expr += getattr(model_lay3, dw_l)"
   ]
  },
  {
   "cell_type": "markdown",
   "metadata": {},
   "source": [
    "#### Solve the OPT"
   ]
  },
  {
   "cell_type": "code",
   "execution_count": 169,
   "metadata": {},
   "outputs": [
    {
     "name": "stdout",
     "output_type": "stream",
     "text": [
      "Parameter OutputFlag unchanged\n",
      "   Value: 1  Min: 0  Max: 1  Default: 1\n",
      "Changed value of parameter LogFile to /var/folders/7v/7wknzt0d797gn2p62b8394yc0000gn/T/tmptoofmhot.log\n",
      "   Prev:   Default: \n",
      "Gurobi Optimizer version 9.1.2 build v9.1.2rc0 (mac64)\n",
      "Thread count: 4 physical cores, 8 logical processors, using up to 8 threads\n",
      "Optimize a model with 1584 rows, 863 columns and 4676 nonzeros\n",
      "Model fingerprint: 0x36ab9956\n",
      "Model has 280 quadratic objective terms\n",
      "Variable types: 303 continuous, 560 integer (560 binary)\n",
      "Coefficient statistics:\n",
      "  Matrix range     [4e-05, 1e+01]\n",
      "  Objective range  [7e-04, 2e+00]\n",
      "  QObjective range [2e+00, 2e+00]\n",
      "  Bounds range     [1e+00, 1e+01]\n",
      "  RHS range        [1e-02, 1e+01]\n",
      "Found heuristic solution: objective 5483.6537570\n",
      "Presolve removed 576 rows and 8 columns\n",
      "Presolve time: 0.02s\n",
      "Presolved: 1008 rows, 855 columns, 4084 nonzeros\n",
      "Presolved model has 280 quadratic objective terms\n",
      "Found heuristic solution: objective 5475.5223764\n",
      "Variable types: 295 continuous, 560 integer (560 binary)\n",
      "\n",
      "Root relaxation: objective 7.181519e-02, 682 iterations, 0.01 seconds\n",
      "\n",
      "    Nodes    |    Current Node    |     Objective Bounds      |     Work\n",
      " Expl Unexpl |  Obj  Depth IntInf | Incumbent    BestBd   Gap | It/Node Time\n",
      "\n",
      "     0     0    0.07182    0   50 5475.52238    0.07182   100%     -    0s\n",
      "H    0     0                       3.4391267    0.07182  97.9%     -    0s\n",
      "     0     0    0.07182    0   50    3.43913    0.07182  97.9%     -    0s\n",
      "H    0     0                       0.3754893    0.07182  80.9%     -    0s\n",
      "     0     1    0.07182    0   50    0.37549    0.07182  80.9%     -    0s\n",
      "H   31    14                       0.3754893    0.13231  64.8%   6.8    0s\n",
      "*   42    19              13       0.3535596    0.13429  62.0%   7.3    0s\n",
      "*  163    54              47       0.3523615    0.14243  59.6%   6.1    0s\n",
      "H  338    97                       0.2724591    0.18064  33.7%   5.7    0s\n",
      "H  379   104                       0.2033925    0.18129  10.9%   5.7    0s\n",
      "*  512     0              63       0.1971622    0.19716  0.00%   4.5    0s\n",
      "\n",
      "Explored 515 nodes (2993 simplex iterations) in 0.40 seconds\n",
      "Thread count was 8 (of 8 available processors)\n",
      "\n",
      "Solution count 9: 0.197162 0.203393 0.272459 ... 5483.65\n",
      "\n",
      "Optimal solution found (tolerance 1.00e-04)\n",
      "Best objective 1.971621907388e-01, best bound 1.971621907388e-01, gap 0.0000%\n",
      "Changed value of parameter LogFile to \n",
      "   Prev: /var/folders/7v/7wknzt0d797gn2p62b8394yc0000gn/T/tmptoofmhot.log  Default: \n"
     ]
    },
    {
     "data": {
      "text/plain": [
       "{'Problem': [{'Name': 'unknown', 'Lower bound': 0.19716219073884034, 'Upper bound': 0.19716219073884034, 'Number of objectives': 1, 'Number of constraints': 1584, 'Number of variables': 863, 'Number of binary variables': 560, 'Number of integer variables': 560, 'Number of continuous variables': -257, 'Number of nonzeros': 4676, 'Sense': 1, 'Number of solutions': 9}], 'Solver': [{'Name': 'Gurobi 9.12', 'Status': 'ok', 'Wallclock time': 0.40611696243286133, 'Termination condition': 'optimal', 'Termination message': 'Model was solved to optimality (subject to tolerances), and an optimal solution is available.'}], 'Solution': [OrderedDict([('number of solutions', 0), ('number of solutions displayed', 0)])]}"
      ]
     },
     "execution_count": 169,
     "metadata": {},
     "output_type": "execute_result"
    }
   ],
   "source": [
    "model_lay3.obj = pyo.Objective(expr=cost_expr)\n",
    "pyo.TransformationFactory('gdp.bigm').apply_to(model_lay3)\n",
    "opt = pyo.SolverFactory('gurobi',solver_io=\"python\")\n",
    "\n",
    "opt.solve(model_lay3, tee=True)"
   ]
  },
  {
   "cell_type": "code",
   "execution_count": 173,
   "metadata": {},
   "outputs": [
    {
     "name": "stdout",
     "output_type": "stream",
     "text": [
      "dw3 : Size=1, Index=None\n",
      "    Key  : Lower : Value              : Upper : Fixed : Stale : Domain\n",
      "    None :     0 : 0.0456258722456474 :  10.0 : False : False : NonNegativeReals\n"
     ]
    }
   ],
   "source": [
    "# weight error bound\n",
    "model_lay3.dw3.display()"
   ]
  },
  {
   "cell_type": "code",
   "execution_count": 175,
   "metadata": {},
   "outputs": [
    {
     "name": "stdout",
     "output_type": "stream",
     "text": [
      "[[-0.62501825  0.69232716]\n",
      " [ 0.37776473 -0.30481091]\n",
      " [-0.51190673 -0.08801519]\n",
      " [ 0.22828174  0.86815408]\n",
      " [ 0.27669647  0.01175597]\n",
      " [ 0.36672345 -0.11270512]\n",
      " [ 0.79766739 -0.55725484]\n",
      " [ 0.3538752  -0.02915689]\n",
      " [ 0.36830512 -0.02530538]\n",
      " [-0.35937525 -0.23658922]]\n",
      "[[-0.05187597  0.36069851]]\n"
     ]
    }
   ],
   "source": [
    "# model_lay3 = model_lay3_orig\n",
    "y_new = np.zeros((num_samples, num_hidden_1))\n",
    "w2_new = np.zeros((num_hidden_1, num_output))\n",
    "b2_new = np.zeros((1, num_output))\n",
    "\n",
    "for j in range(num_output):\n",
    "    b2_new[0, j] = model_lay3.b3[j].value\n",
    "    for i in range(num_hidden_1):\n",
    "        w2_new[i, j] = model_lay3.w3[i, j].value\n",
    "print(w2_new)\n",
    "print(b2_new)\n"
   ]
  },
  {
   "cell_type": "markdown",
   "metadata": {},
   "source": [
    "#### Build Refined NN "
   ]
  },
  {
   "cell_type": "code",
   "execution_count": 176,
   "metadata": {},
   "outputs": [
    {
     "name": "stdout",
     "output_type": "stream",
     "text": [
      "(140, 1)\n",
      "(140, 10)\n",
      "(140, 10)\n",
      "(140, 1)\n",
      "(140, 10)\n",
      "(140, 10)\n",
      "(140, 2)\n",
      "(60, 1)\n",
      "(60, 10)\n",
      "(60, 10)\n",
      "(60, 1)\n",
      "(60, 10)\n",
      "(60, 10)\n",
      "(60, 2)\n"
     ]
    }
   ],
   "source": [
    "mlp_lay3 = MLP(num_input, num_output, [num_hidden_0, num_hidden_1])\n",
    "mlp_lay3.layers[0].weights=w0_orig   \n",
    "mlp_lay3.layers[1].weights=w1_orig  \n",
    "mlp_lay3.layers[2].weights=w2_new  \n",
    "mlp_lay3.layers[0].bias=b0_orig\n",
    "mlp_lay3.layers[1].bias=b1_orig\n",
    "mlp_lay3.layers[2].bias=b2_new\n",
    "\n",
    "_, _, y_new_train = mlp_lay3(x_train, relu=False)\n",
    "_, _, y_new_test = mlp_lay3(x_test, relu=False)"
   ]
  },
  {
   "cell_type": "markdown",
   "metadata": {},
   "source": [
    "#### Plot New Results"
   ]
  },
  {
   "cell_type": "code",
   "execution_count": 177,
   "metadata": {},
   "outputs": [
    {
     "data": {
      "image/png": "[encoded data removed]",
      "text/plain": [
       "<Figure size 432x288 with 1 Axes>"
      ]
     },
     "metadata": {
      "needs_background": "light"
     },
     "output_type": "display_data"
    },
    {
     "data": {
      "image/png": "[encoded data removed]",
      "text/plain": [
       "<Figure size 432x288 with 1 Axes>"
      ]
     },
     "metadata": {
      "needs_background": "light"
     },
     "output_type": "display_data"
    }
   ],
   "source": [
    "# ## training input\n",
    "# plt.plot(x_train[:, 0], x_train[:, 1], 'bo', label='Input Sample')\n",
    "# x_poly, y_poly = poly.exterior.xy\n",
    "# plt.plot(x_poly, y_poly, color='blue', alpha=0.7, linewidth=3, solid_capstyle='round', zorder=2)\n",
    "\n",
    "## predicted output (training)\n",
    "plt.plot(y_train[:, 0], y_train[:, 1], 'ro', label='Original Samples')\n",
    "plt.plot(y_predict_train[:, 0], y_predict_train[:, 1], 'ko', label='Prev Predicted outputs')\n",
    "plt.plot(x_poly3, y_poly3, color='red', alpha=0.7, linewidth=3, solid_capstyle='round', zorder=2, label='Target Set')\n",
    "plt.ylim(-.2,1.1)\n",
    "plt.xlim(-.2,0.7)\n",
    "plt.plot(y_new_train[:, 0], y_new_train[:, 1], 'go', label='New Predicted Output')\n",
    "plt.title('Refined Model (Training Data)')\n",
    "plt.xlabel('x')\n",
    "plt.ylabel('y')\n",
    "plt.legend(loc=\"upper left\")\n",
    "plt.show()\n",
    "\n",
    "# ## testing input\n",
    "# plt.plot(x_test[:, 0], x_test[:, 1], 'bo', label='Input Sample')\n",
    "# x_poly, y_poly = poly.exterior.xy\n",
    "# plt.plot(x_poly, y_poly, color='blue', alpha=0.7, linewidth=3, solid_capstyle='round', zorder=2)\n",
    "\n",
    "## predicted output (testing)\n",
    "plt.plot(y_test[:, 0], y_test[:, 1], 'ro', label='Original Samples')\n",
    "plt.plot(y_predict_test[:, 0], y_predict_test[:, 1], 'ko', label='Prev Predicted outputs')\n",
    "plt.plot(x_poly3, y_poly3, color='red', alpha=0.7, linewidth=3, solid_capstyle='round', zorder=2, label='Target Set')\n",
    "plt.ylim(-.2,1.1)\n",
    "plt.xlim(-.2,0.7)\n",
    "plt.plot(y_new_test[:, 0], y_new_test[:, 1], 'go', label='New Predicted Output')\n",
    "plt.title('Refined Model (Testing Data)')\n",
    "plt.xlabel('x')\n",
    "plt.ylabel('y')\n",
    "plt.legend(loc=\"upper left\")\n",
    "plt.show()"
   ]
  },
  {
   "cell_type": "code",
   "execution_count": 178,
   "metadata": {},
   "outputs": [
    {
     "data": {
      "text/html": [
       "<table>\n",
       "<tbody>\n",
       "<tr><td>MSE                     </td><td>Training Data</td><td>Testing Data</td></tr>\n",
       "<tr><td>Original NN             </td><td>0.00051      </td><td>0.00044     </td></tr>\n",
       "<tr><td>Repaired NN (Last Layer)</td><td>0.00108      </td><td>0.00114     </td></tr>\n",
       "</tbody>\n",
       "</table>"
      ],
      "text/plain": [
       "<IPython.core.display.HTML object>"
      ]
     },
     "metadata": {},
     "output_type": "display_data"
    },
    {
     "name": "stdout",
     "output_type": "stream",
     "text": [
      "weight_error: 0.0456258722456474\n",
      "bias_error: 0.008466115259385565\n"
     ]
    }
   ],
   "source": [
    "MSE_original_nn_train = squared_sum(y_train, y_predict_train, num_samples, 2)/y_train.shape[0]\n",
    "MSE_new_nn_train = squared_sum(y_train, y_new_train, num_samples, 2)/y_train.shape[0]\n",
    "MSE_original_nn_test = squared_sum(y_test, y_predict_test, y_test.shape[0], 2)/y_test.shape[0]\n",
    "MSE_new_nn_test = squared_sum(y_test, y_new_test, y_test.shape[0], 2)/y_test.shape[0]\n",
    "\n",
    "from IPython.display import HTML, display\n",
    "import tabulate\n",
    "table = [[\"MSE\",\"Training Data\",\" Testing Data\"],\n",
    "         [\"Original NN\",round(MSE_original_nn_train,5),round(MSE_original_nn_test,5)],\n",
    "         [\"Repaired NN (Last Layer)\",round(MSE_new_nn_train,5),round(MSE_new_nn_test,5)]]\n",
    "display(HTML(tabulate.tabulate(table, tablefmt='html')))\n",
    "\n",
    "weight_error = np.max(w2_new-w2_orig)\n",
    "bias_error = np.max(b2_new-b2_orig)\n",
    "print(\"weight_error: {}\".format(weight_error))\n",
    "print(\"bias_error: {}\".format(bias_error))"
   ]
  },
  {
   "cell_type": "markdown",
   "metadata": {},
   "source": [
    "## Repair the network with the modification of the second layer"
   ]
  },
  {
   "cell_type": "markdown",
   "metadata": {},
   "source": [
    "In the second layer:\n",
    "$$\n",
    "\\mathbf{W}^1 \\mathbf{X}^1 + \\mathbf{b}^1 = \\mathbf{H}^1,\n",
    "$$\n",
    "$$\n",
    "\\mathbf{X}^2 = \\mathrm{ReLU} (\\mathbf{H}^1),\n",
    "$$\n",
    "optimizing:\n",
    "\n",
    "\\begin{align}\n",
    "       & \\min_{\\mathbf{W}^1,\\mathbf{b}^1}\n",
    "       & & \\frac{1}{2}\\sum^{N}_{n=1}|| \\mathbf{y}(\\mathbf{x}^1_n,\\mathbf{W}^1,\\mathbf{b}^1)-\\mathbf{t}_n||^2_2, \\\\\n",
    "       & \\text{s.t.} & &   \\mathbf{W}^2 \\mathbf{x}^2 + \\mathbf{b}^2 = \\mathbf{y},\\\\\n",
    "       & & & \\mathbf{y}\\in \\Psi,\\\\\n",
    "       & & & \\sum_j w_{ij}^1 x_{jn}^1 + b_i^1 = x_{in}^2 - s_{in}^2, &&&&n=1,\\cdots,N,~i=1,\\cdots,c,~\\mbox{and }j=1,\\cdots,q,\\\\\n",
    "       & & & x_{in}^2, s_{in}^2 \\ge 0, &&&&n=1,\\cdots,N,~\\mbox{and }i=1,\\cdots,c,\\\\\n",
    "       & & & \\theta_{in}^2 \\in \\{0, 1\\}, &&&&n=1,\\cdots,N,~\\mbox{and }i=1,\\cdots,c,\\\\\n",
    "       & & & \\theta_{in}^2=0 \\rightarrow x_{in}^2 \\le 0, &&&&n=1,\\cdots,N,~\\mbox{and }i=1,\\cdots,c,\\\\\n",
    "       & & & \\theta_{in}^2=1 \\rightarrow s_{in}^2 \\le 0, &&&&n=1,\\cdots,N,~\\mbox{and }i=1,\\cdots,c,\n",
    "\\end{align}\n",
    ", where $N$, $c$, and $q$ are the number of samples, the number of hidden nodes, and the number of inputs, respectively.   "
   ]
  },
  {
   "cell_type": "markdown",
   "metadata": {},
   "source": [
    "### Replicate the Original NN"
   ]
  },
  {
   "cell_type": "markdown",
   "metadata": {},
   "source": [
    "#### Classes (NN with Numpy)"
   ]
  },
  {
   "cell_type": "code",
   "execution_count": 184,
   "metadata": {},
   "outputs": [
    {
     "name": "stdout",
     "output_type": "stream",
     "text": [
      "UHidden = [10]\n",
      "Activating mid layer\n"
     ]
    }
   ],
   "source": [
    "\n",
    "num_samples = X1_orig_train.shape[0]\n",
    "layer_2_repair = 2\n",
    "mip_model_layer2 = MIPNNModel(layer_2_repair, architecture, weights, bias)\n",
    "# y_ = mip_model_layer2(X1_orig_train, (num_samples, num_hidden_1))\n",
    "y_ = mip_model_layer2(np.round(X0_orig_train,4), (num_samples, num_hidden_0), w_b_bound_error=3)\n",
    "\n",
    "# print(y_)\n",
    "\n",
    "model_lay2 = mip_model_layer2.model\n",
    "\n",
    "\n",
    "\n"
   ]
  },
  {
   "cell_type": "markdown",
   "metadata": {},
   "source": [
    "#### Define Objective Function"
   ]
  },
  {
   "cell_type": "code",
   "execution_count": 185,
   "metadata": {},
   "outputs": [],
   "source": [
    "def squared_sum(x, y, m, n):\n",
    "    _squared_sum = 0\n",
    "    for i in range(m):\n",
    "        for j in range(n):\n",
    "            _squared_sum += (x[i, j] - y[i, j]) ** 2\n",
    "    return _squared_sum\n",
    "\n",
    "cost_expr = squared_sum(y_, np.round(y_train,4), num_samples, num_output) ## check correctness\n",
    "# minimize error bound\n",
    "dw_l = 'dw' + str(layer_2_repair)\n",
    "cost_expr += getattr(model_lay2, dw_l)"
   ]
  },
  {
   "cell_type": "markdown",
   "metadata": {},
   "source": [
    "#### Final Output and Ojbective"
   ]
  },
  {
   "cell_type": "code",
   "execution_count": 186,
   "metadata": {},
   "outputs": [
    {
     "name": "stdout",
     "output_type": "stream",
     "text": [
      "Set parameter Username\n",
      "Academic license - for non-commercial use only - expires 2022-02-04\n",
      "Read LP format model from file /var/folders/7v/7wknzt0d797gn2p62b8394yc0000gn/T/tmpvfq5kkjb.pyomo.lp\n",
      "Reading time = 0.03 seconds\n",
      ": 12961 rows, 7952 columns, 33781 nonzeros\n",
      "Set parameter TimeLimit to value 500\n",
      "Set parameter MIPGap to value 0.04\n",
      "Gurobi Optimizer version 9.5.0 build v9.5.0rc5 (mac64[x86])\n",
      "Thread count: 4 physical cores, 8 logical processors, using up to 8 threads\n",
      "Optimize a model with 12961 rows, 7952 columns and 33781 nonzeros\n",
      "Model fingerprint: 0xa8d191e8\n",
      "Model has 280 quadratic objective terms\n",
      "Variable types: 3192 continuous, 4760 integer (4760 binary)\n",
      "Coefficient statistics:\n",
      "  Matrix range     [6e-03, 1e+01]\n",
      "  Objective range  [8e-04, 3e+01]\n",
      "  QObjective range [2e+00, 2e+00]\n",
      "  Bounds range     [1e+00, 1e+01]\n",
      "  RHS range        [9e-05, 1e+01]\n",
      "Presolve removed 7661 rows and 2851 columns\n",
      "Presolve time: 0.07s\n",
      "Presolved: 5300 rows, 5101 columns, 21823 nonzeros\n",
      "Presolved model has 280 quadratic objective terms\n",
      "Variable types: 3141 continuous, 1960 integer (1960 binary)\n",
      "Found heuristic solution: objective 2.6214274\n",
      "\n",
      "Root relaxation: objective 1.629163e-03, 7420 iterations, 0.05 seconds (0.04 work units)\n",
      "\n",
      "    Nodes    |    Current Node    |     Objective Bounds      |     Work\n",
      " Expl Unexpl |  Obj  Depth IntInf | Incumbent    BestBd   Gap | It/Node Time\n",
      "\n",
      "     0     0    0.00163    0 1078    2.62143    0.00163   100%     -    0s\n",
      "     0     0    0.00560    0 1100    2.62143    0.00560   100%     -    0s\n",
      "     0     0    0.00560    0 1100    2.62143    0.00560   100%     -    1s\n",
      "     0     0    0.00594    0 1108    2.62143    0.00594   100%     -    1s\n",
      "     0     0    0.00666    0 1104    2.62143    0.00666   100%     -    1s\n",
      "     0     0    0.00692    0 1106    2.62143    0.00692   100%     -    1s\n",
      "     0     0    0.00733    0 1099    2.62143    0.00733   100%     -    1s\n",
      "     0     0    0.00748    0 1112    2.62143    0.00748   100%     -    1s\n",
      "     0     0    0.00748    0 1109    2.62143    0.00748   100%     -    1s\n",
      "     0     0    0.00748    0 1120    2.62143    0.00748   100%     -    1s\n",
      "     0     0    0.00748    0 1122    2.62143    0.00748   100%     -    2s\n",
      "     0     0    0.00748    0 1125    2.62143    0.00748   100%     -    2s\n",
      "     0     2    0.00748    0 1125    2.62143    0.00748   100%     -    4s\n",
      "     7    12    0.50402    3 1189    2.62143    0.00889   100%  1526    5s\n",
      "H   32    35                       2.1667040    0.00919   100%   444    5s\n",
      "   518   555    0.50402  158  542    2.16670    0.01019   100%   164   10s\n",
      "H  647   652                       2.1667039    0.01019   100%   169   13s\n",
      "H  648   652                       2.1667035    0.01019   100%   169   13s\n",
      "H  649   561                       0.6766437    0.01019  98.5%   169   13s\n",
      "   819   763    0.50416  180  461    0.67664    0.01019  98.5%   157   15s\n",
      "  1861  1851    0.55777  301  385    0.67664    0.01019  98.5%   132   20s\n",
      "  3069  3040     cutoff  574         0.67664    0.01019  98.5%   108   25s\n",
      "  3573  3264    0.63991  687 1125    0.67664    0.01019  98.5%   106   30s\n",
      "  3732  3384    0.51330   33 1111    0.67664    0.01045  98.5%   108   35s\n",
      "H 3794  3249                       0.6766436    0.01045  98.5%   107   36s\n",
      "H 4216  3360                       0.6766332    0.01053  98.4%   103   39s\n",
      "  4226  3361    0.51520   96 1054    0.67663    0.01053  98.4%   103   41s\n",
      "  4697  3692    0.58918  119  936    0.67663    0.01053  98.4%   107   45s\n",
      "H 4826  3573                       0.6562063    0.01053  98.4%   119   49s\n",
      "H 4827  3421                       0.6064016    0.01053  98.3%   119   51s\n",
      "  4955  3474    0.51520  149  898    0.60640    0.01053  98.3%   124   55s\n",
      "  5224  3645    0.51520  165  885    0.60640    0.01053  98.3%   138   60s\n",
      "H 5451  3632                       0.6064016    0.01053  98.3%   150   65s\n",
      "H 5453  3505                       0.6063981    0.01053  98.3%   150   65s\n",
      "H 5509  3404                       0.6048122    0.01053  98.3%   152   67s\n",
      "  5515  3401     cutoff  184         0.60481    0.01053  98.3%   154   72s\n",
      "H 5516  3027                       0.5335101    0.01053  98.0%   154   72s\n",
      "  5594  3088    0.51520  189  850    0.53351    0.01053  98.0%   161   75s\n",
      "H 5747  3029                       0.5327586    0.01053  98.0%   170   78s\n",
      "H 5748  2907                       0.5273024    0.01053  98.0%   170   78s\n",
      "  5850  2961    0.51520  205  839    0.52730    0.01053  98.0%   173   80s\n",
      "  6030  3023    0.51954  213  790    0.52730    0.01053  98.0%   179   88s\n",
      "H 6069  2847                       0.5177779    0.01053  98.0%   180   88s\n",
      "H 6152  2776                       0.5176113    0.01061  98.0%   180   91s\n",
      "H 6155  2422                       0.5070173    0.01061  97.9%   181   91s\n",
      "  6725  2986    0.35971  475  406    0.50702    0.01061  97.9%   175   95s\n",
      "H 7362  3017                       0.5070169    0.01061  97.9%   165   99s\n",
      "H 7365  2932                       0.5068587    0.01061  97.9%   165   99s\n",
      "  7367  3050    0.49818  807  185    0.50686    0.01070  97.9%   165  100s\n",
      "  8089  3280    0.36332  268  516    0.50686    0.01070  97.9%   165  105s\n",
      "  8454  3548    0.37762  476  364    0.50686    0.01070  97.9%   164  112s\n",
      "  8513  3797    0.37762  477  363    0.50686    0.01070  97.9%   164  115s\n",
      "H 8671  3782                       0.5053807    0.01070  97.9%   162  115s\n",
      "  9731  4633    0.47154  987   82    0.50538    0.01070  97.9%   150  122s\n",
      "H 9732  4559                       0.5000225    0.01070  97.9%   150  122s\n",
      "H 9736  4547                       0.4993657    0.01070  97.9%   151  122s\n",
      " 10009  4808    0.48210  422  805    0.49937    0.01122  97.8%   152  125s\n",
      " 10567  5037    0.38490  534  552    0.49937    0.01156  97.7%   156  130s\n",
      "H10664  5037                       0.4993655    0.01156  97.7%   157  130s\n",
      " 11202  5984    0.31696  495  518    0.49937    0.01156  97.7%   154  135s\n",
      "H12695  6629                       0.4993655    0.01156  97.7%   151  158s\n",
      "H12696  6629                       0.4993654    0.01156  97.7%   151  158s\n",
      " 12699  6633    0.40355  632  354    0.49937    0.01156  97.7%   152  162s\n",
      "H12700  6633                       0.4993002    0.01156  97.7%   152  162s\n",
      "H12701  5886                       0.4560048    0.01156  97.5%   152  162s\n",
      " 13095  6558    0.41307  659  328    0.45600    0.01156  97.5%   153  167s\n",
      " 14340  7362    0.01220  504  645    0.45600    0.01186  97.4%   146  171s\n",
      " 15082  7742    0.25095  622  487    0.45600    0.01188  97.4%   142  175s\n",
      " 15646  7940    0.01251  535  629    0.45600    0.01188  97.4%   145  180s\n",
      " 16482  8499    0.01544  561  584    0.45600    0.01188  97.4%   149  187s\n",
      " 17309  8988    0.01566  576  580    0.45600    0.01188  97.4%   147  191s\n",
      " 17972  9310    0.01731  594  562    0.45600    0.01188  97.4%   147  196s\n",
      " 18151  9498    0.01745  601  553    0.45600    0.01188  97.4%   147  200s\n",
      " 18862 10098    0.01982  640  508    0.45600    0.01188  97.4%   150  207s\n",
      " 19082 10263    0.01991  654  498    0.45600    0.01188  97.4%   154  210s\n",
      " 19351 10449    0.02085  669  485    0.45600    0.01188  97.4%   158  217s\n",
      " 19577 10800    0.02095  683  472    0.45600    0.01188  97.4%   162  220s\n",
      " 20272 11356    0.02392  710  437    0.45600    0.01188  97.4%   162  225s\n",
      " 21409 12108    0.02835  754  390    0.45600    0.01188  97.4%   161  231s\n",
      " 21698 12156    0.02978  771  373    0.45600    0.01188  97.4%   162  236s\n",
      "H21714 11136                       0.4340002    0.01188  97.3%   162  237s\n",
      " 21811 11252    0.03257  784  368    0.43400    0.01188  97.3%   165  240s\n",
      " 22704 11823    0.03870  822  325    0.43400    0.01188  97.3%   167  246s\n",
      " 23168 12074    0.06620  865  261    0.43400    0.01188  97.3%   171  251s\n",
      " 23696 12437    0.34789  563  457    0.43400    0.01214  97.2%   173  257s\n",
      " 24051 12782    0.16251  549  625    0.43400    0.01215  97.2%   174  261s\n",
      " 24527 13718    0.35724  284  655    0.43400    0.01215  97.2%   173  265s\n",
      " 25965 14327    0.29243  809  350    0.43400    0.01215  97.2%   168  270s\n",
      " 26354 14330     cutoff  842         0.43400    0.01215  97.2%   168  286s\n",
      "H26355 14330                       0.4339993    0.01215  97.2%   168  286s\n",
      "H26356 14304                       0.4330575    0.01215  97.2%   168  286s\n"
     ]
    },
    {
     "name": "stdout",
     "output_type": "stream",
     "text": [
      " 26359 14363     cutoff  850         0.43306    0.01215  97.2%   168  290s\n",
      "H26361 14363                       0.4330575    0.01215  97.2%   168  290s\n",
      "H26388 14363                       0.4330574    0.01215  97.2%   168  290s\n",
      "H26390 14363                       0.4330572    0.01215  97.2%   168  290s\n",
      "H26391 14363                       0.4329932    0.01215  97.2%   168  290s\n",
      " 26825 14844    0.38347   99  982    0.43299    0.01215  97.2%   168  296s\n",
      "H27497 15221                       0.4329929    0.01215  97.2%   170  302s\n",
      " 27678 15614    0.38347  116  848    0.43299    0.01215  97.2%   170  305s\n",
      " 28619 16145    0.38347  133  832    0.43299    0.01215  97.2%   172  312s\n",
      "H28630 16145                       0.4329927    0.01215  97.2%   174  312s\n",
      "H28809 16145                       0.4329926    0.01215  97.2%   173  312s\n",
      " 28810 16495    0.38347  141  833    0.43299    0.01215  97.2%   174  316s\n",
      " 29306 16751    0.38347  144  819    0.43299    0.01215  97.2%   176  320s\n",
      "H29739 16768                       0.4329345    0.01215  97.2%   177  325s\n",
      " 30868 18482    0.31513  512  582    0.43293    0.01215  97.2%   174  332s\n",
      " 31845 19160    0.34680  327  768    0.43293    0.01221  97.2%   172  336s\n",
      " 33046 19788    0.40443  259  682    0.43293    0.01221  97.2%   172  341s\n",
      " 34272 20586    0.01331  201  911    0.43293    0.01221  97.2%   169  346s\n",
      " 34885 21271    0.20322  122 1091    0.43293    0.01221  97.2%   169  352s\n",
      " 35736 22027    0.30553  146  851    0.43293    0.01225  97.2%   169  356s\n",
      " 36640 22798    0.38223  309  394    0.43293    0.01225  97.2%   168  360s\n",
      " 38039 23678    0.03427  141  997    0.43293    0.01226  97.2%   165  366s\n",
      " 38820 24180     cutoff  141         0.43293    0.01230  97.2%   165  371s\n",
      " 39668 24746    0.37158  179  879    0.43293    0.01230  97.2%   164  378s\n",
      "H39707 24673                       0.4317519    0.01230  97.2%   164  378s\n",
      " 40056 25076     cutoff  190         0.43175    0.01230  97.2%   163  380s\n",
      " 40809 25242     cutoff  211         0.43175    0.01230  97.2%   163  401s\n",
      "H40814 25242                       0.4317469    0.01230  97.2%   163  401s\n",
      " 40968 25578    0.01236  145  972    0.43175    0.01230  97.2%   164  406s\n",
      " 41476 25985    0.02067  367  788    0.43175    0.01230  97.2%   165  410s\n",
      "H41725 26014                       0.4317467    0.01230  97.2%   165  413s\n",
      " 41766 26313    0.02553  536  623    0.43175    0.01230  97.2%   165  415s\n",
      " 42842 27229    0.17750  734  411    0.43175    0.01230  97.2%   164  421s\n",
      " 44340 28378    0.10863  851  289    0.43175    0.01230  97.2%   161  426s\n",
      " 45343 29007     cutoff  907         0.43175    0.01230  97.2%   160  431s\n",
      " 45730 29259    0.12661  954  184    0.43175    0.01230  97.2%   161  436s\n",
      " 46128 29626    0.18070 1007  166    0.43175    0.01230  97.2%   163  441s\n",
      " 46822 29984    0.17506  159  846    0.43175    0.01250  97.1%   163  447s\n",
      " 47112 30170    0.21058  129 1022    0.43175    0.01250  97.1%   163  450s\n",
      " 47672 30422    0.06694  137  986    0.43175    0.01251  97.1%   165  456s\n",
      " 48161 30863    0.36381  388  560    0.43175    0.01251  97.1%   169  462s\n",
      " 48463 31013    0.42279  256  788    0.43175    0.01252  97.1%   171  465s\n",
      " 49018 31221     cutoff  306         0.43175    0.01253  97.1%   174  472s\n",
      " 49204 31657    0.38347  206  881    0.43175    0.01260  97.1%   175  475s\n",
      " 50475 32608    0.42736  627  480    0.43175    0.01264  97.1%   173  480s\n",
      " 51936 33785    0.38631  146  721    0.43175    0.01264  97.1%   171  487s\n",
      " 52760 34472    0.23265  166  957    0.43175    0.01266  97.1%   170  490s\n",
      " 54529 35698    0.38347  106 1024    0.43175    0.01266  97.1%   167  495s\n",
      "H54872 35702                       0.4317467    0.01266  97.1%   167  498s\n",
      " 54873 35816     cutoff  135         0.43175    0.01266  97.1%   167  500s\n",
      "\n",
      "Cutting planes:\n",
      "  Gomory: 58\n",
      "  Implied bound: 449\n",
      "  MIR: 600\n",
      "  Flow cover: 1207\n",
      "  Relax-and-lift: 33\n",
      "\n",
      "Explored 55016 nodes (9192833 simplex iterations) in 500.01 seconds (949.95 work units)\n",
      "Thread count was 8 (of 8 available processors)\n",
      "\n",
      "Solution count 10: 0.431747 0.431747 0.431752 ... 0.433057\n",
      "\n",
      "Time limit reached\n",
      "Best objective 4.317466608846e-01, best bound 1.265820415417e-02, gap 97.0681%\n",
      "WARNING: Loading a SolverResults object with an 'aborted' status, but\n",
      "    containing a solution\n"
     ]
    },
    {
     "data": {
      "text/plain": [
       "{'Problem': [{'Name': '', 'Lower bound': 0.012658204154174513, 'Upper bound': 0.4317466608845742, 'Number of objectives': 1, 'Number of constraints': 12961, 'Number of variables': 7952, 'Number of binary variables': 4760, 'Number of integer variables': 4760, 'Number of continuous variables': 3192, 'Number of nonzeros': 33781, 'Sense': 'minimize'}], 'Solver': [{'Status': 'aborted', 'Return code': '0', 'Message': 'Optimization terminated because the time expended exceeded the value specified in the TimeLimit parameter.', 'Termination condition': 'maxTimeLimit', 'Termination message': 'Optimization terminated because the time expended exceeded the value specified in the TimeLimit parameter.', 'Wall time': '500.00932693481445', 'Error rc': 0, 'Time': 500.2802429199219}], 'Solution': [OrderedDict([('number of solutions', 0), ('number of solutions displayed', 0)])]}"
      ]
     },
     "execution_count": 186,
     "metadata": {},
     "output_type": "execute_result"
    }
   ],
   "source": [
    "model_lay2.obj = pyo.Objective(expr=cost_expr)\n",
    "pyo.TransformationFactory('gdp.bigm').apply_to(model_lay2)\n",
    "opt = pyo.SolverFactory('gurobi')\n",
    "opt.options['timelimit'] = 500\n",
    "opt.options['mipgap'] = 0.04\n",
    "opt.solve(model_lay2, tee=True)\n"
   ]
  },
  {
   "cell_type": "code",
   "execution_count": 187,
   "metadata": {},
   "outputs": [
    {
     "name": "stdout",
     "output_type": "stream",
     "text": [
      "dw2 : Size=1, Index=None\n",
      "    Key  : Lower : Value               : Upper : Fixed : Stale : Domain\n",
      "    None :     0 : 0.26908309989474444 :  10.0 : False : False : NonNegativeReals\n"
     ]
    }
   ],
   "source": [
    "# weight error bound\n",
    "model_lay2.dw2.display()"
   ]
  },
  {
   "cell_type": "code",
   "execution_count": 189,
   "metadata": {},
   "outputs": [],
   "source": [
    "X2_new = np.zeros((num_samples,num_output))\n",
    "w1_new = np.zeros((num_hidden_0,num_hidden_1))\n",
    "b1_new = np.zeros((1,num_hidden_1))\n",
    "for i in range(num_samples):\n",
    "    for j in range(num_output):\n",
    "        X2_new[i, j] = model_lay2.x4[i, j].value\n",
    "for j in range(num_hidden_1):\n",
    "    b1_new[0, j] = model_lay2.b2[j].value\n",
    "    for i in range(num_hidden_0):\n",
    "        w1_new[i, j] = model_lay2.w2[i, j].value"
   ]
  },
  {
   "cell_type": "markdown",
   "metadata": {},
   "source": [
    "#### Build Refined NN\n"
   ]
  },
  {
   "cell_type": "code",
   "execution_count": 190,
   "metadata": {},
   "outputs": [
    {
     "name": "stdout",
     "output_type": "stream",
     "text": [
      "(140, 1)\n",
      "(140, 10)\n",
      "(140, 10)\n",
      "(140, 1)\n",
      "(140, 10)\n",
      "(140, 10)\n",
      "(140, 2)\n",
      "(60, 1)\n",
      "(60, 10)\n",
      "(60, 10)\n",
      "(60, 1)\n",
      "(60, 10)\n",
      "(60, 10)\n",
      "(60, 2)\n"
     ]
    }
   ],
   "source": [
    "mlp_lay2 = MLP(num_input, num_output, [num_hidden_0, num_hidden_1])\n",
    "mlp_lay2.layers[0].weights=w0_orig   \n",
    "mlp_lay2.layers[1].weights=w1_new  \n",
    "mlp_lay2.layers[2].weights=w2_orig  \n",
    "mlp_lay2.layers[0].bias=b0_orig\n",
    "mlp_lay2.layers[1].bias=b1_new\n",
    "mlp_lay2.layers[2].bias=b2_orig\n",
    "\n",
    "_, _, y_new2_train = mlp_lay2(x_train, relu=False)\n",
    "_, _, y_new2_test = mlp_lay2(x_test, relu=False)\n"
   ]
  },
  {
   "cell_type": "markdown",
   "metadata": {},
   "source": [
    "#### Plot New Results\n"
   ]
  },
  {
   "cell_type": "code",
   "execution_count": 191,
   "metadata": {},
   "outputs": [
    {
     "data": {
      "image/png": "[encoded data removed]",
      "text/plain": [
       "<Figure size 432x288 with 1 Axes>"
      ]
     },
     "metadata": {
      "needs_background": "light"
     },
     "output_type": "display_data"
    },
    {
     "data": {
      "image/png": "[encoded data removed]",
      "text/plain": [
       "<Figure size 432x288 with 1 Axes>"
      ]
     },
     "metadata": {
      "needs_background": "light"
     },
     "output_type": "display_data"
    }
   ],
   "source": [
    "## predicted output (training)\n",
    "plt.plot(y_train[:, 0], y_train[:, 1], 'ro', label='Original Samples')\n",
    "plt.plot(y_predict_train[:, 0], y_predict_train[:, 1], 'ko', label='Prev Predicted outputs')\n",
    "plt.plot(x_poly3, y_poly3, color='red', alpha=0.7, linewidth=3, solid_capstyle='round', zorder=2, label='Target Set')\n",
    "plt.ylim(-.2,1.1)\n",
    "plt.xlim(-.2,0.7)\n",
    "plt.plot(y_new2_train[:, 0], y_new_train[:, 1], 'go', label='New Predicted Output')\n",
    "plt.title('Refined Model (Training Data)')\n",
    "plt.xlabel('x')\n",
    "plt.ylabel('y')\n",
    "plt.legend(loc=\"upper left\")\n",
    "plt.show()\n",
    "\n",
    "# ## testing input\n",
    "# plt.plot(x_test[:, 0], x_test[:, 1], 'bo', label='Input Sample')\n",
    "# x_poly, y_poly = poly.exterior.xy\n",
    "# plt.plot(x_poly, y_poly, color='blue', alpha=0.7, linewidth=3, solid_capstyle='round', zorder=2)\n",
    "\n",
    "## predicted output (testing)\n",
    "plt.plot(y_test[:, 0], y_test[:, 1], 'ro', label='Original Samples')\n",
    "plt.plot(y_predict_test[:, 0], y_predict_test[:, 1], 'ko', label='Prev Predicted outputs')\n",
    "plt.plot(x_poly3, y_poly3, color='red', alpha=0.7, linewidth=3, solid_capstyle='round', zorder=2, label='Target Set')\n",
    "plt.ylim(-.2,1.1)\n",
    "plt.xlim(-.2,0.7)\n",
    "plt.plot(y_new2_test[:, 0], y_new_test[:, 1], 'go', label='New Predicted Output')\n",
    "plt.title('Refined Model (Testing Data)')\n",
    "plt.xlabel('x')\n",
    "plt.ylabel('y')\n",
    "plt.legend(loc=\"upper left\")\n",
    "plt.show()"
   ]
  },
  {
   "cell_type": "code",
   "execution_count": 192,
   "metadata": {},
   "outputs": [
    {
     "data": {
      "text/html": [
       "<table>\n",
       "<tbody>\n",
       "<tr><td>MSE        </td><td>Training Data</td><td>Testing Data</td></tr>\n",
       "<tr><td>Original NN</td><td>0.00051      </td><td>0.00044     </td></tr>\n",
       "<tr><td>Modified NN</td><td>0.00116      </td><td>0.00114     </td></tr>\n",
       "</tbody>\n",
       "</table>"
      ],
      "text/plain": [
       "<IPython.core.display.HTML object>"
      ]
     },
     "metadata": {},
     "output_type": "display_data"
    },
    {
     "name": "stdout",
     "output_type": "stream",
     "text": [
      "weight_error: 0.2690830998948262\n",
      "bias_error: 0.17330202093973104\n"
     ]
    }
   ],
   "source": [
    "MSE_original_nn_train = squared_sum(y_train, y_predict_train, num_samples, 2)/y_train.shape[0]\n",
    "MSE_new_nn_train = squared_sum(y_train, y_new2_train, num_samples, 2)/y_train.shape[0]\n",
    "MSE_original_nn_test = squared_sum(y_test, y_predict_test, y_test.shape[0], 2)/y_test.shape[0]\n",
    "MSE_new_nn_test = squared_sum(y_test, y_new2_test, y_test.shape[0], 2)/y_test.shape[0]\n",
    "\n",
    "from IPython.display import HTML, display\n",
    "import tabulate\n",
    "table = [[\"MSE\",\"Training Data\",\" Testing Data\"],\n",
    "         [\"Original NN\",round(MSE_original_nn_train,5),round(MSE_original_nn_test,5)],\n",
    "         [\"Modified NN\",round(MSE_new_nn_train,5),round(MSE_new_nn_test,5)]]\n",
    "display(HTML(tabulate.tabulate(table, tablefmt='html')))\n",
    "\n",
    "weight_error = np.max(w1_new-w1_orig)\n",
    "bias_error = np.max(b1_new-b1_orig)\n",
    "print(\"weight_error: {}\".format(weight_error))\n",
    "print(\"bias_error: {}\".format(bias_error))"
   ]
  },
  {
   "cell_type": "code",
   "execution_count": null,
   "metadata": {},
   "outputs": [],
   "source": []
  },
  {
   "cell_type": "code",
   "execution_count": null,
   "metadata": {},
   "outputs": [],
   "source": []
  },
  {
   "cell_type": "code",
   "execution_count": null,
   "metadata": {},
   "outputs": [],
   "source": []
  }
 ],
 "metadata": {
  "interpreter": {
   "hash": "df0893f56f349688326838aaeea0de204df53a132722cbd565e54b24a8fec5f6"
  },
  "kernelspec": {
   "display_name": "Python 3",
   "language": "python",
   "name": "python3"
  },
  "language_info": {
   "codemirror_mode": {
    "name": "ipython",
    "version": 3
   },
   "file_extension": ".py",
   "mimetype": "text/x-python",
   "name": "python",
   "nbconvert_exporter": "python",
   "pygments_lexer": "ipython3",
   "version": "3.8.6"
  }
 },
 "nbformat": 4,
 "nbformat_minor": 4
}
