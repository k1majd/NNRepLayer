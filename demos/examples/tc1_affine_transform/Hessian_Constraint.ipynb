{
 "cells": [
  {
   "cell_type": "code",
   "execution_count": 1,
   "metadata": {},
   "outputs": [],
   "source": [
    "# import numpy as np\n",
    "# import torch \n",
    "# from torchvision import datasets, transforms\n",
    "# from utils import * # get the dataset\n",
    "# from pyhessian import hessian # Hessian computation\n",
    "# from density_plot import get_esd_plot # ESD plot\n",
    "# from pytorchcv.model_provider import get_model as ptcv_get_model # model\n",
    "\n",
    "import matplotlib.pyplot as plt\n",
    "import itertools\n",
    "import cvxpy as cvx\n",
    "from qcqp import *\n",
    "# %matplotlib inline"
   ]
  },
  {
   "cell_type": "code",
   "execution_count": 2,
   "metadata": {},
   "outputs": [],
   "source": [
    "# enable cuda devices\n",
    "import os\n",
    "os.environ[\"CUDA_DEVICE_ORDER\"]=\"PCI_BUS_ID\"\n",
    "os.environ[\"CUDA_VISIBLE_DEVICES\"]=\"0\""
   ]
  },
  {
   "cell_type": "code",
   "execution_count": 3,
   "metadata": {},
   "outputs": [],
   "source": [
    "# import torch.nn as nn\n",
    "# import torch.nn.functional as F\n",
    "# from torch.utils.data import DataLoader"
   ]
  },
  {
   "cell_type": "code",
   "execution_count": 4,
   "metadata": {},
   "outputs": [],
   "source": [
    "from __future__ import absolute_import, division\n",
    "from __future__ import print_function\n",
    "import tensorflow as tf\n",
    "import pickle\n",
    "import copy\n",
    "import scipy\n",
    "\n",
    "# from black import out\n",
    "import autograd.numpy as np\n",
    "import autograd.numpy.random as npr\n",
    "from autograd.scipy.special import logsumexp\n",
    "from autograd import grad, jacobian\n",
    "from autograd import elementwise_grad as egrad\n",
    "from autograd.misc.flatten import flatten\n",
    "from autograd.misc.optimizers import adam"
   ]
  },
  {
   "cell_type": "code",
   "execution_count": 6,
   "metadata": {},
   "outputs": [],
   "source": [
    "# from torchvision import models\n",
    "# from torchsummary import summary"
   ]
  },
  {
   "cell_type": "markdown",
   "metadata": {},
   "source": [
    "# Load Model"
   ]
  },
  {
   "cell_type": "code",
   "execution_count": 5,
   "metadata": {},
   "outputs": [],
   "source": [
    "# direc = os.path.dirname(os.path.realpath(__file__))\n",
    "path_read = \"C:\\\\Users\\\\kmajd1\\\\Documents\\\\NNRepLayer_v2\\\\demos\\\\examples\\\\tc1_affine_transform\\\\tc1\\\\original_net\\\\model\"\n",
    "model_orig = tf.keras.models.load_model(path_read)"
   ]
  },
  {
   "cell_type": "code",
   "execution_count": 6,
   "metadata": {},
   "outputs": [],
   "source": [
    "weights = model_orig.get_weights()"
   ]
  },
  {
   "cell_type": "code",
   "execution_count": 7,
   "metadata": {},
   "outputs": [],
   "source": [
    "layer_sizes = np.array([3,3,3,3])"
   ]
  },
  {
   "cell_type": "code",
   "execution_count": 8,
   "metadata": {},
   "outputs": [],
   "source": [
    "ws = []\n",
    "for w in weights:\n",
    "    ws = ws + list(w.flatten())\n",
    "init_params = np.array(ws)"
   ]
  },
  {
   "cell_type": "code",
   "execution_count": 9,
   "metadata": {},
   "outputs": [],
   "source": [
    "def neural_net_predict(params, inputs, architechture):\n",
    "    \"\"\"Implements a deep neural network for classification.\n",
    "    params is a list of (weights, bias) tuples.\n",
    "    inputs is an (N x D) matrix.\n",
    "    returns normalized class log-probabilities.\"\"\"\n",
    "\n",
    "    idx = 0\n",
    "    num_layers = architechture.shape[0] - 1\n",
    "    for l in range(num_layers):\n",
    "        inp_dim = architechture[l]\n",
    "        out_dim = architechture[l + 1]\n",
    "        num_param = inp_dim * out_dim + out_dim\n",
    "        W = params[idx : idx + inp_dim * out_dim]\n",
    "        b = params[idx + inp_dim * out_dim : idx + inp_dim * out_dim + out_dim]\n",
    "        outputs = np.dot(inputs, W.reshape((inp_dim, out_dim))) + b\n",
    "        inputs = np.maximum(np.zeros((outputs.shape[0],outputs.shape[1])), outputs)\n",
    "        idx = idx + inp_dim * out_dim + out_dim\n",
    "\n",
    "    return outputs"
   ]
  },
  {
   "cell_type": "markdown",
   "metadata": {},
   "source": [
    "# Load Dataset"
   ]
  },
  {
   "cell_type": "code",
   "execution_count": 10,
   "metadata": {},
   "outputs": [],
   "source": [
    "def original_data_loader():\n",
    "    with open (\"C:\\\\Users\\\\kmajd1\\\\Documents\\\\NNRepLayer_v2\\\\demos\\\\examples\\\\tc1_affine_transform\\\\tc1\\\\original_net\\\\data\\\\input_output_data_tc1.pickle\", \"rb\") as data:\n",
    "        dataset = pickle.load (data)\n",
    "    return dataset[0], dataset[1], dataset[2], dataset[3]"
   ]
  },
  {
   "cell_type": "code",
   "execution_count": 11,
   "metadata": {},
   "outputs": [],
   "source": [
    "x_train, y_train, x_test, y_test = original_data_loader()"
   ]
  },
  {
   "cell_type": "markdown",
   "metadata": {},
   "source": [
    "# Calculate Hessian"
   ]
  },
  {
   "cell_type": "markdown",
   "metadata": {},
   "source": [
    "### Cost Function"
   ]
  },
  {
   "cell_type": "code",
   "execution_count": 12,
   "metadata": {},
   "outputs": [],
   "source": [
    "def soft_plus(x, t=10.): # (1/t) * Ln(1+exp(t*x))\n",
    "    return (1/t)*np.log(1+np.exp(t*x))\n",
    "    "
   ]
  },
  {
   "cell_type": "markdown",
   "metadata": {},
   "source": [
    "Constraint cost:\n",
    "\\begin{aligned}\n",
    "\\sum^{N}_{n=1}\\sum^{C}_{c=1} g(A_c y_n-b_c,t)\n",
    "\\end{aligned}\n",
    "where $g$ is a soft plus function\n",
    "\\begin{aligned}\n",
    "g(x,t) = \\frac{1}{t}\\ln{(1+e^{tx})},\n",
    "\\end{aligned}\n",
    "$C$ is the number of constraints, $t$ is the approximation coefficient, and $N$ is the number of samples."
   ]
  },
  {
   "cell_type": "code",
   "execution_count": 13,
   "metadata": {},
   "outputs": [],
   "source": [
    "A = np.array([[-0.70710678,  0.70710678],\n",
    "   [ 0.70710678,  0.70710678],\n",
    "   [-0.70710678, -0.70710678],\n",
    "   [ 0.70710678, -0.70710678]])\n",
    "b = np.array([[ 1.225     ],\n",
    "   [ 4.76053391],\n",
    "   [-2.31053391],\n",
    "   [ 1.225     ]])\n",
    "def dist_loss(params):\n",
    "    y_pred = neural_net_predict(params, x_train, layer_sizes)\n",
    "    const = np.matmul(A,y_pred[:,0:2].T) - b\n",
    "    loss = np.sum(\n",
    "#         np.maximum(np.zeros((const.shape[0],const.shape[1])), const)\n",
    "        soft_plus(const,10)\n",
    "    )\n",
    "    return loss"
   ]
  },
  {
   "cell_type": "code",
   "execution_count": 14,
   "metadata": {},
   "outputs": [],
   "source": [
    "def objective(params):\n",
    "    return np.sum((neural_net_predict(params, x_train, layer_sizes) - y_train) ** 2)"
   ]
  },
  {
   "cell_type": "markdown",
   "metadata": {},
   "source": [
    "###  Hessian"
   ]
  },
  {
   "cell_type": "code",
   "execution_count": 25,
   "metadata": {},
   "outputs": [],
   "source": [
    "hessian = jacobian(egrad(dist_loss))(init_params)"
   ]
  },
  {
   "cell_type": "code",
   "execution_count": 18,
   "metadata": {},
   "outputs": [],
   "source": [
    "# check if hessian has a nan value  \n",
    "if np.isnan(hessian).any():\n",
    "    print(\"Hessian has a nan value\")\n",
    "    exit()"
   ]
  },
  {
   "cell_type": "code",
   "execution_count": 16,
   "metadata": {},
   "outputs": [],
   "source": [
    "from numpy import linalg as la\n",
    "def isPD(B):\n",
    "    \"\"\"Returns true when input is positive-definite, via Cholesky\"\"\"\n",
    "    try:\n",
    "        _ = la.cholesky(B)\n",
    "        return True\n",
    "    except la.LinAlgError:\n",
    "        return False"
   ]
  },
  {
   "cell_type": "code",
   "execution_count": 17,
   "metadata": {},
   "outputs": [],
   "source": [
    "def nearestPD(A):\n",
    "    \"\"\"Find the nearest positive-definite matrix to input\n",
    "\n",
    "    A Python/Numpy port of John D'Errico's `nearestSPD` MATLAB code [1], which\n",
    "    credits [2].\n",
    "\n",
    "    [1] https://www.mathworks.com/matlabcentral/fileexchange/42885-nearestspd\n",
    "\n",
    "    [2] N.J. Higham, \"Computing a nearest symmetric positive semidefinite\n",
    "    matrix\" (1988): https://doi.org/10.1016/0024-3795(88)90223-6\n",
    "    \"\"\"\n",
    "\n",
    "    B = (A + A.T) / 2\n",
    "    _, s, V = la.svd(B)\n",
    "\n",
    "    H = np.dot(V.T, np.dot(np.diag(s), V))\n",
    "\n",
    "    A2 = (B + H) / 2\n",
    "\n",
    "    A3 = (A2 + A2.T) / 2\n",
    "\n",
    "    if isPD(A3):\n",
    "        return A3\n",
    "\n",
    "    spacing = np.spacing(la.norm(A))\n",
    "    # The above is different from [1]. It appears that MATLAB's `chol` Cholesky\n",
    "    # decomposition will accept matrixes with exactly 0-eigenvalue, whereas\n",
    "    # Numpy's will not. So where [1] uses `eps(mineig)` (where `eps` is Matlab\n",
    "    # for `np.spacing`), we use the above definition. CAVEAT: our `spacing`\n",
    "    # will be much larger than [1]'s `eps(mineig)`, since `mineig` is usually on\n",
    "    # the order of 1e-16, and `eps(1e-16)` is on the order of 1e-34, whereas\n",
    "    # `spacing` will, for Gaussian random matrixes of small dimension, be on\n",
    "    # othe order of 1e-16. In practice, both ways converge, as the unit test\n",
    "    # below suggests.\n",
    "    I = np.eye(A.shape[0])\n",
    "    k = 1\n",
    "    while not isPD(A3):\n",
    "        mineig = np.min(np.real(la.eigvals(A3)))\n",
    "        A3 += I * (-mineig * k**2 + spacing)\n",
    "        k += 1\n",
    "\n",
    "    return A3"
   ]
  },
  {
   "cell_type": "code",
   "execution_count": 21,
   "metadata": {},
   "outputs": [
    {
     "data": {
      "text/plain": [
       "True"
      ]
     },
     "execution_count": 21,
     "metadata": {},
     "output_type": "execute_result"
    }
   ],
   "source": [
    "isPD(hessian)\n",
    "hessian = nearestPD(hessian)\n",
    "isPD(B)"
   ]
  },
  {
   "cell_type": "markdown",
   "metadata": {},
   "source": [
    "### Find Sparse Eigenvectors for Hessian"
   ]
  },
  {
   "cell_type": "code",
   "execution_count": 18,
   "metadata": {},
   "outputs": [],
   "source": [
    "def get_weight_range(arch, layer):\n",
    "    idx = 0\n",
    "    num_layers = arch.shape[0] - 1\n",
    "    for l in range(0, layer + 1):\n",
    "        idx_range = [idx]\n",
    "        inp_dim = arch[l]\n",
    "        out_dim = arch[l + 1]\n",
    "        idx = idx + inp_dim * out_dim + out_dim\n",
    "        idx_range.append(idx)\n",
    "        \n",
    "    return idx_range\n",
    "\n",
    "def give_sparse_eigenvec(H, sparse_idx):\n",
    "    \n",
    "    x = cvx.Variable(H.shape[0])\n",
    "    obj = -x.T*H*x\n",
    "    cons = [cvx.sum_squares(x) == 1]\n",
    "    for i in range(0,H.shape[0]):\n",
    "        if i not in sparse_idx:\n",
    "            cons.append(x[i]==0.)\n",
    "    prob = cvx.Problem(cvx.Minimize(obj), cons)\n",
    "    \n",
    "    # Create a QCQP handler.\n",
    "    qcqp = QCQP(prob)\n",
    "\n",
    "    # Solve the SDP relaxation and get a starting point to a local method\n",
    "    qcqp.suggest(SDR)\n",
    "#     print(\"SDR lower bound: %.3f\" % qcqp.sdr_bound)\n",
    "\n",
    "    # Attempt to improve the starting point given by the suggest method\n",
    "    f_cd, v_cd = qcqp.improve(COORD_DESCENT)\n",
    "#     print(\"Coordinate descent: objective %.3f, violation %.3f\" % (f_cd, v_cd))\n",
    "#     print(x.value)\n",
    "    \n",
    "    # extract sparse items\n",
    "    p = np.zeros(H.shape[0])\n",
    "    for i in sparse_idx:\n",
    "        p[i] = x.value[i].flatten()[0]\n",
    "\n",
    "    return np.array(p)\n",
    "\n",
    "def sparse_eigenvector(H, arch, layer, num_non_sparse):\n",
    "    \n",
    "    # get layer indices \n",
    "    idx_range = get_weight_range(arch, layer)\n",
    "    idx_list = [i for i in range(idx_range[0], idx_range[1])]\n",
    "    \n",
    "    # test all num_non_sparse combinations of weights\n",
    "    # and check which one maximizes w.T*H*w\n",
    "    max_cost = 0\n",
    "    iteration = 1\n",
    "    all_iters = int(\n",
    "        scipy.special.factorial(len(idx_list))/\n",
    "        (\n",
    "            scipy.special.factorial(num_non_sparse)*\n",
    "            scipy.special.factorial(len(idx_list)-num_non_sparse)\n",
    "        )\n",
    "    )\n",
    "    for L in range(num_non_sparse,num_non_sparse+1):\n",
    "        for subset in itertools.combinations(idx_list,L):\n",
    "            print(f\"iteration: {iteration}/{all_iters}\")\n",
    "            sparse_idx = list(subset)\n",
    "            vec = give_sparse_eigenvec(H, sparse_idx)\n",
    "            cost = np.matmul(vec,np.matmul(H,vec))\n",
    "            if cost >= max_cost:\n",
    "                selected_vec = vec\n",
    "            iteration += 1\n",
    "    \n",
    "    return vec\n",
    "            \n",
    "    "
   ]
  },
  {
   "cell_type": "code",
   "execution_count": 19,
   "metadata": {},
   "outputs": [
    {
     "name": "stdout",
     "output_type": "stream",
     "text": [
      "iteration: 1/495\n",
      "SCS deprecation warning: The 'f' field in the cone struct \n",
      "has been replaced by 'z' to better reflect the Zero cone. \n",
      "Please replace usage of 'f' with 'z'. If both 'f' and 'z' \n",
      "are set then we sum the two fields to get the final zero \n",
      "cone size.\n"
     ]
    },
    {
     "name": "stderr",
     "output_type": "stream",
     "text": [
      "/home/local/ASUAD/kmajd1/autograd/venv1/lib/python3.6/site-packages/cvxpy/expressions/expression.py:289: UserWarning: Forming a nonconvex expression (affine)*(affine).\n",
      "  warnings.warn(\"Forming a nonconvex expression (affine)*(affine).\")\n"
     ]
    },
    {
     "ename": "KeyError",
     "evalue": "'solved'",
     "output_type": "error",
     "traceback": [
      "\u001b[0;31m---------------------------------------------------------------------------\u001b[0m",
      "\u001b[0;31mKeyError\u001b[0m                                  Traceback (most recent call last)",
      "\u001b[0;32m<ipython-input-19-c9b778f37af9>\u001b[0m in \u001b[0;36m<module>\u001b[0;34m\u001b[0m\n\u001b[0;32m----> 1\u001b[0;31m \u001b[0meigenvector\u001b[0m \u001b[0;34m=\u001b[0m \u001b[0msparse_eigenvector\u001b[0m\u001b[0;34m(\u001b[0m\u001b[0mhessian\u001b[0m\u001b[0;34m,\u001b[0m \u001b[0mlayer_sizes\u001b[0m\u001b[0;34m,\u001b[0m \u001b[0;36m0\u001b[0m\u001b[0;34m,\u001b[0m \u001b[0;36m4\u001b[0m\u001b[0;34m)\u001b[0m\u001b[0;34m\u001b[0m\u001b[0;34m\u001b[0m\u001b[0m\n\u001b[0m",
      "\u001b[0;32m<ipython-input-18-da290cd3ec2d>\u001b[0m in \u001b[0;36msparse_eigenvector\u001b[0;34m(H, arch, layer, num_non_sparse)\u001b[0m\n\u001b[1;32m     61\u001b[0m             \u001b[0mprint\u001b[0m\u001b[0;34m(\u001b[0m\u001b[0;34mf\"iteration: {iteration}/{all_iters}\"\u001b[0m\u001b[0;34m)\u001b[0m\u001b[0;34m\u001b[0m\u001b[0;34m\u001b[0m\u001b[0m\n\u001b[1;32m     62\u001b[0m             \u001b[0msparse_idx\u001b[0m \u001b[0;34m=\u001b[0m \u001b[0mlist\u001b[0m\u001b[0;34m(\u001b[0m\u001b[0msubset\u001b[0m\u001b[0;34m)\u001b[0m\u001b[0;34m\u001b[0m\u001b[0;34m\u001b[0m\u001b[0m\n\u001b[0;32m---> 63\u001b[0;31m             \u001b[0mvec\u001b[0m \u001b[0;34m=\u001b[0m \u001b[0mgive_sparse_eigenvec\u001b[0m\u001b[0;34m(\u001b[0m\u001b[0mH\u001b[0m\u001b[0;34m,\u001b[0m \u001b[0msparse_idx\u001b[0m\u001b[0;34m)\u001b[0m\u001b[0;34m\u001b[0m\u001b[0;34m\u001b[0m\u001b[0m\n\u001b[0m\u001b[1;32m     64\u001b[0m             \u001b[0mcost\u001b[0m \u001b[0;34m=\u001b[0m \u001b[0mnp\u001b[0m\u001b[0;34m.\u001b[0m\u001b[0mmatmul\u001b[0m\u001b[0;34m(\u001b[0m\u001b[0mvec\u001b[0m\u001b[0;34m,\u001b[0m\u001b[0mnp\u001b[0m\u001b[0;34m.\u001b[0m\u001b[0mmatmul\u001b[0m\u001b[0;34m(\u001b[0m\u001b[0mH\u001b[0m\u001b[0;34m,\u001b[0m\u001b[0mvec\u001b[0m\u001b[0;34m)\u001b[0m\u001b[0;34m)\u001b[0m\u001b[0;34m\u001b[0m\u001b[0;34m\u001b[0m\u001b[0m\n\u001b[1;32m     65\u001b[0m             \u001b[0;32mif\u001b[0m \u001b[0mcost\u001b[0m \u001b[0;34m>=\u001b[0m \u001b[0mmax_cost\u001b[0m\u001b[0;34m:\u001b[0m\u001b[0;34m\u001b[0m\u001b[0;34m\u001b[0m\u001b[0m\n",
      "\u001b[0;32m<ipython-input-18-da290cd3ec2d>\u001b[0m in \u001b[0;36mgive_sparse_eigenvec\u001b[0;34m(H, sparse_idx)\u001b[0m\n\u001b[1;32m     25\u001b[0m \u001b[0;34m\u001b[0m\u001b[0m\n\u001b[1;32m     26\u001b[0m     \u001b[0;31m# Solve the SDP relaxation and get a starting point to a local method\u001b[0m\u001b[0;34m\u001b[0m\u001b[0;34m\u001b[0m\u001b[0;34m\u001b[0m\u001b[0m\n\u001b[0;32m---> 27\u001b[0;31m     \u001b[0mqcqp\u001b[0m\u001b[0;34m.\u001b[0m\u001b[0msuggest\u001b[0m\u001b[0;34m(\u001b[0m\u001b[0mSDR\u001b[0m\u001b[0;34m)\u001b[0m\u001b[0;34m\u001b[0m\u001b[0;34m\u001b[0m\u001b[0m\n\u001b[0m\u001b[1;32m     28\u001b[0m \u001b[0;31m#     print(\"SDR lower bound: %.3f\" % qcqp.sdr_bound)\u001b[0m\u001b[0;34m\u001b[0m\u001b[0;34m\u001b[0m\u001b[0;34m\u001b[0m\u001b[0m\n\u001b[1;32m     29\u001b[0m \u001b[0;34m\u001b[0m\u001b[0m\n",
      "\u001b[0;32m~/autograd/venv1/lib/python3.6/site-packages/qcqp/qcqp.py\u001b[0m in \u001b[0;36msuggest\u001b[0;34m(self, method, eps, *args, **kwargs)\u001b[0m\n\u001b[1;32m    389\u001b[0m         \u001b[0;32melif\u001b[0m \u001b[0mmethod\u001b[0m \u001b[0;34m==\u001b[0m \u001b[0ms\u001b[0m\u001b[0;34m.\u001b[0m\u001b[0mSDR\u001b[0m\u001b[0;34m:\u001b[0m\u001b[0;34m\u001b[0m\u001b[0;34m\u001b[0m\u001b[0m\n\u001b[1;32m    390\u001b[0m             \u001b[0;32mif\u001b[0m \u001b[0mself\u001b[0m\u001b[0;34m.\u001b[0m\u001b[0msdr_sol\u001b[0m \u001b[0;32mis\u001b[0m \u001b[0;32mNone\u001b[0m\u001b[0;34m:\u001b[0m\u001b[0;34m\u001b[0m\u001b[0;34m\u001b[0m\u001b[0m\n\u001b[0;32m--> 391\u001b[0;31m                 \u001b[0mself\u001b[0m\u001b[0;34m.\u001b[0m\u001b[0msdr_sol\u001b[0m\u001b[0;34m,\u001b[0m \u001b[0mself\u001b[0m\u001b[0;34m.\u001b[0m\u001b[0msdr_bound\u001b[0m \u001b[0;34m=\u001b[0m \u001b[0msolve_sdr\u001b[0m\u001b[0;34m(\u001b[0m\u001b[0mself\u001b[0m\u001b[0;34m.\u001b[0m\u001b[0mqcqp_form\u001b[0m\u001b[0;34m,\u001b[0m \u001b[0;34m*\u001b[0m\u001b[0margs\u001b[0m\u001b[0;34m,\u001b[0m \u001b[0;34m**\u001b[0m\u001b[0mkwargs\u001b[0m\u001b[0;34m)\u001b[0m\u001b[0;34m\u001b[0m\u001b[0;34m\u001b[0m\u001b[0m\n\u001b[0m\u001b[1;32m    392\u001b[0m                 \u001b[0;32mif\u001b[0m \u001b[0mself\u001b[0m\u001b[0;34m.\u001b[0m\u001b[0mmaximize_flag\u001b[0m\u001b[0;34m:\u001b[0m\u001b[0;34m\u001b[0m\u001b[0;34m\u001b[0m\u001b[0m\n\u001b[1;32m    393\u001b[0m                     \u001b[0mself\u001b[0m\u001b[0;34m.\u001b[0m\u001b[0msdr_bound\u001b[0m \u001b[0;34m*=\u001b[0m \u001b[0;34m-\u001b[0m\u001b[0;36m1\u001b[0m\u001b[0;34m\u001b[0m\u001b[0;34m\u001b[0m\u001b[0m\n",
      "\u001b[0;32m~/autograd/venv1/lib/python3.6/site-packages/qcqp/qcqp.py\u001b[0m in \u001b[0;36msolve_sdr\u001b[0;34m(prob, *args, **kwargs)\u001b[0m\n\u001b[1;32m     90\u001b[0m \u001b[0;34m\u001b[0m\u001b[0m\n\u001b[1;32m     91\u001b[0m     \u001b[0mrel_prob\u001b[0m \u001b[0;34m=\u001b[0m \u001b[0mcvx\u001b[0m\u001b[0;34m.\u001b[0m\u001b[0mProblem\u001b[0m\u001b[0;34m(\u001b[0m\u001b[0mrel_obj\u001b[0m\u001b[0;34m,\u001b[0m \u001b[0mrel_constr\u001b[0m\u001b[0;34m)\u001b[0m\u001b[0;34m\u001b[0m\u001b[0;34m\u001b[0m\u001b[0m\n\u001b[0;32m---> 92\u001b[0;31m     \u001b[0mrel_prob\u001b[0m\u001b[0;34m.\u001b[0m\u001b[0msolve\u001b[0m\u001b[0;34m(\u001b[0m\u001b[0;34m*\u001b[0m\u001b[0margs\u001b[0m\u001b[0;34m,\u001b[0m \u001b[0;34m**\u001b[0m\u001b[0mkwargs\u001b[0m\u001b[0;34m)\u001b[0m\u001b[0;34m\u001b[0m\u001b[0;34m\u001b[0m\u001b[0m\n\u001b[0m\u001b[1;32m     93\u001b[0m \u001b[0;34m\u001b[0m\u001b[0m\n\u001b[1;32m     94\u001b[0m     \u001b[0;32mif\u001b[0m \u001b[0mrel_prob\u001b[0m\u001b[0;34m.\u001b[0m\u001b[0mstatus\u001b[0m \u001b[0;32mnot\u001b[0m \u001b[0;32min\u001b[0m \u001b[0;34m[\u001b[0m\u001b[0mcvx\u001b[0m\u001b[0;34m.\u001b[0m\u001b[0mOPTIMAL\u001b[0m\u001b[0;34m,\u001b[0m \u001b[0mcvx\u001b[0m\u001b[0;34m.\u001b[0m\u001b[0mOPTIMAL_INACCURATE\u001b[0m\u001b[0;34m]\u001b[0m\u001b[0;34m:\u001b[0m\u001b[0;34m\u001b[0m\u001b[0;34m\u001b[0m\u001b[0m\n",
      "\u001b[0;32m~/autograd/venv1/lib/python3.6/site-packages/cvxpy/problems/problem.py\u001b[0m in \u001b[0;36msolve\u001b[0;34m(self, *args, **kwargs)\u001b[0m\n\u001b[1;32m    207\u001b[0m             \u001b[0;32mreturn\u001b[0m \u001b[0mfunc\u001b[0m\u001b[0;34m(\u001b[0m\u001b[0mself\u001b[0m\u001b[0;34m,\u001b[0m \u001b[0;34m*\u001b[0m\u001b[0margs\u001b[0m\u001b[0;34m,\u001b[0m \u001b[0;34m**\u001b[0m\u001b[0mkwargs\u001b[0m\u001b[0;34m)\u001b[0m\u001b[0;34m\u001b[0m\u001b[0;34m\u001b[0m\u001b[0m\n\u001b[1;32m    208\u001b[0m         \u001b[0;32melse\u001b[0m\u001b[0;34m:\u001b[0m\u001b[0;34m\u001b[0m\u001b[0;34m\u001b[0m\u001b[0m\n\u001b[0;32m--> 209\u001b[0;31m             \u001b[0;32mreturn\u001b[0m \u001b[0mself\u001b[0m\u001b[0;34m.\u001b[0m\u001b[0m_solve\u001b[0m\u001b[0;34m(\u001b[0m\u001b[0;34m*\u001b[0m\u001b[0margs\u001b[0m\u001b[0;34m,\u001b[0m \u001b[0;34m**\u001b[0m\u001b[0mkwargs\u001b[0m\u001b[0;34m)\u001b[0m\u001b[0;34m\u001b[0m\u001b[0;34m\u001b[0m\u001b[0m\n\u001b[0m\u001b[1;32m    210\u001b[0m \u001b[0;34m\u001b[0m\u001b[0m\n\u001b[1;32m    211\u001b[0m     \u001b[0;34m@\u001b[0m\u001b[0mclassmethod\u001b[0m\u001b[0;34m\u001b[0m\u001b[0;34m\u001b[0m\u001b[0m\n",
      "\u001b[0;32m~/autograd/venv1/lib/python3.6/site-packages/cvxpy/problems/problem.py\u001b[0m in \u001b[0;36m_solve\u001b[0;34m(self, solver, ignore_dcp, warm_start, verbose, parallel, **kwargs)\u001b[0m\n\u001b[1;32m    329\u001b[0m             results_dict = solver.solve(objective, constraints,\n\u001b[1;32m    330\u001b[0m                                         \u001b[0mself\u001b[0m\u001b[0;34m.\u001b[0m\u001b[0m_cached_data\u001b[0m\u001b[0;34m,\u001b[0m \u001b[0mwarm_start\u001b[0m\u001b[0;34m,\u001b[0m \u001b[0mverbose\u001b[0m\u001b[0;34m,\u001b[0m\u001b[0;34m\u001b[0m\u001b[0;34m\u001b[0m\u001b[0m\n\u001b[0;32m--> 331\u001b[0;31m                                         kwargs)\n\u001b[0m\u001b[1;32m    332\u001b[0m         \u001b[0;31m# Presolve determined problem was unbounded or infeasible.\u001b[0m\u001b[0;34m\u001b[0m\u001b[0;34m\u001b[0m\u001b[0;34m\u001b[0m\u001b[0m\n\u001b[1;32m    333\u001b[0m         \u001b[0;32melse\u001b[0m\u001b[0;34m:\u001b[0m\u001b[0;34m\u001b[0m\u001b[0;34m\u001b[0m\u001b[0m\n",
      "\u001b[0;32m~/autograd/venv1/lib/python3.6/site-packages/cvxpy/problems/solvers/scs_intf.py\u001b[0m in \u001b[0;36msolve\u001b[0;34m(self, objective, constraints, cached_data, warm_start, verbose, solver_opts)\u001b[0m\n\u001b[1;32m    106\u001b[0m \u001b[0;34m\u001b[0m\u001b[0m\n\u001b[1;32m    107\u001b[0m         \u001b[0mresults_dict\u001b[0m \u001b[0;34m=\u001b[0m \u001b[0mscs\u001b[0m\u001b[0;34m.\u001b[0m\u001b[0msolve\u001b[0m\u001b[0;34m(\u001b[0m\u001b[0mscs_args\u001b[0m\u001b[0;34m,\u001b[0m \u001b[0mdata\u001b[0m\u001b[0;34m[\u001b[0m\u001b[0ms\u001b[0m\u001b[0;34m.\u001b[0m\u001b[0mDIMS\u001b[0m\u001b[0;34m]\u001b[0m\u001b[0;34m,\u001b[0m \u001b[0;34m**\u001b[0m\u001b[0msolver_opts\u001b[0m\u001b[0;34m)\u001b[0m\u001b[0;34m\u001b[0m\u001b[0;34m\u001b[0m\u001b[0m\n\u001b[0;32m--> 108\u001b[0;31m         \u001b[0;32mreturn\u001b[0m \u001b[0mself\u001b[0m\u001b[0;34m.\u001b[0m\u001b[0mformat_results\u001b[0m\u001b[0;34m(\u001b[0m\u001b[0mresults_dict\u001b[0m\u001b[0;34m,\u001b[0m \u001b[0mdata\u001b[0m\u001b[0;34m,\u001b[0m \u001b[0mcached_data\u001b[0m\u001b[0;34m)\u001b[0m\u001b[0;34m\u001b[0m\u001b[0;34m\u001b[0m\u001b[0m\n\u001b[0m\u001b[1;32m    109\u001b[0m \u001b[0;34m\u001b[0m\u001b[0m\n\u001b[1;32m    110\u001b[0m     \u001b[0;32mdef\u001b[0m \u001b[0mformat_results\u001b[0m\u001b[0;34m(\u001b[0m\u001b[0mself\u001b[0m\u001b[0;34m,\u001b[0m \u001b[0mresults_dict\u001b[0m\u001b[0;34m,\u001b[0m \u001b[0mdata\u001b[0m\u001b[0;34m,\u001b[0m \u001b[0mcached_data\u001b[0m\u001b[0;34m)\u001b[0m\u001b[0;34m:\u001b[0m\u001b[0;34m\u001b[0m\u001b[0;34m\u001b[0m\u001b[0m\n",
      "\u001b[0;32m~/autograd/venv1/lib/python3.6/site-packages/cvxpy/problems/solvers/scs_intf.py\u001b[0m in \u001b[0;36mformat_results\u001b[0;34m(self, results_dict, data, cached_data)\u001b[0m\n\u001b[1;32m    128\u001b[0m         \u001b[0mdims\u001b[0m \u001b[0;34m=\u001b[0m \u001b[0mdata\u001b[0m\u001b[0;34m[\u001b[0m\u001b[0ms\u001b[0m\u001b[0;34m.\u001b[0m\u001b[0mDIMS\u001b[0m\u001b[0;34m]\u001b[0m\u001b[0;34m\u001b[0m\u001b[0;34m\u001b[0m\u001b[0m\n\u001b[1;32m    129\u001b[0m         \u001b[0mnew_results\u001b[0m \u001b[0;34m=\u001b[0m \u001b[0;34m{\u001b[0m\u001b[0;34m}\u001b[0m\u001b[0;34m\u001b[0m\u001b[0;34m\u001b[0m\u001b[0m\n\u001b[0;32m--> 130\u001b[0;31m         \u001b[0mstatus\u001b[0m \u001b[0;34m=\u001b[0m \u001b[0mself\u001b[0m\u001b[0;34m.\u001b[0m\u001b[0mSTATUS_MAP\u001b[0m\u001b[0;34m[\u001b[0m\u001b[0mresults_dict\u001b[0m\u001b[0;34m[\u001b[0m\u001b[0;34m\"info\"\u001b[0m\u001b[0;34m]\u001b[0m\u001b[0;34m[\u001b[0m\u001b[0;34m\"status\"\u001b[0m\u001b[0;34m]\u001b[0m\u001b[0;34m]\u001b[0m\u001b[0;34m\u001b[0m\u001b[0;34m\u001b[0m\u001b[0m\n\u001b[0m\u001b[1;32m    131\u001b[0m         \u001b[0mnew_results\u001b[0m\u001b[0;34m[\u001b[0m\u001b[0ms\u001b[0m\u001b[0;34m.\u001b[0m\u001b[0mSTATUS\u001b[0m\u001b[0;34m]\u001b[0m \u001b[0;34m=\u001b[0m \u001b[0mstatus\u001b[0m\u001b[0;34m\u001b[0m\u001b[0;34m\u001b[0m\u001b[0m\n\u001b[1;32m    132\u001b[0m \u001b[0;34m\u001b[0m\u001b[0m\n",
      "\u001b[0;31mKeyError\u001b[0m: 'solved'"
     ]
    }
   ],
   "source": [
    "eigenvector = sparse_eigenvector(hessian, layer_sizes, 0, 4)"
   ]
  },
  {
   "cell_type": "markdown",
   "metadata": {},
   "source": [
    "Used methods from Sparse PCA. \n",
    "\n",
    "**Idea:**\n",
    "\\begin{aligned}\n",
    "&\\max_{w} &&w^THw\\\\\n",
    "&s.t. && w^Tw=1\\\\\n",
    "&&& \\lVert w\\rVert_0\\leq k &&& k\\leq \\dim(w)\n",
    "\\end{aligned}\n",
    "\n",
    "Finding the optimal solution $w$ and deflate $H$ (using $H-(w^THw)ww^T$) to obtain a new matrix and furthur components, repectively. \n",
    "\n",
    "**Note:** This OPT is a **combinatorial problem**."
   ]
  },
  {
   "cell_type": "markdown",
   "metadata": {},
   "source": [
    "#### To calculate sparse eigenvectors, Alternating Manifold Proximal Gradient Method is used: https://github.com/xinging-birds/AManPG.\n",
    "\n",
    "Drawbacks:\n",
    "1. Cannot specify the number of sparse loadings.\n",
    "2. Requires inverse of matrix. (Hessian drawn from the constraint cost might be singular.)\n",
    "\n",
    "Below example shows the results drawn from the original objective function. Given that network is converged to a local minima, its Hessian is positive definite and thus not singular."
   ]
  },
  {
   "cell_type": "code",
   "execution_count": 24,
   "metadata": {},
   "outputs": [
    {
     "data": {
      "text/plain": [
       "array([[ 0.4067785 , -0.01460799, -0.23077674, ..., -0.11772513,\n",
       "         0.05924115, -0.01933348],\n",
       "       [-0.16486362,  0.4178346 ,  0.05848832, ..., -0.04762288,\n",
       "        -0.00918794, -0.17517872],\n",
       "       [-0.40011087,  0.14076704,  0.23083061, ...,  0.08593531,\n",
       "        -0.05516308, -0.04102509],\n",
       "       ...,\n",
       "       [-0.38433215,  0.14482531,  0.199905  , ...,  0.09541432,\n",
       "        -0.04979534, -0.05234363],\n",
       "       [ 0.24677305,  0.23425701, -0.1827898 , ..., -0.13790439,\n",
       "         0.07458597, -0.1416377 ],\n",
       "       [-0.02817181, -0.02817181, -0.02817181, ..., -0.02817181,\n",
       "        -0.02817181,  0.98601323]], dtype=float32)"
      ]
     },
     "execution_count": 24,
     "metadata": {},
     "output_type": "execute_result"
    }
   ],
   "source": [
    "hessian"
   ]
  },
  {
   "cell_type": "code",
   "execution_count": 23,
   "metadata": {},
   "outputs": [
    {
     "name": "stdout",
     "output_type": "stream",
     "text": [
      "Finite: 278 iterations with final value -23.954580193504164, sparsity 0.7777777777777778, timediff 0.0548997000000071.\n"
     ]
    },
    {
     "data": {
      "text/plain": [
       "array([[-6.71704356e-01],\n",
       "       [ 0.00000000e+00],\n",
       "       [-0.00000000e+00],\n",
       "       [-5.07750794e-01],\n",
       "       [ 0.00000000e+00],\n",
       "       [-0.00000000e+00],\n",
       "       [ 0.00000000e+00],\n",
       "       [-0.00000000e+00],\n",
       "       [-0.00000000e+00],\n",
       "       [ 0.00000000e+00],\n",
       "       [-0.00000000e+00],\n",
       "       [-0.00000000e+00],\n",
       "       [-0.00000000e+00],\n",
       "       [-0.00000000e+00],\n",
       "       [ 0.00000000e+00],\n",
       "       [ 3.88842914e-01],\n",
       "       [ 0.00000000e+00],\n",
       "       [-3.42689650e-01],\n",
       "       [-0.00000000e+00],\n",
       "       [-0.00000000e+00],\n",
       "       [ 0.00000000e+00],\n",
       "       [-0.00000000e+00],\n",
       "       [-0.00000000e+00],\n",
       "       [ 0.00000000e+00],\n",
       "       [ 8.26307501e-05],\n",
       "       [-3.91056219e-02],\n",
       "       [ 0.00000000e+00],\n",
       "       [-0.00000000e+00],\n",
       "       [ 0.00000000e+00],\n",
       "       [ 0.00000000e+00],\n",
       "       [ 8.10822279e-02],\n",
       "       [-1.19431144e-01],\n",
       "       [ 0.00000000e+00],\n",
       "       [-0.00000000e+00],\n",
       "       [ 0.00000000e+00],\n",
       "       [ 0.00000000e+00]])"
      ]
     },
     "execution_count": 23,
     "metadata": {},
     "output_type": "execute_result"
    }
   ],
   "source": [
    "import numpy as np\n",
    "from sparsepca import spca\n",
    "\n",
    "k = 1  # columns\n",
    "d = 10  # dimensions\n",
    "m = 1000  # sample size\n",
    "lambda1 = np.array([.1])\n",
    "lambda2 = 1e-6\n",
    "\n",
    "np.random.seed(10)\n",
    "a = np.random.normal(0, 1, size=(m, d))  # generate random normal 1000x500 matrix\n",
    "fin_sprout = spca(hessian, lambda1, lambda2, k=k, type= 1)\n",
    "print(f\"Finite: {fin_sprout['iter']} iterations with final value {fin_sprout['f_manpg']}, sparsity {fin_sprout['sparsity']}, timediff {fin_sprout['time']}.\")\n",
    "\n",
    "fin_sprout['loadings']\n"
   ]
  },
  {
   "cell_type": "code",
   "execution_count": null,
   "metadata": {},
   "outputs": [
    {
     "name": "stdout",
     "output_type": "stream",
     "text": [
      "The eigenvalue index with the lowest loss 1\n"
     ]
    },
    {
     "data": {
      "image/png": "[encoded data removed]",
      "text/plain": [
       "<Figure size 432x288 with 1 Axes>"
      ]
     },
     "metadata": {
      "needs_background": "light"
     },
     "output_type": "display_data"
    }
   ],
   "source": [
    "# lambda is a small scalar that we use to perturb the model parameters along the eigenvectors \n",
    "lams = np.linspace(-1, 1, 100).astype(np.float32)\n",
    "\n",
    "loss_list = []\n",
    "num_eig = 10\n",
    "# model_perb = model_perb.cuda()\n",
    "lowest = np.inf\n",
    "for i in range(1):\n",
    "    for lam in lams:\n",
    "        par = init_params + lam * q\n",
    "        loss_list.append(objective(par))\n",
    "    plt.plot(lams, loss_list, color = (i/(num_eig+1),i/(num_eig+1),1))\n",
    "    if min(loss_list) < lowest:\n",
    "        lowest_idx = i\n",
    "        lowest = min(loss_list)\n",
    "    loss_list = []\n",
    "    \n",
    "plt.plot(np.array([-1, 1]), np.array([0, 0]), 'k--')\n",
    "plt.ylabel('constraint loss')\n",
    "plt.xlabel('Perturbation')\n",
    "plt.ylim([-1,100])\n",
    "plt.xlim([-0.8,.8])\n",
    "plt.title('Loss landscape perturbed based on top 10 Hessian eigenvector')\n",
    "print(f\"The eigenvalue index with the lowest loss {lowest_idx+1}\")"
   ]
  },
  {
   "cell_type": "code",
   "execution_count": null,
   "metadata": {},
   "outputs": [
    {
     "data": {
      "text/plain": [
       "array([-0.80683649,  0.        ,  0.02820214, -0.41501571,  0.        ,\n",
       "        0.1432579 ,  0.        , -0.        , -0.        ,  0.        ,\n",
       "       -0.        , -0.        , -0.        ,  0.        ,  0.        ,\n",
       "        0.13509211, -0.03454207, -0.20587091, -0.        , -0.        ,\n",
       "        0.        , -0.        , -0.        , -0.        ,  0.14467402,\n",
       "       -0.01232073, -0.03776994, -0.        , -0.        ,  0.        ,\n",
       "        0.23461965, -0.12057524, -0.03923119, -0.        ,  0.        ,\n",
       "        0.        ])"
      ]
     },
     "execution_count": 21,
     "metadata": {},
     "output_type": "execute_result"
    }
   ],
   "source": [
    "fin_sprout['loadings'][:,0]"
   ]
  },
  {
   "cell_type": "code",
   "execution_count": null,
   "metadata": {},
   "outputs": [
    {
     "data": {
      "text/plain": [
       "0.8"
      ]
     },
     "execution_count": 20,
     "metadata": {},
     "output_type": "execute_result"
    }
   ],
   "source": [
    "import numpy as np\n",
    "from sklearn.datasets import make_friedman1\n",
    "from sklearn.decomposition import SparsePCA\n",
    "X, _ = make_friedman1(n_samples=200, n_features=5, random_state=0)\n",
    "transformer = SparsePCA(n_components=5, random_state=0)\n",
    "transformer.fit(X)\n",
    "X_transformed = transformer.transform(X)\n",
    "X_transformed.shape\n",
    "# most values in the components_ are zero (sparsity)\n",
    "np.mean(transformer.components_ == 0)"
   ]
  },
  {
   "cell_type": "code",
   "execution_count": null,
   "metadata": {},
   "outputs": [
    {
     "data": {
      "text/plain": [
       "{'U_init': None,\n",
       " 'V_init': None,\n",
       " 'alpha': 1,\n",
       " 'max_iter': 1000,\n",
       " 'method': 'lars',\n",
       " 'n_components': 5,\n",
       " 'n_jobs': None,\n",
       " 'random_state': 0,\n",
       " 'ridge_alpha': 0.01,\n",
       " 'tol': 1e-08,\n",
       " 'verbose': False}"
      ]
     },
     "execution_count": 21,
     "metadata": {},
     "output_type": "execute_result"
    }
   ],
   "source": [
    "transformer.get_params(deep=True)"
   ]
  },
  {
   "cell_type": "code",
   "execution_count": null,
   "metadata": {},
   "outputs": [
    {
     "data": {
      "text/plain": [
       "array([[-3.87157851e-01],\n",
       "       [ 4.05375701e-02],\n",
       "       [ 2.22137814e-01],\n",
       "       [-3.80636913e-01],\n",
       "       [ 4.06634922e-02],\n",
       "       [ 2.18762781e-01],\n",
       "       [-1.42105631e-01],\n",
       "       [ 2.06505066e-02],\n",
       "       [ 8.92296698e-02],\n",
       "       [-1.42105629e-01],\n",
       "       [ 2.06505084e-02],\n",
       "       [ 8.92296698e-02],\n",
       "       [ 1.62046688e-01],\n",
       "       [-5.76964310e-02],\n",
       "       [-1.01923966e-01],\n",
       "       [ 3.70779511e-01],\n",
       "       [-1.46005011e-01],\n",
       "       [-2.49727629e-01],\n",
       "       [ 1.40124323e-01],\n",
       "       [-4.84108654e-02],\n",
       "       [-8.60814434e-02],\n",
       "       [ 1.31121459e-01],\n",
       "       [-4.43788962e-02],\n",
       "       [-7.93058815e-02],\n",
       "       [ 2.75432818e-01],\n",
       "       [-1.58908262e-01],\n",
       "       [-1.07247652e-02],\n",
       "       [ 1.00002825e-01],\n",
       "       [-5.00929836e-02],\n",
       "       [ 1.55364189e-03],\n",
       "       [ 2.73266298e-01],\n",
       "       [-1.58519952e-01],\n",
       "       [-1.03214110e-02],\n",
       "       [ 1.19069665e-01],\n",
       "       [-6.12807646e-02],\n",
       "       [ 1.25196768e-04]])"
      ]
     },
     "execution_count": 22,
     "metadata": {},
     "output_type": "execute_result"
    }
   ],
   "source": [
    "fin_sprout['x']"
   ]
  },
  {
   "cell_type": "code",
   "execution_count": null,
   "metadata": {},
   "outputs": [],
   "source": [
    "L, sig, R = scipy.sparse.linalg.svds(hessian, k=2)"
   ]
  },
  {
   "cell_type": "code",
   "execution_count": null,
   "metadata": {},
   "outputs": [
    {
     "data": {
      "text/plain": [
       "0.9666666666666667"
      ]
     },
     "execution_count": 24,
     "metadata": {},
     "output_type": "execute_result"
    }
   ],
   "source": [
    "import numpy as np\n",
    "from sklearn.datasets import make_friedman1\n",
    "from sklearn.decomposition import SparsePCA\n",
    "X, _ = make_friedman1(n_samples=200, n_features=30, random_state=0)\n",
    "transformer = SparsePCA(n_components=10, random_state=0)\n",
    "transformer.fit(X)\n",
    "X_transformed = transformer.transform(X)\n",
    "X_transformed.shape\n",
    "np.mean(transformer.components_ == 0)"
   ]
  },
  {
   "cell_type": "code",
   "execution_count": null,
   "metadata": {},
   "outputs": [
    {
     "data": {
      "text/plain": [
       "array([[ 0.,  0.,  0.,  0.,  0.,  0.,  0.,  0.,  0.,  0.,  0.,  0.,  1.,\n",
       "         0.,  0.,  0.,  0.,  0.,  0.,  0.,  0.,  0.,  0.,  0.,  0.,  0.,\n",
       "         0.,  0.,  0.,  0.],\n",
       "       [ 0.,  0.,  0.,  0.,  0.,  0.,  0.,  0.,  0.,  0.,  0.,  0.,  0.,\n",
       "         0.,  0.,  0.,  0.,  0.,  1.,  0.,  0.,  0.,  0.,  0.,  0.,  0.,\n",
       "         0.,  0.,  0.,  0.],\n",
       "       [ 0.,  0.,  0.,  0., -1.,  0.,  0.,  0.,  0.,  0.,  0.,  0.,  0.,\n",
       "         0.,  0.,  0.,  0.,  0.,  0.,  0.,  0.,  0.,  0.,  0.,  0.,  0.,\n",
       "         0.,  0.,  0.,  0.],\n",
       "       [ 1.,  0.,  0.,  0.,  0.,  0.,  0.,  0.,  0.,  0.,  0.,  0.,  0.,\n",
       "         0.,  0.,  0.,  0.,  0.,  0.,  0.,  0.,  0.,  0.,  0.,  0.,  0.,\n",
       "         0.,  0.,  0.,  0.],\n",
       "       [ 0.,  0.,  0.,  0.,  0.,  0.,  0.,  0.,  0.,  0.,  0.,  0.,  0.,\n",
       "         1.,  0.,  0.,  0.,  0.,  0.,  0.,  0.,  0.,  0.,  0.,  0.,  0.,\n",
       "         0.,  0.,  0.,  0.],\n",
       "       [ 0.,  0.,  0.,  0.,  0.,  0.,  0.,  0.,  0.,  0.,  0.,  0.,  0.,\n",
       "         0.,  0.,  0.,  0.,  0.,  0.,  0.,  0.,  0.,  0.,  0.,  0.,  0.,\n",
       "         0.,  0., -1.,  0.],\n",
       "       [ 0.,  0.,  0.,  0.,  0.,  0.,  0.,  0.,  0.,  0.,  0.,  0.,  0.,\n",
       "         0.,  0.,  0.,  0.,  0.,  0.,  0.,  0.,  0.,  0.,  0.,  1.,  0.,\n",
       "         0.,  0.,  0.,  0.],\n",
       "       [ 0.,  0.,  0.,  0.,  0.,  0.,  0.,  0.,  0.,  0.,  0.,  0.,  0.,\n",
       "         0.,  0.,  0.,  0.,  0.,  0.,  0.,  0.,  0., -1.,  0.,  0.,  0.,\n",
       "         0.,  0.,  0.,  0.],\n",
       "       [ 0.,  0.,  0.,  0.,  0.,  0.,  0.,  0., -1.,  0.,  0.,  0.,  0.,\n",
       "         0.,  0.,  0.,  0.,  0.,  0.,  0.,  0.,  0.,  0.,  0.,  0.,  0.,\n",
       "         0.,  0.,  0.,  0.],\n",
       "       [ 0.,  0.,  0.,  0.,  0.,  0.,  0.,  0.,  0.,  0.,  0.,  0.,  0.,\n",
       "         0.,  0.,  0.,  0.,  0.,  0.,  0.,  0.,  0.,  0.,  0.,  0.,  0.,\n",
       "         1.,  0.,  0.,  0.]])"
      ]
     },
     "execution_count": 25,
     "metadata": {},
     "output_type": "execute_result"
    }
   ],
   "source": [
    "transformer.components_"
   ]
  },
  {
   "cell_type": "markdown",
   "metadata": {},
   "source": [
    "## Plot Purturbation along Eigenvalues Hessian"
   ]
  },
  {
   "cell_type": "code",
   "execution_count": null,
   "metadata": {},
   "outputs": [],
   "source": [
    "ei, ev = np.linalg.eig(hessian)"
   ]
  },
  {
   "cell_type": "code",
   "execution_count": null,
   "metadata": {},
   "outputs": [
    {
     "data": {
      "text/plain": [
       "array([ 4.2025199e+00+0.0000000e+00j,  2.3603423e+00+0.0000000e+00j,\n",
       "        5.4929817e-01+0.0000000e+00j,  2.0912303e-01+0.0000000e+00j,\n",
       "        1.8547523e-01+0.0000000e+00j,  1.0257223e-01+0.0000000e+00j,\n",
       "        6.5023929e-02+0.0000000e+00j,  6.7669041e-02+0.0000000e+00j,\n",
       "        2.4149166e-02+0.0000000e+00j,  2.2555443e-03+0.0000000e+00j,\n",
       "       -1.4319941e-03+0.0000000e+00j,  1.0911843e-03+0.0000000e+00j,\n",
       "       -7.1533967e-04+0.0000000e+00j,  7.6984259e-04+0.0000000e+00j,\n",
       "        5.9094001e-04+0.0000000e+00j, -4.7961751e-04+0.0000000e+00j,\n",
       "       -3.7124986e-04+0.0000000e+00j, -3.6167854e-04+0.0000000e+00j,\n",
       "       -2.2443882e-04+0.0000000e+00j, -1.8208551e-04+0.0000000e+00j,\n",
       "        3.6455298e-04+4.0759547e-05j,  3.6455298e-04-4.0759547e-05j,\n",
       "        3.2256675e-04+0.0000000e+00j,  2.7701247e-04+0.0000000e+00j,\n",
       "        1.9764047e-04+0.0000000e+00j,  1.6951197e-04+2.3164384e-05j,\n",
       "        1.6951197e-04-2.3164384e-05j,  1.0111631e-04+0.0000000e+00j,\n",
       "        7.7004232e-05+0.0000000e+00j, -5.6422559e-05+0.0000000e+00j,\n",
       "       -2.2048196e-05+0.0000000e+00j, -4.0290115e-06+0.0000000e+00j,\n",
       "       -1.1923497e-07+0.0000000e+00j,  1.0004887e-18+4.0875967e-19j,\n",
       "        1.0004887e-18-4.0875967e-19j,  1.5633657e-18+0.0000000e+00j],\n",
       "      dtype=complex64)"
      ]
     },
     "execution_count": 30,
     "metadata": {},
     "output_type": "execute_result"
    }
   ],
   "source": [
    "ei"
   ]
  },
  {
   "cell_type": "code",
   "execution_count": null,
   "metadata": {},
   "outputs": [
    {
     "data": {
      "text/plain": [
       "array([0.4031444 , 0.4017197 , 0.21731584, 0.41154957, 0.41958198,\n",
       "       0.22265382, 0.14144665, 0.04155198, 0.05558305, 0.14144665,\n",
       "       0.04155198, 0.05558305, 0.19241923, 0.05598437, 0.14994377,\n",
       "       0.440924  , 0.18470444, 0.38486615, 0.13172337, 0.02456327,\n",
       "       0.09272429, 0.11238349, 0.01391564, 0.07390076, 0.31038952,\n",
       "       0.38774738, 0.657815  , 0.07627688, 0.04741968, 0.19988532,\n",
       "       0.29066476, 0.36058742, 0.631536  , 0.09310511, 0.07185332,\n",
       "       0.23061322], dtype=float32)"
      ]
     },
     "execution_count": 31,
     "metadata": {},
     "output_type": "execute_result"
    }
   ],
   "source": [
    "np.diag(hessian)"
   ]
  },
  {
   "cell_type": "code",
   "execution_count": null,
   "metadata": {},
   "outputs": [
    {
     "name": "stdout",
     "output_type": "stream",
     "text": [
      "The eigenvalue index with the lowest loss 1\n"
     ]
    },
    {
     "data": {
      "image/png": "[encoded data removed]",
      "text/plain": [
       "<Figure size 432x288 with 1 Axes>"
      ]
     },
     "metadata": {
      "needs_background": "light"
     },
     "output_type": "display_data"
    }
   ],
   "source": [
    "# lambda is a small scalar that we use to perturb the model parameters along the eigenvectors \n",
    "lams = np.linspace(-1, 1, 100).astype(np.float32)\n",
    "\n",
    "loss_list = []\n",
    "num_eig = 10\n",
    "# model_perb = model_perb.cuda()\n",
    "lowest = np.inf\n",
    "for i in range(1):\n",
    "    for lam in lams:\n",
    "        par = init_params + lam * fin_sprout['loadings'][:,0]\n",
    "        loss_list.append(objective(par))\n",
    "    plt.plot(lams, loss_list, color = (i/(num_eig+1),i/(num_eig+1),1))\n",
    "    if min(loss_list) < lowest:\n",
    "        lowest_idx = i\n",
    "        lowest = min(loss_list)\n",
    "    loss_list = []\n",
    "    \n",
    "plt.plot(np.array([-1, 1]), np.array([0, 0]), 'k--')\n",
    "plt.ylabel('constraint loss')\n",
    "plt.xlabel('Perturbation')\n",
    "plt.ylim([-1,100])\n",
    "plt.xlim([-0.8,.8])\n",
    "plt.title('Loss landscape perturbed based on top 10 Hessian eigenvector')\n",
    "print(f\"The eigenvalue index with the lowest loss {lowest_idx+1}\")"
   ]
  },
  {
   "cell_type": "markdown",
   "metadata": {},
   "source": [
    "## Plot Purturbation along Gradient"
   ]
  },
  {
   "cell_type": "code",
   "execution_count": null,
   "metadata": {},
   "outputs": [],
   "source": [
    "gradient = egrad(dist_loss)(init_params)"
   ]
  },
  {
   "cell_type": "code",
   "execution_count": null,
   "metadata": {},
   "outputs": [
    {
     "name": "stdout",
     "output_type": "stream",
     "text": [
      "The eigenvalue index with the lowest loss 3\n"
     ]
    },
    {
     "data": {
      "image/png": "[encoded data removed]",
      "text/plain": [
       "<Figure size 432x288 with 1 Axes>"
      ]
     },
     "metadata": {
      "needs_background": "light"
     },
     "output_type": "display_data"
    }
   ],
   "source": [
    "# lambda is a small scalar that we use to perturb the model parameters along the eigenvectors \n",
    "lams = np.linspace(-0.01, 0.01, 100).astype(np.float32)\n",
    "\n",
    "loss_list = []\n",
    "lowest = np.inf\n",
    "for lam in lams:\n",
    "    par = init_params + lam * gradient\n",
    "    loss_list.append(dist_loss(par))\n",
    "plt.plot(lams, loss_list)\n",
    "    \n",
    "plt.plot(np.array([-1, 1]), np.array([0, 0]), 'k--')\n",
    "plt.ylabel('constraint loss')\n",
    "plt.xlabel('Perturbation')\n",
    "plt.ylim([-1,100])\n",
    "plt.xlim([-0.01,.01])\n",
    "# plt.title('Loss landscape perturbed based on top 10 Hessian eigenvector')\n",
    "print(f\"The eigenvalue index with the lowest loss {lowest_idx+1}\")"
   ]
  },
  {
   "cell_type": "code",
   "execution_count": null,
   "metadata": {},
   "outputs": [
    {
     "data": {
      "text/plain": [
       "[7.9432528601957975,\n",
       " 7.617230974360735,\n",
       " 7.2982207664093774,\n",
       " 6.9862238029177455,\n",
       " 6.681228157416095,\n",
       " 6.3832248067905155,\n",
       " 6.0921731471471094,\n",
       " 5.808112258995247,\n",
       " 5.530994322796793,\n",
       " 5.260813904007896,\n",
       " 4.997584199055959,\n",
       " 4.741261229780208,\n",
       " 4.491861725445206,\n",
       " 4.249350337798676,\n",
       " 4.013741725946009,\n",
       " 3.7850076104605224,\n",
       " 3.563133309526152,\n",
       " 3.3481341441148853,\n",
       " 3.1399749678181923,\n",
       " 2.9386607197934165,\n",
       " 2.74416235472369,\n",
       " 2.5564846882006087,\n",
       " 2.3756080540203763,\n",
       " 2.20152974902844,\n",
       " 2.034268180685326,\n",
       " 1.8737806538517336,\n",
       " 1.7200563608562225,\n",
       " 1.5730730209765391,\n",
       " 1.432836051427919,\n",
       " 1.2993368766135664,\n",
       " 1.172545554456065,\n",
       " 1.0524768008696175,\n",
       " 0.9391021368795573,\n",
       " 0.8324119798588723,\n",
       " 0.7324002586708154,\n",
       " 0.6390580509713031,\n",
       " 0.5523769617673265,\n",
       " 0.4723420674133317,\n",
       " 0.3989378724975533,\n",
       " 0.33216561521240023,\n",
       " 0.27200981351099973,\n",
       " 0.21845638291760933,\n",
       " 0.17150009518826945,\n",
       " 0.13112604147671786,\n",
       " 0.0973282797332892,\n",
       " 0.0700937350581472,\n",
       " 0.049412724636647615,\n",
       " 0.03527552084105452,\n",
       " 0.027671076371045294,\n",
       " 0.02658938331875751,\n",
       " 0.03202008927504605,\n",
       " 0.04395295286941022,\n",
       " 0.06237820782277745,\n",
       " 0.08728773505214635,\n",
       " 0.11867528709863807,\n",
       " 0.15652346112583002,\n",
       " 0.20082083409476673,\n",
       " 0.251560088100761,\n",
       " 0.30872646957509287,\n",
       " 0.3723146175047435,\n",
       " 0.44230902847819037,\n",
       " 0.51870339728128,\n",
       " 0.6014927138006305,\n",
       " 0.6906548141394938,\n",
       " 0.7861848670929195,\n",
       " 0.8880770831654723,\n",
       " 0.9963198168632641,\n",
       " 1.1109008312542397,\n",
       " 1.231806029131841,\n",
       " 1.3590243456514344,\n",
       " 1.4925634080799448,\n",
       " 1.6323883923374818,\n",
       " 1.7785086617062187,\n",
       " 1.9309117737382409,\n",
       " 2.089572390369799,\n",
       " 2.25449172443322,\n",
       " 2.4256603640174634,\n",
       " 2.6030727354245613,\n",
       " 2.7867121051754005,\n",
       " 2.9765669968620907,\n",
       " 3.1726326202740385,\n",
       " 3.3748863335178805,\n",
       " 3.5833354144964376,\n",
       " 3.797957927334341,\n",
       " 4.018761910877405,\n",
       " 4.245715544919831,\n",
       " 4.478812760466063,\n",
       " 4.71806194847094,\n",
       " 4.963425040978084,\n",
       " 5.214919146069708,\n",
       " 5.472505989732692,\n",
       " 5.736211223577152,\n",
       " 6.005997329625916,\n",
       " 6.281854215155164,\n",
       " 6.5638015066426725,\n",
       " 6.851787106347076,\n",
       " 7.145828068247447,\n",
       " 7.445912624400903,\n",
       " 7.7520320696930405,\n",
       " 8.06416322305515]"
      ]
     },
     "execution_count": 68,
     "metadata": {},
     "output_type": "execute_result"
    }
   ],
   "source": [
    "loss_list"
   ]
  },
  {
   "cell_type": "markdown",
   "metadata": {},
   "source": [
    "# Train Pytorch Model"
   ]
  },
  {
   "cell_type": "code",
   "execution_count": null,
   "metadata": {},
   "outputs": [
    {
     "data": {
      "text/plain": [
       "array([ -0.33911863,  51.335075  ,  22.589079  ,  72.18899   ,\n",
       "         6.237887  , -33.60863   ,   1.9071463 ,  -5.4591465 ,\n",
       "        -2.656078  ,   1.9071463 ,  -5.4591465 ,  -2.656078  ,\n",
       "       -29.091063  ,  20.501717  ,  42.2481    ,  34.147522  ,\n",
       "        11.16419   ,  37.153915  ,  20.835033  ,  -2.3427541 ,\n",
       "         0.1281082 ,  -5.2785683 ,  -0.5420822 ,  -2.8286939 ,\n",
       "        39.32185   ,   9.234743  ,   0.        , -12.650524  ,\n",
       "        22.894392  ,   0.        ,   0.35996   ,  61.934345  ,\n",
       "         0.        ,  -4.2426405 ,  -4.2426405 ,   0.        ],\n",
       "      dtype=float32)"
      ]
     },
     "execution_count": 43,
     "metadata": {},
     "output_type": "execute_result"
    }
   ],
   "source": [
    "gradient"
   ]
  },
  {
   "cell_type": "code",
   "execution_count": null,
   "metadata": {},
   "outputs": [],
   "source": []
  },
  {
   "cell_type": "code",
   "execution_count": null,
   "metadata": {},
   "outputs": [
    {
     "ename": "NameError",
     "evalue": "name 'torch' is not defined",
     "output_type": "error",
     "traceback": [
      "\u001b[0;31m---------------------------------------------------------------------------\u001b[0m",
      "\u001b[0;31mNameError\u001b[0m                                 Traceback (most recent call last)",
      "\u001b[0;32m<ipython-input-10-faf9acd6d48c>\u001b[0m in \u001b[0;36m<module>\u001b[0;34m\u001b[0m\n\u001b[1;32m      1\u001b[0m \u001b[0;31m# device = torch.device('cuda' if torch.cuda.is_available() else 'cpu')\u001b[0m\u001b[0;34m\u001b[0m\u001b[0;34m\u001b[0m\u001b[0;34m\u001b[0m\u001b[0m\n\u001b[0;32m----> 2\u001b[0;31m \u001b[0mdevice\u001b[0m \u001b[0;34m=\u001b[0m \u001b[0mtorch\u001b[0m\u001b[0;34m.\u001b[0m\u001b[0mdevice\u001b[0m\u001b[0;34m(\u001b[0m\u001b[0;34m'cpu'\u001b[0m\u001b[0;34m)\u001b[0m\u001b[0;34m\u001b[0m\u001b[0;34m\u001b[0m\u001b[0m\n\u001b[0m\u001b[1;32m      3\u001b[0m \u001b[0minput_size\u001b[0m \u001b[0;34m=\u001b[0m \u001b[0;36m3\u001b[0m\u001b[0;34m\u001b[0m\u001b[0;34m\u001b[0m\u001b[0m\n\u001b[1;32m      4\u001b[0m \u001b[0moutput_size\u001b[0m \u001b[0;34m=\u001b[0m \u001b[0;36m3\u001b[0m\u001b[0;34m\u001b[0m\u001b[0;34m\u001b[0m\u001b[0m\n\u001b[1;32m      5\u001b[0m \u001b[0mbatch_size\u001b[0m \u001b[0;34m=\u001b[0m \u001b[0;36m100\u001b[0m\u001b[0;34m\u001b[0m\u001b[0;34m\u001b[0m\u001b[0m\n",
      "\u001b[0;31mNameError\u001b[0m: name 'torch' is not defined"
     ]
    }
   ],
   "source": [
    "# # device = torch.device('cuda' if torch.cuda.is_available() else 'cpu')\n",
    "# device = torch.device('cpu')\n",
    "# input_size = 3\n",
    "# output_size = 3\n",
    "# batch_size = 100\n",
    "# lr = 0.004\n",
    "# epochs = 10000"
   ]
  },
  {
   "cell_type": "code",
   "execution_count": null,
   "metadata": {},
   "outputs": [],
   "source": [
    "def original_data_loader():\n",
    "    if not os.path. exists (\"tc1/data/input_output_data_tc1.pickle\"):\n",
    "        raise ImportError(\n",
    "            \"path data/input_output_data_tc1.pickle does not exist!\"\n",
    "        )\n",
    "    with open (\"tc1/data/input_output_data_tc1.pickle\", \"rb\") as data:\n",
    "        dataset = pickle.load (data)\n",
    "    return dataset[0], dataset[1], dataset[2], dataset[3]"
   ]
  },
  {
   "cell_type": "code",
   "execution_count": null,
   "metadata": {},
   "outputs": [],
   "source": [
    "class neural_network(nn.Module):\n",
    "    def __init__(self, input_size, output_size):\n",
    "        super(neural_network, self).__init__()\n",
    "        self.fc1 = nn.Linear(in_features=input_size, out_features=3)\n",
    "        self.act1 = nn.ReLU()\n",
    "        self.fc2 = nn.Linear(in_features=3, out_features=3)\n",
    "        self.act2 = nn.ReLU()\n",
    "        self.fc3 = nn.Linear(in_features=3, out_features=output_size)\n",
    "    \n",
    "    def forward(self, x):\n",
    "#         print(x)\n",
    "        x = self.fc1(x)\n",
    "#         print(x)\n",
    "        x = self.act1(x)\n",
    "#         print(x)\n",
    "        x = self.fc2(x)\n",
    "#         print(x)\n",
    "        x = self.act2(x)\n",
    "#         print(x)\n",
    "        x = self.fc3(x)\n",
    "#         print(x)\n",
    "        \n",
    "        return x"
   ]
  },
  {
   "cell_type": "code",
   "execution_count": null,
   "metadata": {},
   "outputs": [],
   "source": [
    "model = neural_network(input_size, output_size)\n",
    "x_train, y_train, x_test, y_test = original_data_loader()\n",
    "inputs_train = torch.tensor(x_train)\n",
    "targets_train = torch.tensor(y_train)\n",
    "inputs_test = torch.tensor(x_test)\n",
    "targets_test = torch.tensor(y_test)"
   ]
  },
  {
   "cell_type": "code",
   "execution_count": null,
   "metadata": {},
   "outputs": [],
   "source": [
    "def get_params(model_torch, weights):\n",
    "    for m_perb, d in zip(model_torch.parameters(), weights):\n",
    "        m_perb.data = torch.tensor(d).T\n",
    "    return model_torch"
   ]
  },
  {
   "cell_type": "code",
   "execution_count": null,
   "metadata": {},
   "outputs": [
    {
     "name": "stderr",
     "output_type": "stream",
     "text": [
      "/var/folders/7v/7wknzt0d797gn2p62b8394yc0000gn/T/ipykernel_9820/4134496133.py:3: UserWarning: The use of `x.T` on tensors of dimension other than 2 to reverse their shape is deprecated and it will throw an error in a future release. Consider `x.mT` to transpose batches of matricesor `x.permute(*torch.arange(x.ndim - 1, -1, -1))` to reverse the dimensions of a tensor. (Triggered internally at  /Users/distiller/project/pytorch/aten/src/ATen/native/TensorShape.cpp:2318.)\n",
      "  m_perb.data = torch.tensor(d).T\n"
     ]
    }
   ],
   "source": [
    "model = get_params(model,weights)"
   ]
  },
  {
   "cell_type": "code",
   "execution_count": null,
   "metadata": {},
   "outputs": [],
   "source": [
    "# def dist_loss(y_pred, y_target):\n",
    "#     A = np.array([[1,1],[1,1],[-1,1],[-1,1]])\n",
    "#     b = np.array([1,3,1,-1])\n",
    "#     violate = (np.matmul(A,y_pred.float()[:,0:2].T) + b).T\n",
    "#     loss = 0 \n",
    "#     for i in range(violate.shape[0]):\n",
    "#         if (violate[i]<0).any():\n",
    "#             dist = np.inf\n",
    "#             for l in list(np.where(violate[i]<0)[0]):\n",
    "#                 dist = 2"
   ]
  },
  {
   "cell_type": "markdown",
   "metadata": {},
   "source": [
    "### distance loss\n",
    "Asssuming we are given a constraint of the for $Ax\\leq b$:\n",
    "\\begin{align}\n",
    "\\sum^{N}_{n=1}\\sum^{C}_{c=1}ReLU(a_cx-b_c)\n",
    "\\end{align}\n",
    "where $N$ is the number of samples and $C$ is the number of inequality constraints."
   ]
  },
  {
   "cell_type": "code",
   "execution_count": null,
   "metadata": {},
   "outputs": [],
   "source": [
    "def dist_loss(y_pred, y_target):\n",
    "    A = np.array([[-0.70710678,  0.70710678],\n",
    "       [ 0.70710678,  0.70710678],\n",
    "       [-0.70710678, -0.70710678],\n",
    "       [ 0.70710678, -0.70710678]])\n",
    "    b = np.array([[ 1.225     ],\n",
    "       [ 4.76053391],\n",
    "       [-2.31053391],\n",
    "       [ 1.225     ]])\n",
    "    loss = torch.sum(torch.relu(torch.matmul(torch.tensor(A).float(),y_pred[:,0:2].float().T) - torch.tensor(b).float()))\n",
    "    return loss"
   ]
  },
  {
   "cell_type": "code",
   "execution_count": null,
   "metadata": {},
   "outputs": [
    {
     "data": {
      "text/plain": [
       "tensor([[3.4800, 3.6146, 1.0000],\n",
       "        [2.2423, 1.2879, 1.0000]], dtype=torch.float64)"
      ]
     },
     "execution_count": 16,
     "metadata": {},
     "output_type": "execute_result"
    }
   ],
   "source": [
    "targets_train[0:2]"
   ]
  },
  {
   "cell_type": "code",
   "execution_count": null,
   "metadata": {},
   "outputs": [
    {
     "data": {
      "text/plain": [
       "tensor(0.2562)"
      ]
     },
     "execution_count": 17,
     "metadata": {},
     "output_type": "execute_result"
    }
   ],
   "source": [
    "dist_loss(targets_train[0:1], targets_train[0:1])"
   ]
  },
  {
   "cell_type": "code",
   "execution_count": null,
   "metadata": {},
   "outputs": [],
   "source": [
    "criterion = dist_loss\n",
    "optimizer = torch.optim.Adam(model.parameters(), lr=lr)"
   ]
  },
  {
   "cell_type": "code",
   "execution_count": null,
   "metadata": {},
   "outputs": [],
   "source": [
    "# # Loss and optimizer\n",
    "\n",
    "\n",
    "# # Train the network\n",
    "# for epoch in range(epochs):\n",
    "#     for batch, (data, target) in enumerate(train_loader):\n",
    "#         # clear the gradients\n",
    "#         optimizer.zero_grad()\n",
    "#         # compute the model output\n",
    "#         yhat = model(data.float())\n",
    "#         # calculate loss\n",
    "#         loss = criterion(yhat.float(), target.float())\n",
    "#         # credit assignment\n",
    "#         loss.backward()\n",
    "#         # update model weights\n",
    "#         optimizer.step()"
   ]
  },
  {
   "cell_type": "code",
   "execution_count": null,
   "metadata": {},
   "outputs": [],
   "source": [
    "# evaluate the model\n",
    "def evaluate_model(inputs, targets, model):\n",
    "    predictions, actuals = list(), list()\n",
    "    # evaluate the model on the test set\n",
    "    yhat = model(inputs.float())\n",
    "    # retrieve numpy array\n",
    "    yhat = yhat.detach().numpy()\n",
    "    actual = targets.numpy()\n",
    "#         actual = actual.reshape((len(actual), 1))\n",
    "    # store\n",
    "    predictions.append(yhat)\n",
    "    actuals.append(actual)\n",
    "    predictions, actuals = np.vstack(predictions), np.vstack(actuals)\n",
    "    # calculate mse\n",
    "    mse = mean_squared_error(actuals, predictions)\n",
    "    return mse"
   ]
  },
  {
   "cell_type": "code",
   "execution_count": null,
   "metadata": {},
   "outputs": [
    {
     "name": "stdout",
     "output_type": "stream",
     "text": [
      "MSE: 0.000, RMSE: 0.007\n"
     ]
    }
   ],
   "source": [
    "mse = evaluate_model(inputs_test,targets_test, model)\n",
    "print('MSE: %.3f, RMSE: %.3f' % (mse, np.sqrt(mse)))"
   ]
  },
  {
   "cell_type": "code",
   "execution_count": null,
   "metadata": {},
   "outputs": [],
   "source": [
    "from keras import backend as K\n",
    "\n",
    "# with a Sequential model\n",
    "get_3rd_layer_output = K.function([model_orig.layers[0].input],\n",
    "                                  [model_orig.layers[2].output])\n",
    "layer_output = get_3rd_layer_output([x_test[0:1]])[0]"
   ]
  },
  {
   "cell_type": "code",
   "execution_count": null,
   "metadata": {},
   "outputs": [
    {
     "name": "stderr",
     "output_type": "stream",
     "text": [
      "2022-04-27 11:29:37.658438: I tensorflow/compiler/mlir/mlir_graph_optimization_pass.cc:185] None of the MLIR Optimization Passes are enabled (registered 2)\n"
     ]
    },
    {
     "data": {
      "text/plain": [
       "array([[3.2112792 , 1.6994811 , 0.99400204],\n",
       "       [1.0975695 , 1.8461307 , 0.9837373 ],\n",
       "       [0.7131818 , 2.2089243 , 0.98410827]], dtype=float32)"
      ]
     },
     "execution_count": 23,
     "metadata": {},
     "output_type": "execute_result"
    }
   ],
   "source": [
    "model_orig.predict(x_test[0:3])"
   ]
  },
  {
   "cell_type": "code",
   "execution_count": null,
   "metadata": {},
   "outputs": [],
   "source": [
    "y_hat = model(inputs_test.float()).detach().numpy()"
   ]
  },
  {
   "cell_type": "code",
   "execution_count": null,
   "metadata": {},
   "outputs": [
    {
     "data": {
      "text/plain": [
       "<matplotlib.collections.PathCollection at 0x1521d5d30>"
      ]
     },
     "execution_count": 25,
     "metadata": {},
     "output_type": "execute_result"
    },
    {
     "data": {
      "image/png": "[encoded data removed]",
      "text/plain": [
       "<Figure size 432x288 with 1 Axes>"
      ]
     },
     "metadata": {
      "needs_background": "light"
     },
     "output_type": "display_data"
    }
   ],
   "source": [
    "plt.scatter(y_hat[:,0], y_hat[:,1])"
   ]
  },
  {
   "cell_type": "code",
   "execution_count": null,
   "metadata": {},
   "outputs": [],
   "source": [
    "# summary(model.cuda(), input_size=(1, 3))"
   ]
  },
  {
   "cell_type": "markdown",
   "metadata": {},
   "source": [
    "## Example 1: Power Iteration with Numpy\n",
    "\n",
    "The following part shows how to use power iteration to get the top eigenvalue of a matrix without explicitly having access to it in numpy. We start by creating a random matrix B, compute its ground truth eigenvalues using numpy, and then compare the results with matrix-free power iteration (which does not need direct access to the matrix)."
   ]
  },
  {
   "cell_type": "code",
   "execution_count": null,
   "metadata": {},
   "outputs": [],
   "source": [
    "n = 10 # the matrix size\n",
    "\n",
    "# generate a random matrix\n",
    "A = np.random.randn(n, n)\n",
    "B = A @ A.T"
   ]
  },
  {
   "cell_type": "markdown",
   "metadata": {},
   "source": [
    "Now let's use numpy to compute the ground truth eigenvalues. We will then check the results with this."
   ]
  },
  {
   "cell_type": "code",
   "execution_count": null,
   "metadata": {},
   "outputs": [
    {
     "name": "stdout",
     "output_type": "stream",
     "text": [
      "The top eigenvalue of B is 32.5401\n"
     ]
    }
   ],
   "source": [
    "# use np.eigs to get the top eigenvalue of B\n",
    "eigs, _ = np.linalg.eig(B)\n",
    "\n",
    "print(\"The top eigenvalue of B is %.4f\"%np.sort(eigs)[-1])"
   ]
  },
  {
   "cell_type": "markdown",
   "metadata": {},
   "source": [
    "Now let's try to comptue the top eigenvalue of B without explicitly accessing B. To do so, we will use a method called Power Iteration:\n",
    "\n",
    "https://en.wikipedia.org/wiki/Power_iteration\n",
    "\n",
    "The algorithm is very simple and efficiet to compute the top eigenvalue:\n",
    "$$v_{i+1} = \\frac{Bv_i}{\\|Bv_i\\|}.$$\n",
    "\n",
    "As such, we only need to have access to the *application* of B to a given vector $v_i$ and not the matrix B itself. This application is commonly referred to as *matvec* in literature."
   ]
  },
  {
   "cell_type": "code",
   "execution_count": null,
   "metadata": {},
   "outputs": [
    {
     "name": "stdout",
     "output_type": "stream",
     "text": [
      "Step  1 current estimated top eigvalue: 5.1071\n",
      "Step  2 current estimated top eigvalue: 19.3202\n",
      "Step  3 current estimated top eigvalue: 27.8266\n",
      "Step  4 current estimated top eigvalue: 30.9717\n",
      "Step  5 current estimated top eigvalue: 31.9463\n",
      "Step  6 current estimated top eigvalue: 32.2950\n",
      "Step  7 current estimated top eigvalue: 32.4357\n",
      "Step  8 current estimated top eigvalue: 32.4953\n",
      "Step  9 current estimated top eigvalue: 32.5208\n",
      "Step 10 current estimated top eigvalue: 32.5318\n",
      "Step 11 current estimated top eigvalue: 32.5366\n",
      "Step 12 current estimated top eigvalue: 32.5386\n",
      "Step 13 current estimated top eigvalue: 32.5395\n",
      "Step 14 current estimated top eigvalue: 32.5399\n",
      "Step 15 current estimated top eigvalue: 32.5400\n",
      "Step 16 current estimated top eigvalue: 32.5401\n",
      "Step 17 current estimated top eigvalue: 32.5401\n",
      "Step 18 current estimated top eigvalue: 32.5401\n",
      "Step 19 current estimated top eigvalue: 32.5401\n",
      "Step 20 current estimated top eigvalue: 32.5401\n",
      "Step 21 current estimated top eigvalue: 32.5401\n",
      "Step 22 current estimated top eigvalue: 32.5401\n",
      "Step 23 current estimated top eigvalue: 32.5401\n",
      "Step 24 current estimated top eigvalue: 32.5401\n",
      "Step 25 current estimated top eigvalue: 32.5401\n",
      "Step 26 current estimated top eigvalue: 32.5401\n",
      "Step 27 current estimated top eigvalue: 32.5401\n",
      "Step 28 current estimated top eigvalue: 32.5401\n",
      "Step 29 current estimated top eigvalue: 32.5401\n",
      "Step 30 current estimated top eigvalue: 32.5401\n",
      "Step 31 current estimated top eigvalue: 32.5401\n",
      "Step 32 current estimated top eigvalue: 32.5401\n",
      "Step 33 current estimated top eigvalue: 32.5401\n",
      "Step 34 current estimated top eigvalue: 32.5401\n",
      "Step 35 current estimated top eigvalue: 32.5401\n",
      "Step 36 current estimated top eigvalue: 32.5401\n",
      "Step 37 current estimated top eigvalue: 32.5401\n",
      "Step 38 current estimated top eigvalue: 32.5401\n",
      "Step 39 current estimated top eigvalue: 32.5401\n",
      "Step 40 current estimated top eigvalue: 32.5401\n",
      "Finished Power Iteration\n",
      "\n",
      "Ground Truth Top Eigenvalue: 32.5401\n",
      "Result with matrix-free Power Iteration: 32.5401\n"
     ]
    }
   ],
   "source": [
    "# use power iteration to get the top eigenvalue of B\n",
    "v = np.random.randn(n, 1)\n",
    "for i in range(40):\n",
    "    v = v / np.linalg.norm(v)\n",
    "    eig_power_iteration = v.T @ B @ v\n",
    "    print(\"Step %2d current estimated top eigvalue: %.4f\"%(i+1,eig_power_iteration))\n",
    "    v = B @ v\n",
    "print(\"Finished Power Iteration\\n\")\n",
    "print(\"Ground Truth Top Eigenvalue: %.4f\"%np.sort(eigs)[-1])\n",
    "print(\"Result with matrix-free Power Iteration: %.4f\"%eig_power_iteration)"
   ]
  },
  {
   "cell_type": "markdown",
   "metadata": {},
   "source": [
    "As you can see the result of the power iteration and the one we got from numpy match very well.\n",
    "\n",
    "We can apply the same techinique for neural networks as well, and in particular use it to compute eigenvalues of Hessian!\n",
    "\n",
    "Importantly there has been a lot of misconception that we can not use Hessian for real world applications since\n",
    "we need to explicitly form it. Next you will see that this is not correct."
   ]
  },
  {
   "cell_type": "markdown",
   "metadata": {},
   "source": [
    "## Example 2: Power Iteration for NN Hessian"
   ]
  },
  {
   "cell_type": "code",
   "execution_count": null,
   "metadata": {},
   "outputs": [],
   "source": [
    "# get the model \n",
    "# model = ptcv_get_model(\"resnet20_cifar10\", pretrained=True)\n",
    "# change the model to eval mode to disable running stats upate\n",
    "model.eval()\n",
    "\n",
    "# create loss function\n",
    "# criterion = torch.nn.CrossEntropyLoss()\n",
    "\n",
    "# get dataset \n",
    "# train_loader, test_loader = getData()\n",
    "\n",
    "# for illustrate, we only use one batch to do the tutorial\n",
    "inputs=torch.tensor(x_train)\n",
    "targets=torch.tensor(y_train)\n",
    "\n",
    "# we use cuda to make the computation fast\n",
    "# model = model.cuda()\n",
    "# inputs, targets = inputs.cuda(), targets.cuda()\n",
    "\n"
   ]
  },
  {
   "cell_type": "code",
   "execution_count": null,
   "metadata": {},
   "outputs": [
    {
     "name": "stderr",
     "output_type": "stream",
     "text": [
      "/usr/local/lib/python3.9/site-packages/torch/autograd/__init__.py:173: UserWarning: Using backward() with create_graph=True will create a reference cycle between the parameter and its gradient which can cause a memory leak. We recommend using autograd.grad when creating the graph to avoid this. If you have to use this function, make sure to reset the .grad fields of your parameters to None after use to break the cycle and avoid the leak. (Triggered internally at  /Users/distiller/project/pytorch/torch/csrc/autograd/engine.cpp:985.)\n",
      "  Variable._execution_engine.run_backward(  # Calls into the C++ engine to run the backward pass\n"
     ]
    }
   ],
   "source": [
    "# create the hessian computation module\n",
    "hessian_comp = hessian(model, criterion, data=(inputs.float(), targets.float()), cuda=False)"
   ]
  },
  {
   "cell_type": "code",
   "execution_count": null,
   "metadata": {},
   "outputs": [
    {
     "name": "stdout",
     "output_type": "stream",
     "text": [
      "The top Hessian eigenvalue of this model is 110.9845\n"
     ]
    }
   ],
   "source": [
    "# Now let's compute the top eigenvalue. This only takes a few seconds.\n",
    "top_eigenvalues, top_eigenvector = hessian_comp.eigenvalues()\n",
    "print(\"The top Hessian eigenvalue of this model is %.4f\"%top_eigenvalues[-1])"
   ]
  },
  {
   "cell_type": "code",
   "execution_count": null,
   "metadata": {},
   "outputs": [
    {
     "name": "stdout",
     "output_type": "stream",
     "text": [
      "The top two eigenvalues of this model are: -100.7496 129.9854\n"
     ]
    }
   ],
   "source": [
    "# Now let's compute the top 2 eigenavlues and eigenvectors of the Hessian\n",
    "top_eigenvalues, top_eigenvector = hessian_comp.eigenvalues(top_n=2)\n",
    "print(\"The top two eigenvalues of this model are: %.4f %.4f\"% (top_eigenvalues[-1],top_eigenvalues[-2]))"
   ]
  },
  {
   "cell_type": "code",
   "execution_count": null,
   "metadata": {},
   "outputs": [
    {
     "data": {
      "text/plain": [
       "[-226.77090454101562,\n",
       " 114.70587158203125,\n",
       " 182.3402099609375,\n",
       " -1010.2050170898438,\n",
       " -142.07672119140625,\n",
       " -281.20135498046875,\n",
       " -123.55567932128906,\n",
       " 199.6807861328125,\n",
       " 544.0047607421875,\n",
       " -889.7408447265625,\n",
       " 382.8859558105469,\n",
       " 339.1649169921875,\n",
       " 182.03224182128906,\n",
       " -187.91867065429688,\n",
       " -552.0142211914062,\n",
       " 594.6582641601562,\n",
       " 298.1199645996094,\n",
       " 10.404312133789062,\n",
       " -403.1482849121094,\n",
       " 579.6893310546875,\n",
       " -272.2691955566406,\n",
       " 297.3062744140625,\n",
       " 102.3587417602539,\n",
       " -216.55526733398438,\n",
       " 504.30126953125,\n",
       " 131.79937744140625,\n",
       " -338.3074951171875,\n",
       " -112.15074157714844,\n",
       " 125.50126647949219,\n",
       " 1272.19921875,\n",
       " 5.5571441650390625,\n",
       " 402.0695495605469,\n",
       " -702.1671142578125,\n",
       " 614.4099731445312,\n",
       " 605.1615600585938,\n",
       " 216.01629638671875,\n",
       " -544.8174438476562,\n",
       " -173.20205688476562,\n",
       " -717.4808959960938,\n",
       " -389.67486572265625,\n",
       " -217.10202026367188,\n",
       " -88.54679870605469,\n",
       " 12.884368896484375,\n",
       " -38.13508605957031,\n",
       " 499.59967041015625,\n",
       " 591.2803955078125,\n",
       " 721.6129150390625,\n",
       " -904.3590087890625,\n",
       " 187.9059295654297,\n",
       " 33.28186798095703,\n",
       " -131.3111114501953,\n",
       " -373.6148681640625,\n",
       " 421.54962158203125,\n",
       " 112.5220947265625,\n",
       " -393.0133361816406,\n",
       " 218.22613525390625,\n",
       " -50.30500793457031,\n",
       " 688.6234130859375,\n",
       " 420.5379638671875,\n",
       " -315.2999267578125,\n",
       " 805.991943359375,\n",
       " -246.1879425048828,\n",
       " -11.189834594726562,\n",
       " 14.446720123291016,\n",
       " 247.79025268554688,\n",
       " 784.662109375,\n",
       " 285.4561462402344,\n",
       " -635.0174560546875,\n",
       " -186.03518676757812,\n",
       " -266.68731689453125,\n",
       " -247.29583740234375,\n",
       " -409.12347412109375,\n",
       " 661.2023315429688,\n",
       " 815.8944091796875,\n",
       " 1196.89599609375,\n",
       " -46.029693603515625,\n",
       " -953.941162109375,\n",
       " -360.57550048828125,\n",
       " 240.5843505859375,\n",
       " 152.53652954101562,\n",
       " -1267.525146484375,\n",
       " -724.6553955078125,\n",
       " -220.83132934570312,\n",
       " -680.966796875,\n",
       " -341.0317077636719,\n",
       " 534.4181518554688,\n",
       " 399.37017822265625,\n",
       " -535.9776611328125,\n",
       " -347.7007141113281,\n",
       " 4.622184753417969,\n",
       " -515.168212890625,\n",
       " -197.78274536132812,\n",
       " 57.70576477050781,\n",
       " 593.946533203125,\n",
       " 493.42730712890625,\n",
       " -483.2868957519531,\n",
       " 98.8130111694336,\n",
       " -535.1489868164062,\n",
       " 150.50210571289062,\n",
       " 461.3398742675781]"
      ]
     },
     "execution_count": 34,
     "metadata": {},
     "output_type": "execute_result"
    }
   ],
   "source": [
    "hessian_comp.trace()"
   ]
  },
  {
   "cell_type": "markdown",
   "metadata": {},
   "source": [
    "The small difference between this top eigenvalue (195.4954) and the previous one (195.5897) is due to the small number of iterations that we used in Power iteration. You can remove this small difference by increasing the number of iterations for power iteration."
   ]
  },
  {
   "cell_type": "markdown",
   "metadata": {},
   "source": [
    "## Example 2.1: Plot Loss Landscape\n",
    "\n",
    "We can use the Hessian eigenvectors/eigenvalues to analyze the flat/sharpness of the loss landscape of your model, and plot the loss landscape. We will show that this can be more informative than using random directions.\n",
    "\n",
    "To plot the loss landscape, we first compute the top Hessian eigenvector and then perturb the model parameters along that direction and measure the loss."
   ]
  },
  {
   "cell_type": "code",
   "execution_count": null,
   "metadata": {},
   "outputs": [],
   "source": [
    "import copy"
   ]
  },
  {
   "cell_type": "code",
   "execution_count": null,
   "metadata": {},
   "outputs": [
    {
     "data": {
      "text/plain": [
       "([129.69361877441406],\n",
       " [[tensor([[ 0.1492,  0.5109, -0.0027],\n",
       "           [ 0.0283,  0.2206, -0.0015],\n",
       "           [-0.0520, -0.1330,  0.0047]]),\n",
       "   tensor([-0.0027, -0.0015,  0.0047]),\n",
       "   tensor([[-0.2417, -0.1674,  0.0285],\n",
       "           [ 0.1960,  0.1169, -0.0288],\n",
       "           [ 0.3862,  0.2207, -0.0613]]),\n",
       "   tensor([ 0.0055, -0.0041, -0.0073]),\n",
       "   tensor([[ 0.0633, -0.1074, -0.2181],\n",
       "           [-0.1893,  0.2091,  0.4027],\n",
       "           [ 0.0000,  0.0000,  0.0000]]),\n",
       "   tensor([0., 0., 0.])]])"
      ]
     },
     "execution_count": 36,
     "metadata": {},
     "output_type": "execute_result"
    }
   ],
   "source": [
    "hessian_comp.eigenvalues()"
   ]
  },
  {
   "cell_type": "code",
   "execution_count": null,
   "metadata": {},
   "outputs": [],
   "source": [
    "# get the top eigenvector\n",
    "num_eig = 10\n",
    "top_eigenvalues, top_eigenvector = hessian_comp.eigenvalues(maxIter=10000, top_n = num_eig)"
   ]
  },
  {
   "cell_type": "code",
   "execution_count": null,
   "metadata": {},
   "outputs": [],
   "source": [
    "# This is a simple function, that will allow us to perturb the model paramters and get the result\n",
    "def get_params(model_orig,  model_perb, direction, alpha):\n",
    "    for m_orig, m_perb, d in zip(model_orig.parameters(), model_perb.parameters(), direction):\n",
    "        m_perb.data = m_orig.data + alpha * d\n",
    "    return model_perb"
   ]
  },
  {
   "cell_type": "code",
   "execution_count": null,
   "metadata": {},
   "outputs": [
    {
     "name": "stdout",
     "output_type": "stream",
     "text": [
      "The eigenvalue index with the lowest loss 9\n"
     ]
    },
    {
     "data": {
      "image/png": "[encoded data removed]",
      "text/plain": [
       "<Figure size 432x288 with 1 Axes>"
      ]
     },
     "metadata": {
      "needs_background": "light"
     },
     "output_type": "display_data"
    }
   ],
   "source": [
    "# lambda is a small scalar that we use to perturb the model parameters along the eigenvectors \n",
    "lams = np.linspace(-0.8, 0.8, 100).astype(np.float32)\n",
    "\n",
    "loss_list = []\n",
    "\n",
    "# create a copy of the model\n",
    "model_perb = copy.deepcopy(model)\n",
    "model_perb.eval()\n",
    "# model_perb = model_perb.cuda()\n",
    "lowest = np.inf\n",
    "for i in range(num_eig):\n",
    "    for lam in lams:\n",
    "        model_perb = get_params(model, model_perb, top_eigenvector[i], lam)\n",
    "        loss_list.append(criterion(model_perb(inputs.float()), targets.float()).item())\n",
    "    plt.plot(lams, loss_list, color = (i/(num_eig+1),i/(num_eig+1),1))\n",
    "    if min(loss_list) < lowest:\n",
    "        lowest_idx = i\n",
    "        lowest = min(loss_list)\n",
    "    loss_list = []\n",
    "    \n",
    "plt.plot(np.array([-1, 1]), np.array([0, 0]), 'k--')\n",
    "plt.ylabel('constraint loss')\n",
    "plt.xlabel('Perturbation')\n",
    "plt.ylim([-1,100])\n",
    "plt.xlim([-0.8,.8])\n",
    "plt.title('Loss landscape perturbed based on top 10 Hessian eigenvector')\n",
    "print(f\"The eigenvalue index with the lowest loss {lowest_idx+1}\")"
   ]
  },
  {
   "cell_type": "code",
   "execution_count": null,
   "metadata": {},
   "outputs": [
    {
     "data": {
      "text/plain": [
       "[129.7122039794922,\n",
       " -117.45628356933594,\n",
       " 115.83407592773438,\n",
       " 112.68498229980469,\n",
       " -80.87095642089844,\n",
       " -71.99787139892578,\n",
       " 70.35491943359375,\n",
       " 65.60148620605469,\n",
       " -65.58497619628906,\n",
       " -61.28729248046875]"
      ]
     },
     "execution_count": 63,
     "metadata": {},
     "output_type": "execute_result"
    }
   ],
   "source": [
    "top_eigenvalues"
   ]
  },
  {
   "cell_type": "code",
   "execution_count": null,
   "metadata": {},
   "outputs": [
    {
     "data": {
      "text/plain": [
       "[[tensor([[ 1.1374e-01,  5.1444e-01,  1.1716e-03],\n",
       "          [ 2.0921e-02,  2.7048e-01, -3.5368e-04],\n",
       "          [-3.8899e-02, -1.1415e-01,  3.3725e-03]]),\n",
       "  tensor([ 0.0012, -0.0004,  0.0034]),\n",
       "  tensor([[-0.2107, -0.1269,  0.0323],\n",
       "          [ 0.1963,  0.0991, -0.0359],\n",
       "          [ 0.3999,  0.1924, -0.0775]]),\n",
       "  tensor([ 0.0040, -0.0033, -0.0059]),\n",
       "  tensor([[ 0.0706, -0.0958, -0.1853],\n",
       "          [-0.2390,  0.2212,  0.4068],\n",
       "          [ 0.0000,  0.0000,  0.0000]]),\n",
       "  tensor([0., 0., 0.])],\n",
       " [tensor([[ 0.3362, -0.0864, -0.0382],\n",
       "          [ 0.0878, -0.4184, -0.0123],\n",
       "          [-0.1177, -0.1339,  0.0117]]),\n",
       "  tensor([-0.0382, -0.0123,  0.0117]),\n",
       "  tensor([[-0.2229, -0.3505, -0.0506],\n",
       "          [-0.0189,  0.1666,  0.0723],\n",
       "          [-0.1394,  0.2770,  0.1609]]),\n",
       "  tensor([ 0.0128, -0.0081, -0.0134]),\n",
       "  tensor([[-0.0999, -0.0825, -0.2608],\n",
       "          [ 0.4822, -0.1123, -0.0262],\n",
       "          [ 0.0000,  0.0000,  0.0000]]),\n",
       "  tensor([0., 0., 0.])],\n",
       " [tensor([[-0.3078,  0.2137,  0.0385],\n",
       "          [-0.2781, -0.2751,  0.0279],\n",
       "          [ 0.0277, -0.1996, -0.0044]]),\n",
       "  tensor([ 0.0385,  0.0279, -0.0044]),\n",
       "  tensor([[-0.3061,  0.0038,  0.1088],\n",
       "          [ 0.0348, -0.1641, -0.0719],\n",
       "          [-0.0384, -0.4110, -0.1376]]),\n",
       "  tensor([0.0004, 0.0082, 0.0198]),\n",
       "  tensor([[ 0.2468, -0.1145, -0.1363],\n",
       "          [-0.3533, -0.0585, -0.3345],\n",
       "          [ 0.0000,  0.0000,  0.0000]]),\n",
       "  tensor([0., 0., 0.])],\n",
       " [tensor([[ 0.1214, -0.1176, -0.0160],\n",
       "          [-0.4517,  0.2117,  0.0499],\n",
       "          [-0.2371,  0.1328,  0.0263]]),\n",
       "  tensor([-0.0160,  0.0499,  0.0263]),\n",
       "  tensor([[ 0.0985, -0.5049, -0.2409],\n",
       "          [-0.0275,  0.0326,  0.0253],\n",
       "          [-0.0265, -0.1068, -0.0255]]),\n",
       "  tensor([ 0.0273, -0.0017,  0.0093]),\n",
       "  tensor([[-0.4494,  0.0427, -0.1313],\n",
       "          [-0.2616,  0.0009, -0.1172],\n",
       "          [ 0.0000,  0.0000,  0.0000]]),\n",
       "  tensor([0., 0., 0.])],\n",
       " [tensor([[ 0.1141, -0.6268, -0.0284],\n",
       "          [-0.0055,  0.0220,  0.0007],\n",
       "          [-0.0999,  0.4079,  0.0136]]),\n",
       "  tensor([-0.0284,  0.0007,  0.0136]),\n",
       "  tensor([[-0.2988, -0.0178,  0.2945],\n",
       "          [ 0.0563, -0.0251, -0.1061],\n",
       "          [ 0.2273,  0.0089, -0.2041]]),\n",
       "  tensor([ 0.0058, -0.0013, -0.0038]),\n",
       "  tensor([[ 0.2036, -0.1566, -0.1636],\n",
       "          [-0.1026,  0.1324,  0.0977],\n",
       "          [ 0.0000,  0.0000,  0.0000]]),\n",
       "  tensor([0., 0., 0.])],\n",
       " [tensor([[ 0.0682, -0.4141, -0.0180],\n",
       "          [-0.0619,  0.2806,  0.0086],\n",
       "          [ 0.1329, -0.5821, -0.0183]]),\n",
       "  tensor([-0.0180,  0.0086, -0.0183]),\n",
       "  tensor([[-0.3001,  0.1366, -0.3142],\n",
       "          [ 0.0340, -0.1110,  0.1383],\n",
       "          [ 0.2616, -0.0915,  0.2217]]),\n",
       "  tensor([ 0.0001,  0.0025, -0.0009]),\n",
       "  tensor([[-0.0347, -0.0500,  0.0416],\n",
       "          [ 0.0281,  0.0699, -0.0789],\n",
       "          [ 0.0000,  0.0000,  0.0000]]),\n",
       "  tensor([0., 0., 0.])],\n",
       " [tensor([[ 0.0759, -0.3143, -0.0163],\n",
       "          [-0.0776,  0.3100,  0.0105],\n",
       "          [ 0.1367, -0.6275, -0.0190]]),\n",
       "  tensor([-0.0163,  0.0105, -0.0190]),\n",
       "  tensor([[ 0.0939, -0.1471,  0.4389],\n",
       "          [-0.1198,  0.0409, -0.1548],\n",
       "          [-0.0748,  0.1182, -0.2951]]),\n",
       "  tensor([ 0.0012, -0.0005, -0.0003]),\n",
       "  tensor([[ 0.0356,  0.0240, -0.0292],\n",
       "          [-0.0019, -0.0832,  0.0061],\n",
       "          [ 0.0000,  0.0000,  0.0000]]),\n",
       "  tensor([0., 0., 0.])],\n",
       " [tensor([[-0.5388,  0.0025,  0.0577],\n",
       "          [-0.0219,  0.3250,  0.0046],\n",
       "          [ 0.2079,  0.1799, -0.0210]]),\n",
       "  tensor([ 0.0577,  0.0046, -0.0210]),\n",
       "  tensor([[-0.2511, -0.1859, -0.0390],\n",
       "          [-0.2324, -0.2308,  0.0228],\n",
       "          [-0.0596,  0.2190,  0.1612]]),\n",
       "  tensor([-0.0127,  0.0383,  0.0121]),\n",
       "  tensor([[-0.0099, -0.1269, -0.2153],\n",
       "          [ 0.1779, -0.3465,  0.1414],\n",
       "          [ 0.0000,  0.0000,  0.0000]]),\n",
       "  tensor([0., 0., 0.])],\n",
       " [tensor([[-0.3416, -0.0913,  0.0342],\n",
       "          [ 0.3642, -0.2537, -0.0408],\n",
       "          [ 0.1451,  0.0008, -0.0155]]),\n",
       "  tensor([ 0.0342, -0.0408, -0.0155]),\n",
       "  tensor([[ 0.1565, -0.2175, -0.1159],\n",
       "          [-0.1041, -0.2438, -0.0414],\n",
       "          [ 0.3462,  0.3250,  0.0407]]),\n",
       "  tensor([-0.0229,  0.0291, -0.0322]),\n",
       "  tensor([[-0.1709,  0.0703, -0.1706],\n",
       "          [-0.1991,  0.2812, -0.2864],\n",
       "          [ 0.0000,  0.0000,  0.0000]]),\n",
       "  tensor([0., 0., 0.])],\n",
       " [tensor([[-0.3990, -0.1574,  0.0386],\n",
       "          [-0.1497, -0.2589,  0.0142],\n",
       "          [ 0.3252,  0.0029, -0.0348]]),\n",
       "  tensor([ 0.0386,  0.0142, -0.0348]),\n",
       "  tensor([[-0.0387, -0.1570, -0.2010],\n",
       "          [ 0.0173,  0.0020,  0.0053],\n",
       "          [-0.1349, -0.2001, -0.0493]]),\n",
       "  tensor([-0.0073,  0.0157,  0.0494]),\n",
       "  tensor([[-0.1213,  0.0231, -0.0472],\n",
       "          [ 0.1201,  0.2162,  0.6373],\n",
       "          [ 0.0000,  0.0000,  0.0000]]),\n",
       "  tensor([0., 0., 0.])]]"
      ]
     },
     "execution_count": 64,
     "metadata": {},
     "output_type": "execute_result"
    }
   ],
   "source": [
    "top_eigenvector"
   ]
  },
  {
   "cell_type": "code",
   "execution_count": null,
   "metadata": {},
   "outputs": [],
   "source": [
    "layer1 = []\n",
    "layer2 = []\n",
    "layer3 = []\n",
    "for vec in top_eigenvector:\n",
    "    layer1.append(torch.norm(vec[0], np.inf))\n",
    "    layer2.append(torch.norm(vec[2], np.inf))\n",
    "    layer3.append(torch.norm(vec[4], np.inf))"
   ]
  },
  {
   "cell_type": "code",
   "execution_count": null,
   "metadata": {},
   "outputs": [
    {
     "data": {
      "image/png": "[encoded data removed]",
      "text/plain": [
       "<Figure size 432x288 with 1 Axes>"
      ]
     },
     "metadata": {
      "needs_background": "light"
     },
     "output_type": "display_data"
    },
    {
     "data": {
      "image/png": "[encoded data removed]",
      "text/plain": [
       "<Figure size 432x288 with 1 Axes>"
      ]
     },
     "metadata": {
      "needs_background": "light"
     },
     "output_type": "display_data"
    },
    {
     "data": {
      "image/png": "[encoded data removed]",
      "text/plain": [
       "<Figure size 432x288 with 1 Axes>"
      ]
     },
     "metadata": {
      "needs_background": "light"
     },
     "output_type": "display_data"
    }
   ],
   "source": [
    "plt.plot(np.linspace(1, 10, 10),layer1, 'k--')\n",
    "plt.xlabel('eigenvalue indx')\n",
    "plt.xlim([1,10])\n",
    "plt.title('maximal change in layer 1')\n",
    "plt.show()\n",
    "\n",
    "plt.plot(np.linspace(1, 10, 10),layer2, 'k--')\n",
    "plt.xlabel('eigenvalue indx')\n",
    "plt.xlim([1,10])\n",
    "plt.title('maximal change in layer 2')\n",
    "plt.show()\n",
    "\n",
    "plt.plot(np.linspace(1, 10, 10),layer3, 'k--')\n",
    "plt.xlabel('eigenvalue indx')\n",
    "plt.xlim([1,10])\n",
    "plt.title('maximal change in layer 3')\n",
    "plt.show()"
   ]
  },
  {
   "cell_type": "code",
   "execution_count": null,
   "metadata": {},
   "outputs": [],
   "source": [
    "layer1 = []\n",
    "layer2 = []\n",
    "layer3 = []\n",
    "for vec in top_eigenvector:\n",
    "    layer1.append(torch.mean(vec[0]))\n",
    "    layer2.append(torch.mean(vec[2]))\n",
    "    layer3.append(torch.mean(vec[4]))"
   ]
  },
  {
   "cell_type": "code",
   "execution_count": null,
   "metadata": {},
   "outputs": [
    {
     "data": {
      "image/png": "[encoded data removed]",
      "text/plain": [
       "<Figure size 432x288 with 1 Axes>"
      ]
     },
     "metadata": {
      "needs_background": "light"
     },
     "output_type": "display_data"
    },
    {
     "data": {
      "image/png": "[encoded data removed]",
      "text/plain": [
       "<Figure size 432x288 with 1 Axes>"
      ]
     },
     "metadata": {
      "needs_background": "light"
     },
     "output_type": "display_data"
    },
    {
     "data": {
      "image/png": "[encoded data removed]",
      "text/plain": [
       "<Figure size 432x288 with 1 Axes>"
      ]
     },
     "metadata": {
      "needs_background": "light"
     },
     "output_type": "display_data"
    }
   ],
   "source": [
    "plt.plot(np.linspace(1, 10, 10),layer1, 'k--')\n",
    "plt.xlabel('eigenvalue indx')\n",
    "plt.xlim([1,10])\n",
    "plt.title('mean change in layer 1')\n",
    "plt.show()\n",
    "\n",
    "plt.plot(np.linspace(1, 10, 10),layer2, 'k--')\n",
    "plt.xlabel('eigenvalue indx')\n",
    "plt.xlim([1,10])\n",
    "plt.title('mean change in layer 2')\n",
    "plt.show()\n",
    "\n",
    "plt.plot(np.linspace(1, 10, 10),layer3, 'k--')\n",
    "plt.xlabel('eigenvalue indx')\n",
    "plt.xlim([1,10])\n",
    "plt.title('mean change in layer 3')\n",
    "plt.show()"
   ]
  },
  {
   "cell_type": "code",
   "execution_count": null,
   "metadata": {},
   "outputs": [
    {
     "data": {
      "text/plain": [
       "tensor(0.)"
      ]
     },
     "execution_count": 44,
     "metadata": {},
     "output_type": "execute_result"
    }
   ],
   "source": [
    "torch.norm(top_eigenvector[0][5], np.inf)"
   ]
  },
  {
   "cell_type": "code",
   "execution_count": null,
   "metadata": {},
   "outputs": [],
   "source": [
    "# # lambda is a small scalar that we use to perturb the model parameters along the eigenvectors \n",
    "# lams = np.linspace(-0.5, 0.5, 100).astype(np.float32)\n",
    "\n",
    "# loss_list = []\n",
    "\n",
    "# # create a copy of the model\n",
    "# model_perb = copy.deepcopy(model)\n",
    "# model_perb.eval()\n",
    "# # model_perb = model_perb.cuda()\n",
    "\n",
    "# for lam in lams:\n",
    "#     model_perb = get_params(model, model_perb, top_eigenvector[0], lam)\n",
    "#     loss_list.append(criterion(model_perb(inputs.float()), targets.float()).item())\n",
    "\n",
    "# plt.plot(lams, loss_list)\n",
    "# plt.ylabel('constraint')\n",
    "# plt.xlabel('Perturbation')\n",
    "# plt.title('Loss landscape perturbed based on top Hessian eigenvector')"
   ]
  },
  {
   "cell_type": "code",
   "execution_count": null,
   "metadata": {},
   "outputs": [
    {
     "ename": "ValueError",
     "evalue": "min() arg is an empty sequence",
     "output_type": "error",
     "traceback": [
      "\u001b[0;31m---------------------------------------------------------------------------\u001b[0m",
      "\u001b[0;31mValueError\u001b[0m                                Traceback (most recent call last)",
      "\u001b[0;32m/var/folders/7v/7wknzt0d797gn2p62b8394yc0000gn/T/ipykernel_9271/2587674778.py\u001b[0m in \u001b[0;36m<module>\u001b[0;34m\u001b[0m\n\u001b[0;32m----> 1\u001b[0;31m \u001b[0mmin\u001b[0m\u001b[0;34m(\u001b[0m\u001b[0mloss_list\u001b[0m\u001b[0;34m)\u001b[0m\u001b[0;34m\u001b[0m\u001b[0;34m\u001b[0m\u001b[0m\n\u001b[0m",
      "\u001b[0;31mValueError\u001b[0m: min() arg is an empty sequence"
     ]
    }
   ],
   "source": [
    "min(loss_list)"
   ]
  },
  {
   "cell_type": "markdown",
   "metadata": {},
   "source": [
    "Now let's compare this with a loss landscape computed based on perturbing the model parameters along a random direction."
   ]
  },
  {
   "cell_type": "code",
   "execution_count": null,
   "metadata": {},
   "outputs": [
    {
     "data": {
      "text/plain": [
       "Text(0.5, 1.0, 'Loss landscape perturbed based on a random direction')"
      ]
     },
     "execution_count": 45,
     "metadata": {},
     "output_type": "execute_result"
    },
    {
     "data": {
      "image/png": "[encoded data removed]",
      "text/plain": [
       "<Figure size 432x288 with 1 Axes>"
      ]
     },
     "metadata": {
      "needs_background": "light"
     },
     "output_type": "display_data"
    }
   ],
   "source": [
    "from pyhessian.utils import normalization\n",
    "\n",
    "# generate random vector to do the loss plot\n",
    "\n",
    "v = [torch.randn_like(p) for p in model.parameters()]\n",
    "v = normalization(v)\n",
    "\n",
    "\n",
    "# used to perturb your model \n",
    "lams = np.linspace(-0.5, 0.5, 100).astype(np.float32)\n",
    "\n",
    "loss_list = []\n",
    "\n",
    "# create a copy of the model\n",
    "model_perb = copy.deepcopy(model)\n",
    "model_perb.eval()\n",
    "# model_perb = model_perb.cuda()\n",
    "\n",
    "for lam in lams: \n",
    "    model_perb = get_params(model, model_perb, v, lam)\n",
    "    loss_list.append(criterion(model_perb(inputs.float()), targets.float()).item())\n",
    "\n",
    "plt.plot(lams, loss_list)\n",
    "plt.ylabel('Loss')\n",
    "plt.xlabel('Perturbation')\n",
    "plt.title('Loss landscape perturbed based on a random direction')"
   ]
  },
  {
   "cell_type": "code",
   "execution_count": null,
   "metadata": {},
   "outputs": [
    {
     "data": {
      "text/plain": [
       "12.14783763885498"
      ]
     },
     "execution_count": 46,
     "metadata": {},
     "output_type": "execute_result"
    }
   ],
   "source": [
    "min(loss_list)"
   ]
  },
  {
   "cell_type": "markdown",
   "metadata": {},
   "source": [
    "Note how different the loss landscape looks. In particular note that there is almost no change in the loss value (see the small scale of the y-axis). This is expected, since for a converged NN, many of the directions are typically degenarate (i.e. they are flat)."
   ]
  },
  {
   "cell_type": "markdown",
   "metadata": {},
   "source": [
    "We can also use gradient direction to perturb the model. While gradient is better than random vector, but it is not possible to use it to plot 3D loss landscape since you will need more than one direction. However, you can use top 2 Hessian vectors instead for that scenario."
   ]
  },
  {
   "cell_type": "code",
   "execution_count": null,
   "metadata": {},
   "outputs": [
    {
     "data": {
      "text/plain": [
       "Text(0.5, 1.0, 'Loss landscape perturbed based on gradient direction')"
      ]
     },
     "execution_count": 47,
     "metadata": {},
     "output_type": "execute_result"
    },
    {
     "data": {
      "image/png": "[encoded data removed]",
      "text/plain": [
       "<Figure size 432x288 with 1 Axes>"
      ]
     },
     "metadata": {
      "needs_background": "light"
     },
     "output_type": "display_data"
    }
   ],
   "source": [
    "from pyhessian.utils import normalization\n",
    "\n",
    "\n",
    "# used to perturb your model \n",
    "lams = np.linspace(-0.5, 0.5, 100).astype(np.float32)\n",
    "\n",
    "loss_list = []\n",
    "\n",
    "# create a copy of the model\n",
    "model_perb = copy.deepcopy(model)\n",
    "model_perb.eval()\n",
    "# model_perb = model_perb.cuda()\n",
    "\n",
    "# generate gradient vector to do the loss plot\n",
    "loss = criterion(model_perb(inputs.float()), targets.float())\n",
    "loss.backward()\n",
    "\n",
    "v = [p.grad.data for p in model_perb.parameters()]\n",
    "v = normalization(v)\n",
    "model_perb.zero_grad()\n",
    "\n",
    "\n",
    "for lam in lams: \n",
    "    model_perb = get_params(model, model_perb, v, lam)\n",
    "    loss_list.append(criterion(model_perb(inputs.float()), targets.float()).item())\n",
    "\n",
    "plt.plot(lams, loss_list)\n",
    "plt.ylabel('Loss')\n",
    "plt.xlabel('Perturbation')\n",
    "plt.title('Loss landscape perturbed based on gradient direction')"
   ]
  },
  {
   "cell_type": "code",
   "execution_count": null,
   "metadata": {},
   "outputs": [
    {
     "data": {
      "text/plain": [
       "0.044786807149648666"
      ]
     },
     "execution_count": 46,
     "metadata": {},
     "output_type": "execute_result"
    }
   ],
   "source": [
    "min(loss_list)"
   ]
  },
  {
   "cell_type": "markdown",
   "metadata": {},
   "source": [
    "## Example 3: Hessian Trace/Diagonal\n",
    "We can also use randomized linear algebra to compute Hessian trace or approximate the Hessian diagonal with very little computational overhead. Let's first start with a numpy example, and then we will show results for a NN."
   ]
  },
  {
   "cell_type": "code",
   "execution_count": null,
   "metadata": {},
   "outputs": [],
   "source": [
    "n = 1000 # the matrix size\n",
    "\n",
    "# generate the matrix\n",
    "A = np.random.randn(n, n)\n",
    "B = A @ A.T"
   ]
  },
  {
   "cell_type": "code",
   "execution_count": null,
   "metadata": {},
   "outputs": [
    {
     "name": "stdout",
     "output_type": "stream",
     "text": [
      "The trace of B is: 998352.3467\n"
     ]
    }
   ],
   "source": [
    "# Direct get the trace \n",
    "trace_B_np = np.matrix.trace(B)\n",
    "print(\"The trace of B is: %.4f\"%trace_B_np)"
   ]
  },
  {
   "cell_type": "markdown",
   "metadata": {},
   "source": [
    "We can approximate the above by using Hutchinson Method. It is very similar to power iteration:\n",
    "\n",
    "$$Tr(B) = \\mathbb{E}[v^TBv],$$\n",
    "$$Diag(B) = \\mathbb{E}[v \\bigodot Bv].$$\n",
    "\n",
    "It can be proved that the above expectation converges with smallest variance to the trace if we use Rademacher random numbers (+/-1). In practice you can also use Gaussian random vectors as well."
   ]
  },
  {
   "cell_type": "code",
   "execution_count": null,
   "metadata": {},
   "outputs": [
    {
     "name": "stdout",
     "output_type": "stream",
     "text": [
      "Step 01, Current estimated trace: 977887.5 relative error: -2.0e-02\n",
      "Step 02, Current estimated trace: 1014029.1 relative error: 1.6e-02\n",
      "Step 03, Current estimated trace: 1011741.3 relative error: 1.3e-02\n",
      "Step 04, Current estimated trace: 1015957.3 relative error: 1.8e-02\n",
      "Step 05, Current estimated trace: 1014763.1 relative error: 1.6e-02\n",
      "Step 06, Current estimated trace: 1001286.1 relative error: 2.9e-03\n",
      "Step 07, Current estimated trace: 995993.6 relative error: -2.4e-03\n",
      "Step 08, Current estimated trace: 988758.3 relative error: -9.6e-03\n",
      "Step 09, Current estimated trace: 1001076.4 relative error: 2.7e-03\n",
      "Step 10, Current estimated trace: 1005864.0 relative error: 7.5e-03\n",
      "Step 11, Current estimated trace: 1009536.9 relative error: 1.1e-02\n",
      "Step 12, Current estimated trace: 1013412.7 relative error: 1.5e-02\n",
      "Step 13, Current estimated trace: 1018004.5 relative error: 2.0e-02\n",
      "Step 14, Current estimated trace: 1014781.1 relative error: 1.6e-02\n",
      "Step 15, Current estimated trace: 1012993.5 relative error: 1.5e-02\n",
      "Step 16, Current estimated trace: 1015247.4 relative error: 1.7e-02\n",
      "Step 17, Current estimated trace: 1012398.2 relative error: 1.4e-02\n",
      "Step 18, Current estimated trace: 1006193.8 relative error: 7.9e-03\n",
      "Step 19, Current estimated trace: 1003951.5 relative error: 5.6e-03\n",
      "Step 20, Current estimated trace: 1001417.1 relative error: 3.1e-03\n"
     ]
    }
   ],
   "source": [
    "# use Hutchinson method to get the trace of B\n",
    "trace_list = []\n",
    "\n",
    "for i in range(20):\n",
    "    v = np.random.randint(2, size=n) \n",
    "    v = v.reshape(n, 1) * 2 - 1 # Create Rademacher random numbers\n",
    "    trace_list.append(v.T @ B @ v)\n",
    "    trace_B_hutchinson = np.mean(trace_list)\n",
    "    print(\"Step %.2d, Current estimated trace: %.1f relative error: %.1e\"\n",
    "          %(i+1, trace_B_hutchinson, (trace_B_hutchinson - trace_B_np) / trace_B_np))"
   ]
  },
  {
   "cell_type": "markdown",
   "metadata": {},
   "source": [
    "As you can see we can get a very accurate estimate of the trace. Next let's try to approximate the diagonal of B using the matrix-free Hutchinson's method."
   ]
  },
  {
   "cell_type": "code",
   "execution_count": null,
   "metadata": {},
   "outputs": [
    {
     "name": "stdout",
     "output_type": "stream",
     "text": [
      "Step 01, the current average relative error 8.1e-01:\n",
      "Step 02, the current average relative error 5.8e-01:\n",
      "Step 03, the current average relative error 4.9e-01:\n",
      "Step 04, the current average relative error 4.2e-01:\n",
      "Step 05, the current average relative error 3.7e-01:\n",
      "Step 06, the current average relative error 3.3e-01:\n",
      "Step 07, the current average relative error 3.1e-01:\n",
      "Step 08, the current average relative error 2.9e-01:\n",
      "Step 09, the current average relative error 2.7e-01:\n",
      "Step 10, the current average relative error 2.6e-01:\n",
      "Step 11, the current average relative error 2.5e-01:\n",
      "Step 12, the current average relative error 2.4e-01:\n",
      "Step 13, the current average relative error 2.3e-01:\n",
      "Step 14, the current average relative error 2.2e-01:\n",
      "Step 15, the current average relative error 2.1e-01:\n",
      "Step 16, the current average relative error 2.0e-01:\n",
      "Step 17, the current average relative error 1.9e-01:\n",
      "Step 18, the current average relative error 1.9e-01:\n",
      "Step 19, the current average relative error 1.8e-01:\n",
      "Step 20, the current average relative error 1.8e-01:\n"
     ]
    }
   ],
   "source": [
    "# use Hutchinson method to get the diag of B\n",
    "diag_est = np.zeros([n, 1])\n",
    "diag_B_np = np.diag(B)\n",
    "for i in range(20):\n",
    "    v = np.random.randint(2, size=n)\n",
    "    v = v.reshape(n, 1) * 2 - 1\n",
    "    diag_est += np.multiply(v, (B @ v))\n",
    "    diag_est_err = np.mean(np.abs(diag_est.reshape(-1) / (i+1) - diag_B_np) / diag_B_np)\n",
    "    print(\"Step %.2d, the current average relative error %.1e:\"%(i+1,diag_est_err))"
   ]
  },
  {
   "cell_type": "code",
   "execution_count": null,
   "metadata": {},
   "outputs": [
    {
     "data": {
      "text/plain": [
       "(1000, 1)"
      ]
     },
     "execution_count": 48,
     "metadata": {},
     "output_type": "execute_result"
    }
   ],
   "source": [
    "diag_est.shape"
   ]
  },
  {
   "cell_type": "markdown",
   "metadata": {},
   "source": [
    "Now let's repeate the above for computing the trace and diagonal of Hessian for ResNet20."
   ]
  },
  {
   "cell_type": "code",
   "execution_count": null,
   "metadata": {},
   "outputs": [],
   "source": [
    "# get the model \n",
    "# model = ptcv_get_model(\"resnet20_cifar10\", pretrained=True)\n",
    "# change the model to eval mode to disable running stats upate\n",
    "model.eval()\n",
    "\n",
    "# create loss function\n",
    "# criterion = torch.nn.CrossEntropyLoss()\n",
    "\n",
    "# get dataset \n",
    "# train_loader, test_loader = getData()\n",
    "\n",
    "# for illustrate, we only use one batch to do the tutorial\n",
    "inputs=torch.tensor(x_train)\n",
    "targets=torch.tensor(y_train)\n",
    "\n",
    "# we use cuda to make the computation fast\n",
    "# model = model.cuda()\n",
    "# inputs, targets = inputs.cuda(), targets.cuda()"
   ]
  },
  {
   "cell_type": "code",
   "execution_count": null,
   "metadata": {},
   "outputs": [],
   "source": [
    "# create the hessian computation module\n",
    "hessian_comp = hessian(model, criterion, data=(inputs.float(), targets.float()), cuda=False)"
   ]
  },
  {
   "cell_type": "code",
   "execution_count": null,
   "metadata": {},
   "outputs": [
    {
     "name": "stdout",
     "output_type": "stream",
     "text": [
      "The trace of this model is: 82.5816\n"
     ]
    }
   ],
   "source": [
    "trace = hessian_comp.trace()\n",
    "print(\"The trace of this model is: %.4f\"%(np.mean(trace)))"
   ]
  },
  {
   "cell_type": "code",
   "execution_count": null,
   "metadata": {},
   "outputs": [
    {
     "data": {
      "text/plain": [
       "([38.23210906982422],\n",
       " [[tensor([[ 0.3825,  0.3674,  0.1414],\n",
       "           [-0.0845, -0.0811, -0.0312],\n",
       "           [-0.2306, -0.2213, -0.0853]]),\n",
       "   tensor([ 0.1414, -0.0312, -0.0853]),\n",
       "   tensor([[-0.1690, -0.4035, -0.1470],\n",
       "           [ 0.0552,  0.1318,  0.0480],\n",
       "           [ 0.0906,  0.2162,  0.0787]]),\n",
       "   tensor([-0.1338,  0.0437,  0.0717]),\n",
       "   tensor([[-0.2906, -0.0993, -0.2887],\n",
       "           [ 0.1202,  0.0411,  0.1195],\n",
       "           [-0.0058, -0.0021, -0.0060]]),\n",
       "   tensor([-0.1182,  0.0489, -0.0024])]])"
      ]
     },
     "execution_count": 52,
     "metadata": {},
     "output_type": "execute_result"
    }
   ],
   "source": [
    "hessian_comp.eigenvalues(top_n=1)"
   ]
  },
  {
   "cell_type": "markdown",
   "metadata": {},
   "source": [
    "We can also get the full eigenvalue spectrum density of Hessian using Stochastic Lancoz algorithm."
   ]
  },
  {
   "cell_type": "code",
   "execution_count": null,
   "metadata": {},
   "outputs": [
    {
     "name": "stderr",
     "output_type": "stream",
     "text": [
      "/home/local/ASUAD/kmajd1/Documents/PyHessian/pyhessian/hessian.py:261: UserWarning: torch.eig is deprecated in favor of torch.linalg.eig and will be removed in a future PyTorch release.\n",
      "torch.linalg.eig returns complex tensors of dtype cfloat or cdouble rather than real tensors mimicking complex tensors.\n",
      "L, _ = torch.eig(A)\n",
      "should be replaced with\n",
      "L_complex = torch.linalg.eigvals(A)\n",
      "and\n",
      "L, V = torch.eig(A, eigenvectors=True)\n",
      "should be replaced with\n",
      "L_complex, V_complex = torch.linalg.eig(A) (Triggered internally at  ../aten/src/ATen/native/BatchLinearAlgebra.cpp:2894.)\n",
      "  a_, b_ = torch.eig(T, eigenvectors=True)\n"
     ]
    }
   ],
   "source": [
    "density_eigen, density_weight = hessian_comp.density()"
   ]
  },
  {
   "cell_type": "code",
   "execution_count": null,
   "metadata": {},
   "outputs": [
    {
     "data": {
      "text/plain": [
       "100"
      ]
     },
     "execution_count": 54,
     "metadata": {},
     "output_type": "execute_result"
    }
   ],
   "source": [
    "len(density_eigen[0])"
   ]
  },
  {
   "cell_type": "code",
   "execution_count": null,
   "metadata": {},
   "outputs": [
    {
     "data": {
      "image/png": "[encoded data removed]",
      "text/plain": [
       "<Figure size 432x288 with 1 Axes>"
      ]
     },
     "metadata": {
      "needs_background": "light"
     },
     "output_type": "display_data"
    }
   ],
   "source": [
    "get_esd_plot(density_eigen, density_weight)"
   ]
  },
  {
   "cell_type": "markdown",
   "metadata": {},
   "source": [
    "The above ESD plot is very interesting and shows that a lot of the eigenvalues of the Hessian are close to zero. This means that a lot of the directions along the loss landscape is almost flat. We expect this based on the loss landscape that we got above when we used a random direction. Another interesting observation is that there are several large Hessian outliers. The other very interesting finding, is that there are a lot of directions with slight negative curvature. This means that we still have not converged to a perfect local minimum that satisfies first and second order optimality conditions."
   ]
  },
  {
   "cell_type": "code",
   "execution_count": null,
   "metadata": {},
   "outputs": [],
   "source": []
  }
 ],
 "metadata": {
  "kernelspec": {
   "display_name": "Python 3.8.6 ('nnreplayer-rPU0nw7P-py3.8')",
   "language": "python",
   "name": "python3"
  },
  "language_info": {
   "codemirror_mode": {
    "name": "ipython",
    "version": 3
   },
   "file_extension": ".py",
   "mimetype": "text/x-python",
   "name": "python",
   "nbconvert_exporter": "python",
   "pygments_lexer": "ipython3",
   "version": "3.8.6"
  },
  "vscode": {
   "interpreter": {
    "hash": "c2517e50e2f9f838b0d00a3ae517001de11b69489da12ed03bbb6c8b9511597c"
   }
  }
 },
 "nbformat": 4,
 "nbformat_minor": 4
}
