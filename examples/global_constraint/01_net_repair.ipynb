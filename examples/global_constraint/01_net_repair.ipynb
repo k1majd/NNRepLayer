{
 "cells": [
  {
   "cell_type": "markdown",
   "metadata": {},
   "source": [
    "# Network Repair for Global Constraint"
   ]
  },
  {
   "cell_type": "markdown",
   "metadata": {},
   "source": [
    "This notebook demonstrates how you can repair a network for the global constraints on the output of network. \n",
    "We use `Gurboi` to solve the Mixed-integer Quadratic Programming (MIQP). We also suggest you to use `Gurobi` as its performance is significantly faster (it also has free academic license).\n",
    "\n",
    "This example bounds the output of Prosthesis controller (policy output) to stay below 10 [deg]. "
   ]
  },
  {
   "cell_type": "code",
   "execution_count": 4,
   "metadata": {},
   "outputs": [],
   "source": [
    "import numpy as np\n",
    "import os\n",
    "import pickle\n",
    "import matplotlib.pyplot as plt\n",
    "from tensorflow import keras\n",
    "from data.data_loader import generateDataWindow\n",
    "from nnreplayer.utils.options import Options\n",
    "from nnreplayer.utils.utils import ConstraintsClass\n",
    "from nnreplayer.repair.repair_weights_class import NNRepair\n"
   ]
  },
  {
   "cell_type": "markdown",
   "metadata": {},
   "source": [
    "## Setup\n",
    "### Load the Original Policy Model\n",
    "We import a pre-trained policy. You can train a model for this dataset by running the ['00_net_train.py'] (00_net_train.py) script in this directory."
   ]
  },
  {
   "cell_type": "markdown",
   "metadata": {},
   "source": [
    "## Setup\n",
    "### Load Data Set\n",
    "We begin by loading the repair dataset. For this example, we need to specify the bound on the network's output in order to generate the repair samples. \n",
    "The data is provided as a numpy array."
   ]
  },
  {
   "cell_type": "code",
   "execution_count": null,
   "metadata": {},
   "outputs": [],
   "source": []
  }
 ],
 "metadata": {
  "kernelspec": {
   "display_name": "Python 3.9.10 ('nnreplayer-BIsqJGCj-py3.9')",
   "language": "python",
   "name": "python3"
  },
  "language_info": {
   "codemirror_mode": {
    "name": "ipython",
    "version": 3
   },
   "file_extension": ".py",
   "mimetype": "text/x-python",
   "name": "python",
   "nbconvert_exporter": "python",
   "pygments_lexer": "ipython3",
   "version": "3.9.12"
  },
  "orig_nbformat": 4,
  "vscode": {
   "interpreter": {
    "hash": "9cc8fc602d7a51e5e87abf705dfe7fd5808dd7df7314cac5f2f81b0fb9231e6d"
   }
  }
 },
 "nbformat": 4,
 "nbformat_minor": 2
}
