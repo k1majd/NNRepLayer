{
 "cells": [
  {
   "cell_type": "code",
   "execution_count": 18,
   "metadata": {},
   "outputs": [],
   "source": [
    "import sys\n",
    "#sys.path.append('/usr/local/lib/python3.9/site-packages') \n",
    "import numpy as np\n",
    "import matplotlib.pyplot as plt\n",
    "from sympy import symbols, Matrix, sin, cos, lambdify, exp, asin, sqrt, Abs, Derivative\n",
    "import cvxopt as cvxopt\n",
    "from shapely.geometry import Polygon, Point\n",
    "#import shapely.affinity as affinity\n",
    "import random\n",
    "import math"
   ]
  },
  {
   "cell_type": "code",
   "execution_count": 19,
   "metadata": {},
   "outputs": [],
   "source": [
    "# TF packages\n",
    "import tensorflow as tf\n",
    "from tensorflow import keras\n",
    "from tensorflow.keras import layers, regularizers"
   ]
  },
  {
   "cell_type": "markdown",
   "metadata": {},
   "source": [
    "#### Functions"
   ]
  },
  {
   "cell_type": "code",
   "execution_count": 20,
   "metadata": {},
   "outputs": [],
   "source": [
    "def cvxopt_solve_qp(P, q, G=None, h=None, A=None, b=None):\n",
    "    P = .5 * (P + P.T)  # make sure P is symmetric\n",
    "    args = [cvxopt.matrix(P), cvxopt.matrix(q)]\n",
    "    if G is not None:\n",
    "        args.extend([cvxopt.matrix(G), cvxopt.matrix(h)])\n",
    "        if A is not None:\n",
    "            args.extend([cvxopt.matrix(A), cvxopt.matrix(b)])\n",
    "    cvxopt.solvers.options['show_progress'] = False\n",
    "    cvxopt.solvers.options['maxiters'] = 100\n",
    "    sol = cvxopt.solvers.qp(*args)\n",
    "    if 'optimal' not in sol['status']:\n",
    "        return None\n",
    "    return np.array(sol['x']).reshape((P.shape[1],))\n",
    "\n",
    "def calc_distance_and_angle(x0, xg):\n",
    "        dx = xg - x0\n",
    "        d = math.hypot(dx[0], dx[1])\n",
    "        theta = math.atan2(dx[1], dx[0])\n",
    "        return d, theta\n",
    "\n",
    "def interval_sample(min_x, max_x, res = 1):\n",
    "        return (((max_x) - (min_x))/res)*np.random.randint(0, res) + (min_x)\n",
    "\n",
    "def angular_diff(x,y): #angular difference\n",
    "        d = y-x\n",
    "        return math.atan2(math.sin(d), math.cos(d))\n",
    "    \n",
    "def zero_2pi_adj(theta):\n",
    "    if theta > 2*np.pi:\n",
    "        temp = theta/(2*np.pi)-1\n",
    "        k = math.ceil(temp)\n",
    "        theta = theta -k*2*np.pi\n",
    "    elif theta <0:\n",
    "        temp = -theta/(2*np.pi)\n",
    "        k = math.ceil(temp)\n",
    "        theta = theta +k*2*np.pi\n",
    "    return theta\n",
    "\n",
    "def pi_pi_adj(theta):\n",
    "    if theta > np.pi:\n",
    "        temp = theta/(2*np.pi)-0.5\n",
    "        k = math.ceil(temp)\n",
    "        theta = theta -k*2*np.pi\n",
    "    elif theta <-np.pi:\n",
    "        temp = -theta/(2*np.pi)-0.5\n",
    "        k = math.ceil(temp)\n",
    "        theta = theta +k*2*np.pi\n",
    "    return theta\n",
    "\n",
    "def calc_angle(from_x, to_x):\n",
    "        dx = to_x[0:2] - from_x[0:2]\n",
    "        d = math.hypot(dx[0], dx[1])\n",
    "        theta = math.atan2(dx[1], dx[0])\n",
    "        return zero_2pi_adj(theta)\n",
    "    \n",
    "def OPT(V, LfV, LgV, x0, xg, gamma = 0, v_gain = 1.2, w_gain = 1):\n",
    "    # robot spec\n",
    "    v_max = 1.\n",
    "    v_min = 0.\n",
    "    w_max = .5\n",
    "    w_min = -.5\n",
    "\n",
    "    # generate input sample\n",
    "    dist_goal, theta_goal = calc_distance_and_angle(x0, xg)\n",
    "    u_ref = np.array([0,0],'f')\n",
    "    u_ref[0] = np.exp(-v_gain/dist_goal)*v_max\n",
    "    u_ref[1] = w_gain*angular_diff(x0[2], theta_goal)\n",
    "\n",
    "    # OPT formulate: min 0.5*u'Hu s.t. Nu<=m\n",
    "    A = np.zeros((6,3))\n",
    "    b = np.zeros((6,1))\n",
    "\n",
    "    ## lyapanov\n",
    "    A[0,0:2] = LgV(x0)\n",
    "    A[0,2] = -1\n",
    "    b[0] = -LfV(x0)\n",
    "    #slack variabl of lyapanov\n",
    "    A[1,2] = -1\n",
    "\n",
    "    ## Control constraints\n",
    "    A[2,0] = 1.\n",
    "    b[2] = v_max\n",
    "    A[3,0] =- 1.\n",
    "    b[3] = -v_min\n",
    "    A[4,1] = 1.\n",
    "    b[4] = w_max\n",
    "    A[5,1] = -1.\n",
    "    b[5] = -w_min\n",
    "\n",
    "    H = np.zeros((3, 3))\n",
    "    ff = np.zeros((3, 1))\n",
    "    H[0,0] = 10\n",
    "    H[1,1] = 10\n",
    "    H[2,2] = 0\n",
    "    ff[0] = -10*u_ref[0]\n",
    "    ff[1] = -10*u_ref[1]\n",
    "    ff[2] = 6\n",
    "    uq = cvxopt_solve_qp(H, ff, A, b)\n",
    "    \n",
    "    return uq[0:2]\n",
    "\n",
    "def traj_gen(x0, x0_NN, xg, V, LfV, LgV, controller, iteration = 40, mode = 'NN'):  # modes: 'NN' and 'OPT'\n",
    "    traj_x = []\n",
    "    traj_x_NN = []\n",
    "    traj_u = []\n",
    "    \n",
    "    traj_x.append(x0)\n",
    "    traj_x_NN.append(x0_NN)\n",
    "    \n",
    "    if mode == 'NN':\n",
    "        for j in range(iteration):\n",
    "            u = controller.predict(np.array([x0_NN])).flatten()\n",
    "            x_dot = (Real_x_r(x0,u[0:2])).flatten()\n",
    "            x0 = (T*Real_x_r(x0,u[0:2])).flatten()+x0\n",
    "            x0[2] = pi_pi_adj(x0[2])\n",
    "            x0_NN = reg_2_NN_coord(x0)\n",
    "\n",
    "            traj_u.append(u)\n",
    "            traj_x.append(x0)\n",
    "            traj_x_NN.append(x0_NN)\n",
    "        \n",
    "        traj_u.append(u)\n",
    "        \n",
    "        traj_x = np.array(traj_x)\n",
    "        traj_x_NN = np.array(traj_x_NN)\n",
    "        traj_u = np.array(traj_u)\n",
    "    else: \n",
    "        while (np.linalg.norm(x0[0:2]-xg[0:2]))>xg[2]:\n",
    "            u = controller(V, LfV, LgV, x0, xg) \n",
    "            x_dot = (Real_x_r(x0,u)).flatten()\n",
    "            x0 = (T*Real_x_r(x0,u)).flatten()+x0\n",
    "            x0[2] = pi_pi_adj(x0[2])\n",
    "            x0_NN = reg_2_NN_coord(x0)\n",
    "\n",
    "            traj_u.append(u)\n",
    "            traj_x.append(x0)\n",
    "            traj_x_NN.append(x0_NN)\n",
    "        \n",
    "        traj_u.append(u)\n",
    "        \n",
    "        traj_x = np.array(traj_x)\n",
    "        traj_x_NN = np.array(traj_x_NN)\n",
    "        traj_u = np.array(traj_u)\n",
    "        \n",
    "        temp = np.array([np.linspace(0., 1.0, num = traj_u.shape[0])])\n",
    "        traj_u = np.concatenate((traj_u, temp.T), axis=1)\n",
    "        \n",
    "    return traj_x, traj_x_NN, traj_u\n",
    "def reg_2_NN_coord(x):\n",
    "    x_NN = np.zeros((4))\n",
    "    x_NN[0] = x[0]\n",
    "    x_NN[1] = x[1]\n",
    "    x_NN[2] = math.sin(x[2])\n",
    "    x_NN[3] = math.cos(x[2])\n",
    "\n",
    "    return x_NN\n",
    "\n",
    "def sample_generate(x_interval):\n",
    "    x = np.zeros((3))\n",
    "    x[0] = interval_sample(x_interval[0][0],x_interval[0][1],300)\n",
    "    x[1] = interval_sample(x_interval[1][0],x_interval[1][1],300)\n",
    "    x[2] = interval_sample(x_interval[2][0],x_interval[2][1],6)\n",
    "    \n",
    "    x_NN = reg_2_NN_coord(x)\n",
    "    return x, x_NN"
   ]
  },
  {
   "cell_type": "code",
   "execution_count": 21,
   "metadata": {},
   "outputs": [],
   "source": [
    "def OPT2(V, LfV, LgV, h, Lfh, Lgh, x0, xg, gamma = 0, alpha = 10, v_gain = 1.2, w_gain = 1): ## added curve around obstacle\n",
    "    # robot spec\n",
    "    v_max = 1.\n",
    "    v_min = 0.\n",
    "    w_max = .5\n",
    "    w_min = -.5\n",
    "\n",
    "    # generate input sample\n",
    "    dist_goal, theta_goal = calc_distance_and_angle(x0, xg)\n",
    "    u_ref = np.array([0,0],'f')\n",
    "    u_ref[0] = np.exp(-v_gain/dist_goal)*v_max\n",
    "    u_ref[1] = w_gain*angular_diff(x0[2], theta_goal)\n",
    "\n",
    "    # OPT formulate: min 0.5*u'Hu s.t. Nu<=m\n",
    "    A = np.zeros((8,4))\n",
    "    b = np.zeros((8,1))\n",
    "\n",
    "    ## lyapanov\n",
    "    A[0,0:2] = LgV(x0)\n",
    "    A[0,2] = -1\n",
    "    b[0] = -LfV(x0)\n",
    "    #slack variabl of lyapanov\n",
    "    A[1,2] = -1\n",
    "\n",
    "    ## safety constraints\n",
    "    t_g = calc_angle(x0,xo)\n",
    "    A[2,0:2] = -Lgh(x0,t_g)\n",
    "    A[2,3] = -1\n",
    "    b[2] = Lfh(x0,t_g) + alpha * h(x0,t_g)\n",
    "    #slack variabl of lyapanov\n",
    "    A[3,3] = -1\n",
    "\n",
    "    ## Control constraints\n",
    "    A[4,0] = 1.\n",
    "    b[4] = v_max\n",
    "    A[5,0] =- 1.\n",
    "    b[5] = -v_min\n",
    "    A[6,1] = 1.\n",
    "    b[6] = w_max\n",
    "    A[7,1] = -1.\n",
    "    b[7] = -w_min\n",
    "    \n",
    "    \n",
    "\n",
    "    H = np.zeros((4, 4))\n",
    "    ff = np.zeros((4, 1))\n",
    "    H[0,0] = 10\n",
    "    H[1,1] = 10\n",
    "    H[2,2] = 0\n",
    "    H[3,3] = 0\n",
    "    ff[0] = -10*u_ref[0]\n",
    "    ff[1] = -10*u_ref[1]\n",
    "    ff[2] = 2\n",
    "    ff[3] = 6\n",
    "    uq = cvxopt_solve_qp(H, ff, A, b)\n",
    "    \n",
    "    return uq, A, b"
   ]
  },
  {
   "cell_type": "markdown",
   "metadata": {},
   "source": [
    "#### parameters"
   ]
  },
  {
   "cell_type": "code",
   "execution_count": 22,
   "metadata": {},
   "outputs": [],
   "source": [
    "T = 0.5\n",
    "l = 0.01\n",
    "x_g_s = np.array([0,0,0.2])\n",
    "r = 0.3\n",
    "xg = np.array([0,0,0.2])\n",
    "xo = np.array([-2,-2,0.2])\n",
    "x0_interval = [(-5,-3),(-5,-3),(0,np.pi/2)] # x0 = [x,y,theta] intervals"
   ]
  },
  {
   "cell_type": "markdown",
   "metadata": {},
   "source": [
    "#### Bicycle model"
   ]
  },
  {
   "cell_type": "code",
   "execution_count": 23,
   "metadata": {},
   "outputs": [],
   "source": [
    "# symbolize the control\n",
    "xr1,xr2,xr3,theta_g = symbols('xr1 xr2 xr3 theta_g')  \n",
    "u1,u2 = symbols('u1,u2')\n",
    "\n",
    "# Vector of states and inputs + g and f:\n",
    "x_r_s = Matrix([xr1,xr2,xr3]) #robot state [x,y,theta]\n",
    "u_s = Matrix([u1,u2])         #control [v,w]\n",
    "f = Matrix([0.,0.,0.])\n",
    "g = Matrix([[cos(x_r_s[2]), -l*sin(x_r_s[2])], [sin(x_r_s[2]), l*cos(x_r_s[2])], [0., 1.]])\n",
    "f_r = f + g*u_s \n",
    "Real_x_r = lambdify([x_r_s, u_s], Matrix([[cos(x_r_s[2]), 0.], [sin(x_r_s[2]), 0.], [0., 1.]])*u_s, 'numpy') #???"
   ]
  },
  {
   "cell_type": "markdown",
   "metadata": {},
   "source": [
    "#### Lyapanov constraint"
   ]
  },
  {
   "cell_type": "code",
   "execution_count": 24,
   "metadata": {},
   "outputs": [],
   "source": [
    "V = (x_r_s[0]-x_g_s[0])**2+(x_r_s[1]-x_g_s[1])**2-(l)**2\n",
    "V_d = V.diff(Matrix([x_r_s]))\n",
    "V = lambdify([x_r_s], V)\n",
    "LfV = lambdify([ x_r_s], V_d.T*f)\n",
    "LgV = lambdify([ x_r_s], V_d.T*g)"
   ]
  },
  {
   "cell_type": "markdown",
   "metadata": {},
   "source": [
    "#### CBF constraint"
   ]
  },
  {
   "cell_type": "code",
   "execution_count": 25,
   "metadata": {},
   "outputs": [],
   "source": [
    "CBF = (x_r_s[0] - xo[0])**2 + (x_r_s[1] - xo[1])**2 - (r + xo[2] + l)**2\n",
    "CBF_d = CBF.diff(Matrix([x_r_s]))\n",
    "h = lambdify([x_r_s], CBF)\n",
    "Lfh = lambdify([x_r_s], CBF_d.T*f)\n",
    "Lgh = lambdify([x_r_s], CBF_d.T*g)"
   ]
  },
  {
   "cell_type": "markdown",
   "metadata": {},
   "source": [
    "#### expinential CBF"
   ]
  },
  {
   "cell_type": "code",
   "execution_count": 26,
   "metadata": {},
   "outputs": [],
   "source": [
    "lamda = 1\n",
    "CBF6 = exp(-lamda*CBF)\n",
    "\n",
    "CBF_d6 = CBF6.diff(Matrix([x_r_s]))\n",
    "B = lambdify([x_r_s], CBF6)\n",
    "LfB = lambdify([x_r_s], CBF_d6.T*f)\n",
    "LgB = lambdify([x_r_s], CBF_d6.T*g) # LgB*u <= -alpha*(B(x)-1) - LfB"
   ]
  },
  {
   "cell_type": "code",
   "execution_count": 27,
   "metadata": {},
   "outputs": [],
   "source": [
    "def calc_angle(from_x, to_x):\n",
    "    dx = to_x[0:2] - from_x[0:2]\n",
    "    d = math.hypot(dx[0], dx[1])\n",
    "    theta = math.atan2(dx[1], dx[0])\n",
    "    return zero_2pi_adj(theta)"
   ]
  },
  {
   "cell_type": "markdown",
   "metadata": {},
   "source": [
    "#### If $\\theta_g - \\theta \\geq 0$"
   ]
  },
  {
   "cell_type": "code",
   "execution_count": 28,
   "metadata": {},
   "outputs": [],
   "source": [
    "CBF2 = -(theta_g - x_r_s[2] - asin(xo[2]/sqrt((x_r_s[0]-xo[0])**2+(x_r_s[1]-xo[1])**2)))*(-theta_g + x_r_s[2] - asin(xo[2]/sqrt((x_r_s[0]-xo[0])**2+(x_r_s[1]-xo[1])**2)))*((x_r_s[0] - xo[0])**2 + (x_r_s[1] - xo[1])**2 - (r + xo[2] + l)**2)       #>\\pi/2\n",
    "CBF_d2 = CBF2.diff(Matrix([x_r_s]))\n",
    "h2 = lambdify([x_r_s,theta_g], CBF2)\n",
    "Lfh2 = lambdify([x_r_s,theta_g], CBF_d2.T*f)\n",
    "Lgh2 = lambdify([x_r_s,theta_g], CBF_d2.T*g)\n"
   ]
  },
  {
   "cell_type": "code",
   "execution_count": 29,
   "metadata": {},
   "outputs": [
    {
     "name": "stdout",
     "output_type": "stream",
     "text": [
      "xo: [-2.  -2.   0.2]\n",
      "x: [-2.  -2.6  1.6]\n",
      "t_g: 1.5707963267948966\n",
      "angle difference: -0.02920367320510353\n",
      "h: 0.0999000000000001\n",
      "h2: -0.011452163422816004\n",
      "h2 const: 0.09751181442247232 * u1 + 0.005806408776408231 * u2 >= 0.05726081711408002\n"
     ]
    }
   ],
   "source": [
    "xx = np.array([-2., -2.6,  1.6])\n",
    "t_g = calc_angle(xx,xo)\n",
    "temp = t_g-xx[2]\n",
    "gamma2 = 5\n",
    "print(\"xo: {}\".format(xo))\n",
    "print(\"x: {}\".format(xx))\n",
    "print(\"t_g: {}\".format(t_g))\n",
    "print(\"angle difference: {}\".format(temp))\n",
    "print('h: {}'.format(h(xx)))\n",
    "print('h2: {}'.format(h2(xx,t_g)))\n",
    "print('h2 const: {} * u1 + {} * u2 >= {}'.format(Lgh2(xx,t_g)[0][0], Lgh2(xx,t_g)[0][1],-gamma2*h2(xx,t_g)))\n"
   ]
  },
  {
   "cell_type": "code",
   "execution_count": 30,
   "metadata": {},
   "outputs": [
    {
     "data": {
      "text/plain": [
       "array([0.09751181, 0.00580641])"
      ]
     },
     "execution_count": 30,
     "metadata": {},
     "output_type": "execute_result"
    }
   ],
   "source": [
    "Lgh2(xx,t_g)[0]"
   ]
  },
  {
   "cell_type": "code",
   "execution_count": 31,
   "metadata": {},
   "outputs": [
    {
     "name": "stdout",
     "output_type": "stream",
     "text": [
      "[1. 0.]\n"
     ]
    },
    {
     "data": {
      "image/png": "[encoded data removed]",
      "text/plain": [
       "<Figure size 432x288 with 1 Axes>"
      ]
     },
     "metadata": {
      "needs_background": "light"
     },
     "output_type": "display_data"
    }
   ],
   "source": [
    "def draw(a, b, c):   # ax + by + c = 0\n",
    "    x1 = -1.\n",
    "    x2 = 1.\n",
    "\n",
    "    y1 = (-c - a*x1) / b\n",
    "    y2 = (-c - a*x2) / b\n",
    "\n",
    "    x = np.array([x1,x2])\n",
    "    y = np.array([y1,y2])\n",
    "\n",
    "    return x, y\n",
    "    \n",
    "#lyapanov\n",
    "a1 = LgV(xx)[0][0]\n",
    "b1 = LgV(xx)[0][1]\n",
    "c1 = LfV(xx)[0][0]\n",
    "x1, y1 = draw(a1, b1, c1)\n",
    "\n",
    "#safety\n",
    "a2 = Lgh2(xx,t_g)[0][0]\n",
    "b2 = Lgh2(xx,t_g)[0][1]\n",
    "c2 = gamma2*h2(xx,t_g)\n",
    "x2, y2 = draw(a2, b2, c2)\n",
    "\n",
    "\n",
    "points = [np.array([0.3,0.5]), np.array([1.,0.]), np.array([0.,0.5]), np.array([0,-0.5])]\n",
    "\n",
    "for pt in points:\n",
    "    if (a1*pt[0]+b1*pt[1]+c1<=0) and (a2*pt[0]+b2*pt[1]+c2>=0):\n",
    "        plt.scatter(pt[0],pt[1], color=\"black\")\n",
    "        print(pt)\n",
    "\n",
    "\n",
    "plt.plot(x1,y1, color= \"blue\")\n",
    "plt.plot(x2,y2, color=\"red\")\n",
    "plt.plot(np.array([0.,0.]),np.array([-.5,.5]), color=\"green\")\n",
    "plt.plot(np.array([1.,1.]),np.array([-.5,.5]), color=\"green\")\n",
    "plt.plot(np.array([0.,1.]),np.array([.5,.5]), color=\"green\")\n",
    "plt.plot(np.array([0.,1.]),np.array([-.5,-.5]), color=\"green\")\n",
    "plt.xlim(-0.05, 1.05)\n",
    "plt.ylim(-1, 1)\n",
    "plt.xlabel(\"v\")\n",
    "plt.ylabel(\"w\")\n",
    "plt.show()"
   ]
  },
  {
   "cell_type": "code",
   "execution_count": 12,
   "metadata": {},
   "outputs": [
    {
     "data": {
      "text/plain": [
       "[<matplotlib.lines.Line2D at 0x7f1fab74b280>]"
      ]
     },
     "execution_count": 12,
     "metadata": {},
     "output_type": "execute_result"
    },
    {
     "data": {
      "image/png": "[encoded data removed]",
      "text/plain": [
       "<Figure size 432x288 with 1 Axes>"
      ]
     },
     "metadata": {
      "needs_background": "light"
     },
     "output_type": "display_data"
    }
   ],
   "source": [
    "from scipy.spatial import HalfspaceIntersection\n",
    "\n",
    "halfspaces = np.array([[-LgV(xx)[0][0], -LgV(xx)[0][1], -LfV(xx)[0][0]],\n",
    "                       [Lgh2(xx,t_g)[0][0], Lgh2(xx,t_g)[0][1], gamma2*h2(xx,t_g)]])\n",
    "fig = plt.figure()\n",
    "ax = fig.add_subplot(1, 1, 1, aspect='equal')\n",
    "xlim, ylim = (-0.05, 1.05), (-1, 1)\n",
    "ax.set_xlim(xlim)\n",
    "ax.set_ylim(ylim)\n",
    "\n",
    "x = np.linspace(-1, 1, 100)\n",
    "\n",
    "symbols = ['+', '*',]\n",
    "\n",
    "signs = [0, -1]\n",
    "\n",
    "fmt = {\"color\": None, \"edgecolor\": \"b\", \"alpha\": 0.5}\n",
    "\n",
    "for h, sym, sign in zip(halfspaces, symbols, signs):\n",
    "\n",
    "    hlist = h.tolist()\n",
    "\n",
    "    fmt[\"hatch\"] = sym\n",
    "\n",
    "    if h[1]== 0:\n",
    "\n",
    "        ax.axvline(-h[2]/h[0], label='{}x+{}y+{}=0'.format(*hlist))\n",
    "\n",
    "        xi = np.linspace(xlim[sign], -h[2]/h[0], 100)\n",
    "\n",
    "        ax.fill_between(xi, ylim[0], ylim[1], **fmt)\n",
    "\n",
    "    else:\n",
    "\n",
    "        ax.plot(x, (-h[2]-h[0]*x)/h[1], label='{}x+{}y+{}=0'.format(*hlist))\n",
    "\n",
    "        ax.fill_between(x, (-h[2]-h[0]*x)/h[1], ylim[sign], **fmt)\n",
    "\n",
    "ax.plot(np.array([0.,0.]),np.array([-.5,.5]), color=\"green\")\n",
    "ax.plot(np.array([1.,1.]),np.array([-.5,.5]), color=\"green\")\n",
    "ax.plot(np.array([0.,1.]),np.array([.5,.5]), color=\"green\")\n",
    "ax.plot(np.array([0.,1.]),np.array([-.5,-.5]), color=\"green\")"
   ]
  },
  {
   "cell_type": "code",
   "execution_count": 32,
   "metadata": {},
   "outputs": [
    {
     "ename": "NameError",
     "evalue": "name 'Lgh4' is not defined",
     "output_type": "error",
     "traceback": [
      "\u001b[0;31m---------------------------------------------------------------------------\u001b[0m",
      "\u001b[0;31mNameError\u001b[0m                                 Traceback (most recent call last)",
      "\u001b[0;32m/tmp/ipykernel_1953809/3272578769.py\u001b[0m in \u001b[0;36m<module>\u001b[0;34m\u001b[0m\n\u001b[1;32m      8\u001b[0m     \u001b[0mprint\u001b[0m\u001b[0;34m(\u001b[0m\u001b[0;34m'h3 const: {} * u2 >= {}'\u001b[0m\u001b[0;34m.\u001b[0m\u001b[0mformat\u001b[0m\u001b[0;34m(\u001b[0m\u001b[0mLgh3\u001b[0m\u001b[0;34m(\u001b[0m\u001b[0mxx\u001b[0m\u001b[0;34m,\u001b[0m\u001b[0mt_g\u001b[0m\u001b[0;34m)\u001b[0m\u001b[0;34m[\u001b[0m\u001b[0;36m0\u001b[0m\u001b[0;34m]\u001b[0m\u001b[0;34m[\u001b[0m\u001b[0;36m1\u001b[0m\u001b[0;34m]\u001b[0m\u001b[0;34m,\u001b[0m\u001b[0;34m-\u001b[0m\u001b[0mgamma\u001b[0m\u001b[0;34m*\u001b[0m\u001b[0mh3\u001b[0m\u001b[0;34m(\u001b[0m\u001b[0mxx\u001b[0m\u001b[0;34m,\u001b[0m\u001b[0mt_g\u001b[0m\u001b[0;34m)\u001b[0m\u001b[0;34m)\u001b[0m\u001b[0;34m)\u001b[0m\u001b[0;34m\u001b[0m\u001b[0;34m\u001b[0m\u001b[0m\n\u001b[1;32m      9\u001b[0m \u001b[0;32mif\u001b[0m \u001b[0mtemp\u001b[0m\u001b[0;34m<\u001b[0m\u001b[0;36m0\u001b[0m\u001b[0;34m:\u001b[0m\u001b[0;34m\u001b[0m\u001b[0;34m\u001b[0m\u001b[0m\n\u001b[0;32m---> 10\u001b[0;31m     \u001b[0mprint\u001b[0m\u001b[0;34m(\u001b[0m\u001b[0;34m'h4 const: {} * u2 >= {}'\u001b[0m\u001b[0;34m.\u001b[0m\u001b[0mformat\u001b[0m\u001b[0;34m(\u001b[0m\u001b[0mLgh4\u001b[0m\u001b[0;34m(\u001b[0m\u001b[0mxx\u001b[0m\u001b[0;34m,\u001b[0m\u001b[0mt_g\u001b[0m\u001b[0;34m)\u001b[0m\u001b[0;34m[\u001b[0m\u001b[0;36m0\u001b[0m\u001b[0;34m]\u001b[0m\u001b[0;34m[\u001b[0m\u001b[0;36m1\u001b[0m\u001b[0;34m]\u001b[0m\u001b[0;34m,\u001b[0m\u001b[0;34m-\u001b[0m\u001b[0mgamma2\u001b[0m\u001b[0;34m*\u001b[0m\u001b[0mh4\u001b[0m\u001b[0;34m(\u001b[0m\u001b[0mxx\u001b[0m\u001b[0;34m,\u001b[0m\u001b[0mt_g\u001b[0m\u001b[0;34m)\u001b[0m\u001b[0;34m)\u001b[0m\u001b[0;34m)\u001b[0m\u001b[0;34m\u001b[0m\u001b[0;34m\u001b[0m\u001b[0m\n\u001b[0m\u001b[1;32m     11\u001b[0m     \u001b[0mprint\u001b[0m\u001b[0;34m(\u001b[0m\u001b[0;34m'h5 const: {} * u2 >= {}'\u001b[0m\u001b[0;34m.\u001b[0m\u001b[0mformat\u001b[0m\u001b[0;34m(\u001b[0m\u001b[0mLgh5\u001b[0m\u001b[0;34m(\u001b[0m\u001b[0mxx\u001b[0m\u001b[0;34m,\u001b[0m\u001b[0mt_g\u001b[0m\u001b[0;34m)\u001b[0m\u001b[0;34m[\u001b[0m\u001b[0;36m0\u001b[0m\u001b[0;34m]\u001b[0m\u001b[0;34m[\u001b[0m\u001b[0;36m1\u001b[0m\u001b[0;34m]\u001b[0m\u001b[0;34m,\u001b[0m\u001b[0;34m-\u001b[0m\u001b[0mgamma2\u001b[0m\u001b[0;34m*\u001b[0m\u001b[0mh5\u001b[0m\u001b[0;34m(\u001b[0m\u001b[0mxx\u001b[0m\u001b[0;34m,\u001b[0m\u001b[0mt_g\u001b[0m\u001b[0;34m)\u001b[0m\u001b[0;34m)\u001b[0m\u001b[0;34m)\u001b[0m\u001b[0;34m\u001b[0m\u001b[0;34m\u001b[0m\u001b[0m\n",
      "\u001b[0;31mNameError\u001b[0m: name 'Lgh4' is not defined"
     ]
    }
   ],
   "source": [
    "xx = np.array([-2.54839482, -2.37988279,  2.8])\n",
    "t_g = calc_angle(xx,xo)\n",
    "temp = t_g-xx[2]\n",
    "gamma = 0.4\n",
    "gamma2 = 0.31\n",
    "if temp>=0:\n",
    "    print('h2 const: {} * u2 >= {}'.format(Lgh2(xx,t_g)[0][1],-gamma*h2(xx,t_g)))\n",
    "    print('h3 const: {} * u2 >= {}'.format(Lgh3(xx,t_g)[0][1],-gamma*h3(xx,t_g)))\n",
    "if temp<0:\n",
    "    print('h4 const: {} * u2 >= {}'.format(Lgh4(xx,t_g)[0][1],-gamma2*h4(xx,t_g)))\n",
    "    print('h5 const: {} * u2 >= {}'.format(Lgh5(xx,t_g)[0][1],-gamma2*h5(xx,t_g)))"
   ]
  },
  {
   "cell_type": "code",
   "execution_count": 464,
   "metadata": {},
   "outputs": [
    {
     "data": {
      "text/plain": [
       "array([[-1.37168568, -1.08807492]])"
      ]
     },
     "execution_count": 464,
     "metadata": {},
     "output_type": "execute_result"
    }
   ],
   "source": [
    "Lgh2(xx,t_g)"
   ]
  },
  {
   "cell_type": "markdown",
   "metadata": {},
   "source": [
    "#### Initialize the NN"
   ]
  },
  {
   "cell_type": "code",
   "execution_count": 33,
   "metadata": {},
   "outputs": [
    {
     "name": "stdout",
     "output_type": "stream",
     "text": [
      "Model: \"3_layer_NN\"\n",
      "_________________________________________________________________\n",
      " Layer (type)                Output Shape              Param #   \n",
      "=================================================================\n",
      " layer0 (Dense)              (None, 10)                50        \n",
      "                                                                 \n",
      " layer1 (Dense)              (None, 10)                110       \n",
      "                                                                 \n",
      " output (Dense)              (None, 3)                 33        \n",
      "                                                                 \n",
      "=================================================================\n",
      "Total params: 193\n",
      "Trainable params: 193\n",
      "Non-trainable params: 0\n",
      "_________________________________________________________________\n"
     ]
    },
    {
     "name": "stderr",
     "output_type": "stream",
     "text": [
      "2021-12-07 15:53:41.290747: I tensorflow/core/platform/cpu_feature_guard.cc:151] This TensorFlow binary is optimized with oneAPI Deep Neural Network Library (oneDNN) to use the following CPU instructions in performance-critical operations:  AVX2 AVX512F FMA\n",
      "To enable them in other operations, rebuild TensorFlow with the appropriate compiler flags.\n",
      "2021-12-07 15:53:41.849583: I tensorflow/core/common_runtime/gpu/gpu_device.cc:1525] Created device /job:localhost/replica:0/task:0/device:GPU:0 with 40877 MB memory:  -> device: 0, name: Quadro RTX 8000, pci bus id: 0000:d5:00.0, compute capability: 7.5\n"
     ]
    }
   ],
   "source": [
    "num_input = 4\n",
    "num_output = 3\n",
    "num_hidden_0 = 10\n",
    "num_hidden_1 = 10\n",
    "starter_learning_rate = 0.005\n",
    "regularizer_rate = 0.001\n",
    "\n",
    "#Create the 3 layers model\n",
    "# Define Sequential model with 3 layers\n",
    "model_orig = keras.Sequential(name=\"3_layer_NN\")\n",
    "model_orig.add(layers.Dense(num_hidden_0,\n",
    "                            activation=\"relu\",\n",
    "                            kernel_regularizer = regularizers.l2(regularizer_rate),\n",
    "                            bias_regularizer = regularizers.l2(regularizer_rate),\n",
    "                            input_shape=(num_input,),\n",
    "                            name=\"layer0\"))\n",
    "#model_orig.add(layers.Dropout(0.01))\n",
    "model_orig.add(layers.Dense(num_hidden_1,\n",
    "                            activation=\"relu\",\n",
    "                            kernel_regularizer = regularizers.l2(regularizer_rate),\n",
    "                            bias_regularizer = regularizers.l2(regularizer_rate),\n",
    "                            name=\"layer1\"))\n",
    "#model_orig.add(layers.Dropout(0.01))\n",
    "model_orig.add(layers.Dense(num_output,\n",
    "                            kernel_regularizer = regularizers.l2(regularizer_rate),\n",
    "                            bias_regularizer = regularizers.l2(regularizer_rate), \n",
    "                            name=\"output\"))\n",
    "model_orig.summary()"
   ]
  },
  {
   "cell_type": "markdown",
   "metadata": {},
   "source": [
    "#### Define loss function"
   ]
  },
  {
   "cell_type": "code",
   "execution_count": 34,
   "metadata": {},
   "outputs": [],
   "source": [
    "import tensorflow.keras.backend as kb\n",
    "#define costum loss function\n",
    "def keras_SSE_costum(y_actual, y_predicted):\n",
    "    err = y_actual - y_predicted\n",
    "    loss_value = kb.sum(kb.square(err))\n",
    "    return loss_value"
   ]
  },
  {
   "cell_type": "code",
   "execution_count": 35,
   "metadata": {},
   "outputs": [],
   "source": [
    "# define loss \n",
    "#loss = keras.losses.MeanSquaredError(name='MSE')\n",
    "#loss = keras.losses.MeanSquaredLogarithmicError(name='MSLE')\n",
    "optimizer = keras.optimizers.SGD(learning_rate = starter_learning_rate, name='SGD')\n",
    "model_orig.compile(optimizer = optimizer,\n",
    "                   loss = keras_SSE_costum,\n",
    "                   metrics=['accuracy'])"
   ]
  },
  {
   "cell_type": "markdown",
   "metadata": {},
   "source": [
    "#### Generate trajectories and train"
   ]
  },
  {
   "cell_type": "markdown",
   "metadata": {},
   "source": [
    "#### Dagger Algorithm"
   ]
  },
  {
   "cell_type": "code",
   "execution_count": 36,
   "metadata": {},
   "outputs": [
    {
     "name": "stdout",
     "output_type": "stream",
     "text": [
      "Cycle 1\n",
      "Trajectory 1 is generated. Training time!!\n",
      "----------------------------------------\n",
      "Cycle 2\n",
      "Trajectory 2 is generated. Training time!!\n",
      "----------------------------------------\n",
      "Cycle 3\n",
      "Trajectory 3 is generated. Training time!!\n",
      "----------------------------------------\n",
      "Cycle 4\n",
      "Trajectory 4 is generated. Training time!!\n",
      "----------------------------------------\n",
      "Cycle 5\n",
      "Trajectory 5 is generated. Training time!!\n",
      "----------------------------------------\n",
      "Cycle 6\n",
      "Trajectory 6 is generated. Training time!!\n",
      "----------------------------------------\n",
      "Cycle 7\n",
      "Trajectory 7 is generated. Training time!!\n",
      "----------------------------------------\n",
      "Cycle 8\n",
      "Trajectory 8 is generated. Training time!!\n",
      "----------------------------------------\n",
      "Cycle 9\n",
      "Trajectory 9 is generated. Training time!!\n",
      "----------------------------------------\n",
      "Cycle 10\n",
      "Trajectory 10 is generated. Training time!!\n",
      "----------------------------------------\n",
      "Cycle 11\n",
      "Trajectory 11 is generated. Training time!!\n",
      "----------------------------------------\n",
      "Cycle 12\n"
     ]
    },
    {
     "ename": "KeyboardInterrupt",
     "evalue": "",
     "output_type": "error",
     "traceback": [
      "\u001b[0;31m---------------------------------------------------------------------------\u001b[0m",
      "\u001b[0;31mKeyboardInterrupt\u001b[0m                         Traceback (most recent call last)",
      "\u001b[0;32m/tmp/ipykernel_1953809/1809251229.py\u001b[0m in \u001b[0;36m<module>\u001b[0;34m\u001b[0m\n\u001b[1;32m     19\u001b[0m     \u001b[0;32mwhile\u001b[0m \u001b[0;34m(\u001b[0m\u001b[0mnp\u001b[0m\u001b[0;34m.\u001b[0m\u001b[0mlinalg\u001b[0m\u001b[0;34m.\u001b[0m\u001b[0mnorm\u001b[0m\u001b[0;34m(\u001b[0m\u001b[0mx0\u001b[0m\u001b[0;34m[\u001b[0m\u001b[0;36m0\u001b[0m\u001b[0;34m:\u001b[0m\u001b[0;36m2\u001b[0m\u001b[0;34m]\u001b[0m\u001b[0;34m-\u001b[0m\u001b[0mx_g_s\u001b[0m\u001b[0;34m[\u001b[0m\u001b[0;36m0\u001b[0m\u001b[0;34m:\u001b[0m\u001b[0;36m2\u001b[0m\u001b[0;34m]\u001b[0m\u001b[0;34m)\u001b[0m\u001b[0;34m)\u001b[0m\u001b[0;34m>\u001b[0m\u001b[0mx_g_s\u001b[0m\u001b[0;34m[\u001b[0m\u001b[0;36m2\u001b[0m\u001b[0;34m]\u001b[0m\u001b[0;34m:\u001b[0m\u001b[0;34m\u001b[0m\u001b[0;34m\u001b[0m\u001b[0m\n\u001b[1;32m     20\u001b[0m         \u001b[0mu\u001b[0m \u001b[0;34m=\u001b[0m \u001b[0mOPT\u001b[0m\u001b[0;34m(\u001b[0m\u001b[0mV\u001b[0m\u001b[0;34m,\u001b[0m \u001b[0mLfV\u001b[0m\u001b[0;34m,\u001b[0m \u001b[0mLgV\u001b[0m\u001b[0;34m,\u001b[0m \u001b[0mx0\u001b[0m\u001b[0;34m,\u001b[0m \u001b[0mx_g_s\u001b[0m\u001b[0;34m)\u001b[0m                \u001b[0;31m# QP output\u001b[0m\u001b[0;34m\u001b[0m\u001b[0;34m\u001b[0m\u001b[0m\n\u001b[0;32m---> 21\u001b[0;31m         \u001b[0mu1\u001b[0m \u001b[0;34m=\u001b[0m \u001b[0mmodel_orig\u001b[0m\u001b[0;34m.\u001b[0m\u001b[0mpredict\u001b[0m\u001b[0;34m(\u001b[0m\u001b[0mnp\u001b[0m\u001b[0;34m.\u001b[0m\u001b[0marray\u001b[0m\u001b[0;34m(\u001b[0m\u001b[0;34m[\u001b[0m\u001b[0mx0_NN\u001b[0m\u001b[0;34m]\u001b[0m\u001b[0;34m)\u001b[0m\u001b[0;34m)\u001b[0m\u001b[0;34m.\u001b[0m\u001b[0mflatten\u001b[0m\u001b[0;34m(\u001b[0m\u001b[0;34m)\u001b[0m \u001b[0;31m# NN output\u001b[0m\u001b[0;34m\u001b[0m\u001b[0;34m\u001b[0m\u001b[0m\n\u001b[0m\u001b[1;32m     22\u001b[0m         \u001b[0mu_apply\u001b[0m \u001b[0;34m=\u001b[0m \u001b[0mbeta\u001b[0m\u001b[0;34m*\u001b[0m\u001b[0mu\u001b[0m \u001b[0;34m+\u001b[0m \u001b[0;34m(\u001b[0m\u001b[0;36m1\u001b[0m\u001b[0;34m-\u001b[0m\u001b[0mbeta\u001b[0m\u001b[0;34m)\u001b[0m\u001b[0;34m*\u001b[0m\u001b[0mu1\u001b[0m\u001b[0;34m[\u001b[0m\u001b[0;36m0\u001b[0m\u001b[0;34m:\u001b[0m\u001b[0;36m2\u001b[0m\u001b[0;34m]\u001b[0m      \u001b[0;31m# mix controls\u001b[0m\u001b[0;34m\u001b[0m\u001b[0;34m\u001b[0m\u001b[0m\n\u001b[1;32m     23\u001b[0m         \u001b[0mx_dot\u001b[0m \u001b[0;34m=\u001b[0m \u001b[0;34m(\u001b[0m\u001b[0mReal_x_r\u001b[0m\u001b[0;34m(\u001b[0m\u001b[0mx0\u001b[0m\u001b[0;34m,\u001b[0m\u001b[0mu_apply\u001b[0m\u001b[0;34m)\u001b[0m\u001b[0;34m)\u001b[0m\u001b[0;34m.\u001b[0m\u001b[0mflatten\u001b[0m\u001b[0;34m(\u001b[0m\u001b[0;34m)\u001b[0m\u001b[0;34m\u001b[0m\u001b[0;34m\u001b[0m\u001b[0m\n",
      "\u001b[0;32m/usr/local/lib/python3.8/dist-packages/keras/utils/traceback_utils.py\u001b[0m in \u001b[0;36merror_handler\u001b[0;34m(*args, **kwargs)\u001b[0m\n\u001b[1;32m     62\u001b[0m     \u001b[0mfiltered_tb\u001b[0m \u001b[0;34m=\u001b[0m \u001b[0;32mNone\u001b[0m\u001b[0;34m\u001b[0m\u001b[0;34m\u001b[0m\u001b[0m\n\u001b[1;32m     63\u001b[0m     \u001b[0;32mtry\u001b[0m\u001b[0;34m:\u001b[0m\u001b[0;34m\u001b[0m\u001b[0;34m\u001b[0m\u001b[0m\n\u001b[0;32m---> 64\u001b[0;31m       \u001b[0;32mreturn\u001b[0m \u001b[0mfn\u001b[0m\u001b[0;34m(\u001b[0m\u001b[0;34m*\u001b[0m\u001b[0margs\u001b[0m\u001b[0;34m,\u001b[0m \u001b[0;34m**\u001b[0m\u001b[0mkwargs\u001b[0m\u001b[0;34m)\u001b[0m\u001b[0;34m\u001b[0m\u001b[0;34m\u001b[0m\u001b[0m\n\u001b[0m\u001b[1;32m     65\u001b[0m     \u001b[0;32mexcept\u001b[0m \u001b[0mException\u001b[0m \u001b[0;32mas\u001b[0m \u001b[0me\u001b[0m\u001b[0;34m:\u001b[0m  \u001b[0;31m# pylint: disable=broad-except\u001b[0m\u001b[0;34m\u001b[0m\u001b[0;34m\u001b[0m\u001b[0m\n\u001b[1;32m     66\u001b[0m       \u001b[0mfiltered_tb\u001b[0m \u001b[0;34m=\u001b[0m \u001b[0m_process_traceback_frames\u001b[0m\u001b[0;34m(\u001b[0m\u001b[0me\u001b[0m\u001b[0;34m.\u001b[0m\u001b[0m__traceback__\u001b[0m\u001b[0;34m)\u001b[0m\u001b[0;34m\u001b[0m\u001b[0;34m\u001b[0m\u001b[0m\n",
      "\u001b[0;31mKeyboardInterrupt\u001b[0m: "
     ]
    }
   ],
   "source": [
    "\n",
    "trajectory = []\n",
    "trajectory_NN = []\n",
    "control = []\n",
    "beta = 1 #\n",
    "N_traj = 100\n",
    "\n",
    "for i in range(N_traj):\n",
    "    beta = (N_traj-i)/(N_traj) \n",
    "    print('Cycle {}'.format(i+1))\n",
    "    x0,x0_NN = sample_generate(x0_interval)\n",
    "    \n",
    "    x_traj = []\n",
    "    x_traj_NN = []\n",
    "    u_traj = []\n",
    "    x_traj.append(x0)\n",
    "    x_traj_NN.append(x0_NN)\n",
    "\n",
    "    # generate trajectory and train network\n",
    "    while (np.linalg.norm(x0[0:2]-x_g_s[0:2]))>x_g_s[2]:\n",
    "        u = OPT(V, LfV, LgV, x0, x_g_s)                # QP output\n",
    "        u1 = model_orig.predict(np.array([x0_NN])).flatten() # NN output\n",
    "        u_apply = beta*u + (1-beta)*u1[0:2]      # mix controls\n",
    "        x_dot = (Real_x_r(x0,u_apply)).flatten()\n",
    "        x0 = (T*Real_x_r(x0,u_apply)).flatten()+x0\n",
    "        x0[2] = pi_pi_adj(x0[2])\n",
    "        x0_NN = reg_2_NN_coord(x0)\n",
    "        u_traj.append(u)\n",
    "        x_traj.append(x0)\n",
    "        x_traj_NN.append(x0_NN)\n",
    "    u_traj.append(u)\n",
    "    print('Trajectory {} is generated. Training time!!'.format(i+1))\n",
    "    x_traj = np.array(x_traj)\n",
    "    x_traj_NN = np.array(x_traj_NN)\n",
    "    u_traj = np.array(u_traj)\n",
    "    temp = np.array([np.linspace(0., 1.0, num = u_traj.shape[0])])\n",
    "    u_traj = np.concatenate((u_traj, temp.T), axis=1)\n",
    "    trajectory.append(x_traj)\n",
    "    trajectory_NN.append(x_traj_NN)\n",
    "    control.append(u_traj)\n",
    "\n",
    "\n",
    "    # Train model for the generate sample\n",
    "    his = model_orig.fit(np.concatenate(trajectory_NN), np.concatenate(control), epochs=2, use_multiprocessing = True, verbose = 0)\n",
    "    \n",
    "    print('----------------------------------------')\n",
    "\n",
    "print('Done training!')\n"
   ]
  },
  {
   "cell_type": "code",
   "execution_count": 37,
   "metadata": {},
   "outputs": [
    {
     "data": {
      "image/png": "[encoded data removed]",
      "text/plain": [
       "<Figure size 432x288 with 1 Axes>"
      ]
     },
     "metadata": {
      "needs_background": "light"
     },
     "output_type": "display_data"
    }
   ],
   "source": [
    "# plot loss function\n",
    "results_train_loss = his.history['loss']\n",
    "plt.plot(results_train_loss, color='red')\n",
    "plt.title('Loss Function Output')\n",
    "plt.xlabel('epoch')\n",
    "plt.ylabel('loss')\n",
    "plt.show()"
   ]
  },
  {
   "cell_type": "markdown",
   "metadata": {},
   "source": [
    "#### SeperatedTraining"
   ]
  },
  {
   "cell_type": "markdown",
   "metadata": {},
   "source": [
    "#### Control design"
   ]
  },
  {
   "cell_type": "code",
   "execution_count": 709,
   "metadata": {},
   "outputs": [],
   "source": [
    "# model_orig.save('model_3_out/my_model')"
   ]
  },
  {
   "cell_type": "code",
   "execution_count": 710,
   "metadata": {},
   "outputs": [],
   "source": [
    "#model_orig.save_weights('saved_model10/weights')"
   ]
  },
  {
   "cell_type": "code",
   "execution_count": 711,
   "metadata": {},
   "outputs": [],
   "source": [
    "#temp = keras.models.load_model('saved_model10/my_model', compile=False)"
   ]
  },
  {
   "cell_type": "code",
   "execution_count": 712,
   "metadata": {},
   "outputs": [],
   "source": [
    "#model_orig = keras.models.load_model('saved_model6/my_model')"
   ]
  },
  {
   "cell_type": "markdown",
   "metadata": {},
   "source": [
    "## load model"
   ]
  },
  {
   "cell_type": "code",
   "execution_count": 38,
   "metadata": {},
   "outputs": [
    {
     "name": "stdout",
     "output_type": "stream",
     "text": [
      "WARNING:tensorflow:SavedModel saved prior to TF 2.5 detected when loading Keras model. Please ensure that you are saving the model with model.save() or tf.keras.models.save_model(), *NOT* tf.saved_model.save(). To confirm, there should be a file named \"keras_metadata.pb\" in the SavedModel directory.\n"
     ]
    }
   ],
   "source": [
    "model_orig = keras.models.load_model('model_3_out/my_model',compile=False)"
   ]
  },
  {
   "cell_type": "markdown",
   "metadata": {},
   "source": [
    "#### Performance on training data"
   ]
  },
  {
   "cell_type": "code",
   "execution_count": 39,
   "metadata": {},
   "outputs": [
    {
     "name": "stdout",
     "output_type": "stream",
     "text": [
      "cycle: 1\n",
      "cycle: 2\n",
      "cycle: 3\n",
      "cycle: 4\n",
      "cycle: 5\n"
     ]
    },
    {
     "ename": "KeyboardInterrupt",
     "evalue": "",
     "output_type": "error",
     "traceback": [
      "\u001b[0;31m---------------------------------------------------------------------------\u001b[0m",
      "\u001b[0;31mKeyboardInterrupt\u001b[0m                         Traceback (most recent call last)",
      "\u001b[0;32m/tmp/ipykernel_1953809/409191951.py\u001b[0m in \u001b[0;36m<module>\u001b[0;34m\u001b[0m\n\u001b[1;32m      5\u001b[0m     \u001b[0mprint\u001b[0m\u001b[0;34m(\u001b[0m\u001b[0;34m'cycle: {}'\u001b[0m\u001b[0;34m.\u001b[0m\u001b[0mformat\u001b[0m\u001b[0;34m(\u001b[0m\u001b[0mi\u001b[0m\u001b[0;34m+\u001b[0m\u001b[0;36m1\u001b[0m\u001b[0;34m)\u001b[0m\u001b[0;34m)\u001b[0m\u001b[0;34m\u001b[0m\u001b[0;34m\u001b[0m\u001b[0m\n\u001b[1;32m      6\u001b[0m     \u001b[0mx0\u001b[0m\u001b[0;34m,\u001b[0m \u001b[0mx0_NN\u001b[0m \u001b[0;34m=\u001b[0m \u001b[0msample_generate\u001b[0m\u001b[0;34m(\u001b[0m\u001b[0mx0_interval\u001b[0m\u001b[0;34m)\u001b[0m\u001b[0;34m\u001b[0m\u001b[0;34m\u001b[0m\u001b[0m\n\u001b[0;32m----> 7\u001b[0;31m     \u001b[0mtraj_xx\u001b[0m\u001b[0;34m,\u001b[0m \u001b[0mtraj_xx_NN\u001b[0m\u001b[0;34m,\u001b[0m \u001b[0mtraj_uu\u001b[0m \u001b[0;34m=\u001b[0m \u001b[0mtraj_gen\u001b[0m\u001b[0;34m(\u001b[0m\u001b[0mx0\u001b[0m\u001b[0;34m,\u001b[0m \u001b[0mx0_NN\u001b[0m\u001b[0;34m,\u001b[0m \u001b[0mx_g_s\u001b[0m\u001b[0;34m,\u001b[0m \u001b[0mV\u001b[0m\u001b[0;34m,\u001b[0m \u001b[0mLfV\u001b[0m\u001b[0;34m,\u001b[0m \u001b[0mLgV\u001b[0m\u001b[0;34m,\u001b[0m \u001b[0mmodel_orig\u001b[0m\u001b[0;34m,\u001b[0m \u001b[0miteration\u001b[0m \u001b[0;34m=\u001b[0m \u001b[0;36m60\u001b[0m\u001b[0;34m,\u001b[0m \u001b[0mmode\u001b[0m \u001b[0;34m=\u001b[0m \u001b[0;34m'NN'\u001b[0m\u001b[0;34m)\u001b[0m\u001b[0;34m\u001b[0m\u001b[0;34m\u001b[0m\u001b[0m\n\u001b[0m\u001b[1;32m      8\u001b[0m     \u001b[0mfinal_trajectory\u001b[0m\u001b[0;34m.\u001b[0m\u001b[0mappend\u001b[0m\u001b[0;34m(\u001b[0m\u001b[0mtraj_xx\u001b[0m\u001b[0;34m)\u001b[0m\u001b[0;34m\u001b[0m\u001b[0;34m\u001b[0m\u001b[0m\n\u001b[1;32m      9\u001b[0m     \u001b[0mfinal_u\u001b[0m\u001b[0;34m.\u001b[0m\u001b[0mappend\u001b[0m\u001b[0;34m(\u001b[0m\u001b[0mtraj_uu\u001b[0m\u001b[0;34m)\u001b[0m\u001b[0;34m\u001b[0m\u001b[0;34m\u001b[0m\u001b[0m\n",
      "\u001b[0;32m/tmp/ipykernel_1953809/4006270982.py\u001b[0m in \u001b[0;36mtraj_gen\u001b[0;34m(x0, x0_NN, xg, V, LfV, LgV, controller, iteration, mode)\u001b[0m\n\u001b[1;32m    110\u001b[0m     \u001b[0;32mif\u001b[0m \u001b[0mmode\u001b[0m \u001b[0;34m==\u001b[0m \u001b[0;34m'NN'\u001b[0m\u001b[0;34m:\u001b[0m\u001b[0;34m\u001b[0m\u001b[0;34m\u001b[0m\u001b[0m\n\u001b[1;32m    111\u001b[0m         \u001b[0;32mfor\u001b[0m \u001b[0mj\u001b[0m \u001b[0;32min\u001b[0m \u001b[0mrange\u001b[0m\u001b[0;34m(\u001b[0m\u001b[0miteration\u001b[0m\u001b[0;34m)\u001b[0m\u001b[0;34m:\u001b[0m\u001b[0;34m\u001b[0m\u001b[0;34m\u001b[0m\u001b[0m\n\u001b[0;32m--> 112\u001b[0;31m             \u001b[0mu\u001b[0m \u001b[0;34m=\u001b[0m \u001b[0mcontroller\u001b[0m\u001b[0;34m.\u001b[0m\u001b[0mpredict\u001b[0m\u001b[0;34m(\u001b[0m\u001b[0mnp\u001b[0m\u001b[0;34m.\u001b[0m\u001b[0marray\u001b[0m\u001b[0;34m(\u001b[0m\u001b[0;34m[\u001b[0m\u001b[0mx0_NN\u001b[0m\u001b[0;34m]\u001b[0m\u001b[0;34m)\u001b[0m\u001b[0;34m)\u001b[0m\u001b[0;34m.\u001b[0m\u001b[0mflatten\u001b[0m\u001b[0;34m(\u001b[0m\u001b[0;34m)\u001b[0m\u001b[0;34m\u001b[0m\u001b[0;34m\u001b[0m\u001b[0m\n\u001b[0m\u001b[1;32m    113\u001b[0m             \u001b[0mx_dot\u001b[0m \u001b[0;34m=\u001b[0m \u001b[0;34m(\u001b[0m\u001b[0mReal_x_r\u001b[0m\u001b[0;34m(\u001b[0m\u001b[0mx0\u001b[0m\u001b[0;34m,\u001b[0m\u001b[0mu\u001b[0m\u001b[0;34m[\u001b[0m\u001b[0;36m0\u001b[0m\u001b[0;34m:\u001b[0m\u001b[0;36m2\u001b[0m\u001b[0;34m]\u001b[0m\u001b[0;34m)\u001b[0m\u001b[0;34m)\u001b[0m\u001b[0;34m.\u001b[0m\u001b[0mflatten\u001b[0m\u001b[0;34m(\u001b[0m\u001b[0;34m)\u001b[0m\u001b[0;34m\u001b[0m\u001b[0;34m\u001b[0m\u001b[0m\n\u001b[1;32m    114\u001b[0m             \u001b[0mx0\u001b[0m \u001b[0;34m=\u001b[0m \u001b[0;34m(\u001b[0m\u001b[0mT\u001b[0m\u001b[0;34m*\u001b[0m\u001b[0mReal_x_r\u001b[0m\u001b[0;34m(\u001b[0m\u001b[0mx0\u001b[0m\u001b[0;34m,\u001b[0m\u001b[0mu\u001b[0m\u001b[0;34m[\u001b[0m\u001b[0;36m0\u001b[0m\u001b[0;34m:\u001b[0m\u001b[0;36m2\u001b[0m\u001b[0;34m]\u001b[0m\u001b[0;34m)\u001b[0m\u001b[0;34m)\u001b[0m\u001b[0;34m.\u001b[0m\u001b[0mflatten\u001b[0m\u001b[0;34m(\u001b[0m\u001b[0;34m)\u001b[0m\u001b[0;34m+\u001b[0m\u001b[0mx0\u001b[0m\u001b[0;34m\u001b[0m\u001b[0;34m\u001b[0m\u001b[0m\n",
      "\u001b[0;32m/usr/local/lib/python3.8/dist-packages/keras/utils/traceback_utils.py\u001b[0m in \u001b[0;36merror_handler\u001b[0;34m(*args, **kwargs)\u001b[0m\n\u001b[1;32m     62\u001b[0m     \u001b[0mfiltered_tb\u001b[0m \u001b[0;34m=\u001b[0m \u001b[0;32mNone\u001b[0m\u001b[0;34m\u001b[0m\u001b[0;34m\u001b[0m\u001b[0m\n\u001b[1;32m     63\u001b[0m     \u001b[0;32mtry\u001b[0m\u001b[0;34m:\u001b[0m\u001b[0;34m\u001b[0m\u001b[0;34m\u001b[0m\u001b[0m\n\u001b[0;32m---> 64\u001b[0;31m       \u001b[0;32mreturn\u001b[0m \u001b[0mfn\u001b[0m\u001b[0;34m(\u001b[0m\u001b[0;34m*\u001b[0m\u001b[0margs\u001b[0m\u001b[0;34m,\u001b[0m \u001b[0;34m**\u001b[0m\u001b[0mkwargs\u001b[0m\u001b[0;34m)\u001b[0m\u001b[0;34m\u001b[0m\u001b[0;34m\u001b[0m\u001b[0m\n\u001b[0m\u001b[1;32m     65\u001b[0m     \u001b[0;32mexcept\u001b[0m \u001b[0mException\u001b[0m \u001b[0;32mas\u001b[0m \u001b[0me\u001b[0m\u001b[0;34m:\u001b[0m  \u001b[0;31m# pylint: disable=broad-except\u001b[0m\u001b[0;34m\u001b[0m\u001b[0;34m\u001b[0m\u001b[0m\n\u001b[1;32m     66\u001b[0m       \u001b[0mfiltered_tb\u001b[0m \u001b[0;34m=\u001b[0m \u001b[0m_process_traceback_frames\u001b[0m\u001b[0;34m(\u001b[0m\u001b[0me\u001b[0m\u001b[0;34m.\u001b[0m\u001b[0m__traceback__\u001b[0m\u001b[0;34m)\u001b[0m\u001b[0;34m\u001b[0m\u001b[0;34m\u001b[0m\u001b[0m\n",
      "\u001b[0;32m/usr/local/lib/python3.8/dist-packages/keras/engine/training.py\u001b[0m in \u001b[0;36mpredict\u001b[0;34m(self, x, batch_size, verbose, steps, callbacks, max_queue_size, workers, use_multiprocessing)\u001b[0m\n\u001b[1;32m   1787\u001b[0m           \u001b[0;32mfor\u001b[0m \u001b[0mstep\u001b[0m \u001b[0;32min\u001b[0m \u001b[0mdata_handler\u001b[0m\u001b[0;34m.\u001b[0m\u001b[0msteps\u001b[0m\u001b[0;34m(\u001b[0m\u001b[0;34m)\u001b[0m\u001b[0;34m:\u001b[0m\u001b[0;34m\u001b[0m\u001b[0;34m\u001b[0m\u001b[0m\n\u001b[1;32m   1788\u001b[0m             \u001b[0mcallbacks\u001b[0m\u001b[0;34m.\u001b[0m\u001b[0mon_predict_batch_begin\u001b[0m\u001b[0;34m(\u001b[0m\u001b[0mstep\u001b[0m\u001b[0;34m)\u001b[0m\u001b[0;34m\u001b[0m\u001b[0;34m\u001b[0m\u001b[0m\n\u001b[0;32m-> 1789\u001b[0;31m             \u001b[0mtmp_batch_outputs\u001b[0m \u001b[0;34m=\u001b[0m \u001b[0mself\u001b[0m\u001b[0;34m.\u001b[0m\u001b[0mpredict_function\u001b[0m\u001b[0;34m(\u001b[0m\u001b[0miterator\u001b[0m\u001b[0;34m)\u001b[0m\u001b[0;34m\u001b[0m\u001b[0;34m\u001b[0m\u001b[0m\n\u001b[0m\u001b[1;32m   1790\u001b[0m             \u001b[0;32mif\u001b[0m \u001b[0mdata_handler\u001b[0m\u001b[0;34m.\u001b[0m\u001b[0mshould_sync\u001b[0m\u001b[0;34m:\u001b[0m\u001b[0;34m\u001b[0m\u001b[0;34m\u001b[0m\u001b[0m\n\u001b[1;32m   1791\u001b[0m               \u001b[0mcontext\u001b[0m\u001b[0;34m.\u001b[0m\u001b[0masync_wait\u001b[0m\u001b[0;34m(\u001b[0m\u001b[0;34m)\u001b[0m\u001b[0;34m\u001b[0m\u001b[0;34m\u001b[0m\u001b[0m\n",
      "\u001b[0;32m/usr/local/lib/python3.8/dist-packages/tensorflow/python/util/traceback_utils.py\u001b[0m in \u001b[0;36merror_handler\u001b[0;34m(*args, **kwargs)\u001b[0m\n\u001b[1;32m    148\u001b[0m     \u001b[0mfiltered_tb\u001b[0m \u001b[0;34m=\u001b[0m \u001b[0;32mNone\u001b[0m\u001b[0;34m\u001b[0m\u001b[0;34m\u001b[0m\u001b[0m\n\u001b[1;32m    149\u001b[0m     \u001b[0;32mtry\u001b[0m\u001b[0;34m:\u001b[0m\u001b[0;34m\u001b[0m\u001b[0;34m\u001b[0m\u001b[0m\n\u001b[0;32m--> 150\u001b[0;31m       \u001b[0;32mreturn\u001b[0m \u001b[0mfn\u001b[0m\u001b[0;34m(\u001b[0m\u001b[0;34m*\u001b[0m\u001b[0margs\u001b[0m\u001b[0;34m,\u001b[0m \u001b[0;34m**\u001b[0m\u001b[0mkwargs\u001b[0m\u001b[0;34m)\u001b[0m\u001b[0;34m\u001b[0m\u001b[0;34m\u001b[0m\u001b[0m\n\u001b[0m\u001b[1;32m    151\u001b[0m     \u001b[0;32mexcept\u001b[0m \u001b[0mException\u001b[0m \u001b[0;32mas\u001b[0m \u001b[0me\u001b[0m\u001b[0;34m:\u001b[0m\u001b[0;34m\u001b[0m\u001b[0;34m\u001b[0m\u001b[0m\n\u001b[1;32m    152\u001b[0m       \u001b[0mfiltered_tb\u001b[0m \u001b[0;34m=\u001b[0m \u001b[0m_process_traceback_frames\u001b[0m\u001b[0;34m(\u001b[0m\u001b[0me\u001b[0m\u001b[0;34m.\u001b[0m\u001b[0m__traceback__\u001b[0m\u001b[0;34m)\u001b[0m\u001b[0;34m\u001b[0m\u001b[0;34m\u001b[0m\u001b[0m\n",
      "\u001b[0;32m/usr/local/lib/python3.8/dist-packages/tensorflow/python/eager/def_function.py\u001b[0m in \u001b[0;36m__call__\u001b[0;34m(self, *args, **kwds)\u001b[0m\n\u001b[1;32m    908\u001b[0m \u001b[0;34m\u001b[0m\u001b[0m\n\u001b[1;32m    909\u001b[0m       \u001b[0;32mwith\u001b[0m \u001b[0mOptionalXlaContext\u001b[0m\u001b[0;34m(\u001b[0m\u001b[0mself\u001b[0m\u001b[0;34m.\u001b[0m\u001b[0m_jit_compile\u001b[0m\u001b[0;34m)\u001b[0m\u001b[0;34m:\u001b[0m\u001b[0;34m\u001b[0m\u001b[0;34m\u001b[0m\u001b[0m\n\u001b[0;32m--> 910\u001b[0;31m         \u001b[0mresult\u001b[0m \u001b[0;34m=\u001b[0m \u001b[0mself\u001b[0m\u001b[0;34m.\u001b[0m\u001b[0m_call\u001b[0m\u001b[0;34m(\u001b[0m\u001b[0;34m*\u001b[0m\u001b[0margs\u001b[0m\u001b[0;34m,\u001b[0m \u001b[0;34m**\u001b[0m\u001b[0mkwds\u001b[0m\u001b[0;34m)\u001b[0m\u001b[0;34m\u001b[0m\u001b[0;34m\u001b[0m\u001b[0m\n\u001b[0m\u001b[1;32m    911\u001b[0m \u001b[0;34m\u001b[0m\u001b[0m\n\u001b[1;32m    912\u001b[0m       \u001b[0mnew_tracing_count\u001b[0m \u001b[0;34m=\u001b[0m \u001b[0mself\u001b[0m\u001b[0;34m.\u001b[0m\u001b[0mexperimental_get_tracing_count\u001b[0m\u001b[0;34m(\u001b[0m\u001b[0;34m)\u001b[0m\u001b[0;34m\u001b[0m\u001b[0;34m\u001b[0m\u001b[0m\n",
      "\u001b[0;32m/usr/local/lib/python3.8/dist-packages/tensorflow/python/eager/def_function.py\u001b[0m in \u001b[0;36m_call\u001b[0;34m(self, *args, **kwds)\u001b[0m\n\u001b[1;32m    947\u001b[0m       \u001b[0;31m# In this case we have not created variables on the first call. So we can\u001b[0m\u001b[0;34m\u001b[0m\u001b[0;34m\u001b[0m\u001b[0;34m\u001b[0m\u001b[0m\n\u001b[1;32m    948\u001b[0m       \u001b[0;31m# run the first trace but we should fail if variables are created.\u001b[0m\u001b[0;34m\u001b[0m\u001b[0;34m\u001b[0m\u001b[0;34m\u001b[0m\u001b[0m\n\u001b[0;32m--> 949\u001b[0;31m       \u001b[0mresults\u001b[0m \u001b[0;34m=\u001b[0m \u001b[0mself\u001b[0m\u001b[0;34m.\u001b[0m\u001b[0m_stateful_fn\u001b[0m\u001b[0;34m(\u001b[0m\u001b[0;34m*\u001b[0m\u001b[0margs\u001b[0m\u001b[0;34m,\u001b[0m \u001b[0;34m**\u001b[0m\u001b[0mkwds\u001b[0m\u001b[0;34m)\u001b[0m\u001b[0;34m\u001b[0m\u001b[0;34m\u001b[0m\u001b[0m\n\u001b[0m\u001b[1;32m    950\u001b[0m       \u001b[0;32mif\u001b[0m \u001b[0mself\u001b[0m\u001b[0;34m.\u001b[0m\u001b[0m_created_variables\u001b[0m \u001b[0;32mand\u001b[0m \u001b[0;32mnot\u001b[0m \u001b[0mALLOW_DYNAMIC_VARIABLE_CREATION\u001b[0m\u001b[0;34m:\u001b[0m\u001b[0;34m\u001b[0m\u001b[0;34m\u001b[0m\u001b[0m\n\u001b[1;32m    951\u001b[0m         raise ValueError(\"Creating variables on a non-first call to a function\"\n",
      "\u001b[0;32m/usr/local/lib/python3.8/dist-packages/tensorflow/python/eager/function.py\u001b[0m in \u001b[0;36m__call__\u001b[0;34m(self, *args, **kwargs)\u001b[0m\n\u001b[1;32m   3128\u001b[0m       (graph_function,\n\u001b[1;32m   3129\u001b[0m        filtered_flat_args) = self._maybe_define_function(args, kwargs)\n\u001b[0;32m-> 3130\u001b[0;31m     return graph_function._call_flat(\n\u001b[0m\u001b[1;32m   3131\u001b[0m         filtered_flat_args, captured_inputs=graph_function.captured_inputs)  # pylint: disable=protected-access\n\u001b[1;32m   3132\u001b[0m \u001b[0;34m\u001b[0m\u001b[0m\n",
      "\u001b[0;32m/usr/local/lib/python3.8/dist-packages/tensorflow/python/eager/function.py\u001b[0m in \u001b[0;36m_call_flat\u001b[0;34m(self, args, captured_inputs, cancellation_manager)\u001b[0m\n\u001b[1;32m   1957\u001b[0m         and executing_eagerly):\n\u001b[1;32m   1958\u001b[0m       \u001b[0;31m# No tape is watching; skip to running the function.\u001b[0m\u001b[0;34m\u001b[0m\u001b[0;34m\u001b[0m\u001b[0;34m\u001b[0m\u001b[0m\n\u001b[0;32m-> 1959\u001b[0;31m       return self._build_call_outputs(self._inference_function.call(\n\u001b[0m\u001b[1;32m   1960\u001b[0m           ctx, args, cancellation_manager=cancellation_manager))\n\u001b[1;32m   1961\u001b[0m     forward_backward = self._select_forward_and_backward_functions(\n",
      "\u001b[0;32m/usr/local/lib/python3.8/dist-packages/tensorflow/python/eager/function.py\u001b[0m in \u001b[0;36mcall\u001b[0;34m(self, ctx, args, cancellation_manager)\u001b[0m\n\u001b[1;32m    596\u001b[0m       \u001b[0;32mwith\u001b[0m \u001b[0m_InterpolateFunctionError\u001b[0m\u001b[0;34m(\u001b[0m\u001b[0mself\u001b[0m\u001b[0;34m)\u001b[0m\u001b[0;34m:\u001b[0m\u001b[0;34m\u001b[0m\u001b[0;34m\u001b[0m\u001b[0m\n\u001b[1;32m    597\u001b[0m         \u001b[0;32mif\u001b[0m \u001b[0mcancellation_manager\u001b[0m \u001b[0;32mis\u001b[0m \u001b[0;32mNone\u001b[0m\u001b[0;34m:\u001b[0m\u001b[0;34m\u001b[0m\u001b[0;34m\u001b[0m\u001b[0m\n\u001b[0;32m--> 598\u001b[0;31m           outputs = execute.execute(\n\u001b[0m\u001b[1;32m    599\u001b[0m               \u001b[0mstr\u001b[0m\u001b[0;34m(\u001b[0m\u001b[0mself\u001b[0m\u001b[0;34m.\u001b[0m\u001b[0msignature\u001b[0m\u001b[0;34m.\u001b[0m\u001b[0mname\u001b[0m\u001b[0;34m)\u001b[0m\u001b[0;34m,\u001b[0m\u001b[0;34m\u001b[0m\u001b[0;34m\u001b[0m\u001b[0m\n\u001b[1;32m    600\u001b[0m               \u001b[0mnum_outputs\u001b[0m\u001b[0;34m=\u001b[0m\u001b[0mself\u001b[0m\u001b[0;34m.\u001b[0m\u001b[0m_num_outputs\u001b[0m\u001b[0;34m,\u001b[0m\u001b[0;34m\u001b[0m\u001b[0;34m\u001b[0m\u001b[0m\n",
      "\u001b[0;32m/usr/local/lib/python3.8/dist-packages/tensorflow/python/eager/execute.py\u001b[0m in \u001b[0;36mquick_execute\u001b[0;34m(op_name, num_outputs, inputs, attrs, ctx, name)\u001b[0m\n\u001b[1;32m     56\u001b[0m   \u001b[0;32mtry\u001b[0m\u001b[0;34m:\u001b[0m\u001b[0;34m\u001b[0m\u001b[0;34m\u001b[0m\u001b[0m\n\u001b[1;32m     57\u001b[0m     \u001b[0mctx\u001b[0m\u001b[0;34m.\u001b[0m\u001b[0mensure_initialized\u001b[0m\u001b[0;34m(\u001b[0m\u001b[0;34m)\u001b[0m\u001b[0;34m\u001b[0m\u001b[0;34m\u001b[0m\u001b[0m\n\u001b[0;32m---> 58\u001b[0;31m     tensors = pywrap_tfe.TFE_Py_Execute(ctx._handle, device_name, op_name,\n\u001b[0m\u001b[1;32m     59\u001b[0m                                         inputs, attrs, num_outputs)\n\u001b[1;32m     60\u001b[0m   \u001b[0;32mexcept\u001b[0m \u001b[0mcore\u001b[0m\u001b[0;34m.\u001b[0m\u001b[0m_NotOkStatusException\u001b[0m \u001b[0;32mas\u001b[0m \u001b[0me\u001b[0m\u001b[0;34m:\u001b[0m\u001b[0;34m\u001b[0m\u001b[0;34m\u001b[0m\u001b[0m\n",
      "\u001b[0;31mKeyboardInterrupt\u001b[0m: "
     ]
    }
   ],
   "source": [
    "final_trajectory = []\n",
    "final_u = []\n",
    "x0_interval = [(-5,-3),(-5,-3),(0,np.pi/2)] # x0 = [x,y,theta] intervals\n",
    "for i in range(30):\n",
    "    print('cycle: {}'.format(i+1))\n",
    "    x0, x0_NN = sample_generate(x0_interval)\n",
    "    traj_xx, traj_xx_NN, traj_uu = traj_gen(x0, x0_NN, x_g_s, V, LfV, LgV, model_orig, iteration = 60, mode = 'NN')\n",
    "    final_trajectory.append(traj_xx)\n",
    "    final_u.append(traj_uu)"
   ]
  },
  {
   "cell_type": "code",
   "execution_count": 44,
   "metadata": {},
   "outputs": [
    {
     "data": {
      "text/plain": [
       "<matplotlib.patches.Circle at 0x7f1f902a1bb0>"
      ]
     },
     "execution_count": 44,
     "metadata": {},
     "output_type": "execute_result"
    },
    {
     "data": {
      "image/png": "[encoded data removed]",
      "text/plain": [
       "<Figure size 432x288 with 1 Axes>"
      ]
     },
     "metadata": {
      "needs_background": "light"
     },
     "output_type": "display_data"
    }
   ],
   "source": [
    "poly = Polygon([(x0_interval[0][0], x0_interval[1][0]), (x0_interval[0][0], x0_interval[1][1]), (x0_interval[0][1], x0_interval[1][1]), (x0_interval[0][1], x0_interval[1][0])])  # transformed polygon vertices\n",
    "x_poly, y_poly = poly.exterior.xy\n",
    "for traj in final_trajectory:\n",
    "    plt.plot(traj[:,0],traj[:,1], color= 'green')\n",
    "#for traj in trajectory:\n",
    "#    plt.plot(traj[:,0],traj[:,1], color= 'red')\n",
    "plt.plot(x_poly, y_poly, color='blue', alpha=0.7, linewidth=3, solid_capstyle='round', zorder=2, label='Input Set')\n",
    "\n",
    "ax = plt.gca()\n",
    "ax.add_patch(plt.Circle((x_g_s[0], x_g_s[1]), 0.2, color='red', fill=False))"
   ]
  },
  {
   "cell_type": "code",
   "execution_count": null,
   "metadata": {},
   "outputs": [
    {
     "ename": "NameError",
     "evalue": "name 'control' is not defined",
     "output_type": "error",
     "traceback": [
      "\u001b[1;31m---------------------------------------------------------------------------\u001b[0m",
      "\u001b[1;31mNameError\u001b[0m                                 Traceback (most recent call last)",
      "\u001b[1;32m<ipython-input-13-8fa24cebab18>\u001b[0m in \u001b[0;36m<module>\u001b[1;34m\u001b[0m\n\u001b[0;32m      1\u001b[0m \u001b[0muu\u001b[0m \u001b[1;33m=\u001b[0m \u001b[0mfinal_u\u001b[0m\u001b[1;33m[\u001b[0m\u001b[1;36m6\u001b[0m\u001b[1;33m]\u001b[0m\u001b[1;33m\u001b[0m\u001b[1;33m\u001b[0m\u001b[0m\n\u001b[1;32m----> 2\u001b[1;33m \u001b[0muu2\u001b[0m \u001b[1;33m=\u001b[0m \u001b[0mcontrol\u001b[0m\u001b[1;33m[\u001b[0m\u001b[1;36m6\u001b[0m\u001b[1;33m]\u001b[0m\u001b[1;33m\u001b[0m\u001b[1;33m\u001b[0m\u001b[0m\n\u001b[0m\u001b[0;32m      3\u001b[0m \u001b[0mplt\u001b[0m\u001b[1;33m.\u001b[0m\u001b[0mplot\u001b[0m\u001b[1;33m(\u001b[0m\u001b[0muu\u001b[0m\u001b[1;33m[\u001b[0m\u001b[1;33m:\u001b[0m\u001b[1;33m,\u001b[0m\u001b[1;36m1\u001b[0m\u001b[1;33m]\u001b[0m\u001b[1;33m,\u001b[0m \u001b[0mcolor\u001b[0m\u001b[1;33m=\u001b[0m \u001b[1;34m'green'\u001b[0m\u001b[1;33m)\u001b[0m\u001b[1;33m\u001b[0m\u001b[1;33m\u001b[0m\u001b[0m\n\u001b[0;32m      4\u001b[0m \u001b[0mplt\u001b[0m\u001b[1;33m.\u001b[0m\u001b[0mplot\u001b[0m\u001b[1;33m(\u001b[0m\u001b[0muu2\u001b[0m\u001b[1;33m[\u001b[0m\u001b[1;33m:\u001b[0m\u001b[1;33m,\u001b[0m\u001b[1;36m1\u001b[0m\u001b[1;33m]\u001b[0m\u001b[1;33m,\u001b[0m \u001b[0mcolor\u001b[0m\u001b[1;33m=\u001b[0m \u001b[1;34m'red'\u001b[0m\u001b[1;33m)\u001b[0m\u001b[1;33m\u001b[0m\u001b[1;33m\u001b[0m\u001b[0m\n\u001b[0;32m      5\u001b[0m \u001b[0mplt\u001b[0m\u001b[1;33m.\u001b[0m\u001b[0mshow\u001b[0m\u001b[1;33m(\u001b[0m\u001b[1;33m)\u001b[0m\u001b[1;33m\u001b[0m\u001b[1;33m\u001b[0m\u001b[0m\n",
      "\u001b[1;31mNameError\u001b[0m: name 'control' is not defined"
     ]
    }
   ],
   "source": [
    "uu = final_u[6]\n",
    "uu2 = control[6]\n",
    "plt.plot(uu[:,1], color= 'green')\n",
    "plt.plot(uu2[:,1], color= 'red')\n",
    "plt.show()"
   ]
  },
  {
   "cell_type": "markdown",
   "metadata": {},
   "source": [
    "### Add safety constraint and just retrain the last layer"
   ]
  },
  {
   "cell_type": "code",
   "execution_count": 158,
   "metadata": {},
   "outputs": [
    {
     "data": {
      "text/latex": [
       "$\\displaystyle \\left[\\begin{matrix}\\left(2.0 xr_{1} + 4.0\\right) \\cos{\\left(xr_{3} \\right)} + \\left(2.0 xr_{2} + 4.0\\right) \\sin{\\left(xr_{3} \\right)} & - \\left(2.0 xr_{1} + 4.0\\right) \\sin{\\left(xr_{3} \\right)} + \\left(2.0 xr_{2} + 4.0\\right) \\cos{\\left(xr_{3} \\right)}\\end{matrix}\\right]$"
      ],
      "text/plain": [
       "Matrix([[(2.0*xr1 + 4.0)*cos(xr3) + (2.0*xr2 + 4.0)*sin(xr3), -(2.0*xr1 + 4.0)*sin(xr3) + (2.0*xr2 + 4.0)*cos(xr3)]])"
      ]
     },
     "execution_count": 158,
     "metadata": {},
     "output_type": "execute_result"
    }
   ],
   "source": [
    "CBF_d.T*g"
   ]
  },
  {
   "cell_type": "code",
   "execution_count": 40,
   "metadata": {},
   "outputs": [
    {
     "name": "stdout",
     "output_type": "stream",
     "text": [
      "[-3.72172131 -3.96666667  0.11794607]\n",
      "[-3.37586006 -3.92568347  0.2237276 ]\n",
      "[-3.04112518 -3.849519    0.32016595]\n",
      "[-2.72157571 -3.74356484  0.40958293]\n",
      "[-2.42010604 -3.61268617  0.49417584]\n",
      "[-2.13823777 -3.46082569  0.5765044 ]\n",
      "[-1.87542222 -3.28994728  0.66025937]\n",
      "[-1.62791353 -3.09775168  0.7518446 ]\n",
      "[-1.38835792 -2.87375572  0.86538514]\n",
      "[-1.16577801 -2.61238314  0.99306588]\n",
      "[-0.98626982 -2.33703406  1.07206519]\n",
      "[-0.83725504 -2.06343981  1.12175978]\n",
      "[-0.71062869 -1.80065722  1.15354835]\n",
      "[-0.60161738 -1.5547351   1.17422959]\n",
      "[-0.50759577 -1.330207    1.18790642]\n",
      "[-0.42718006 -1.13054912  1.19708286]\n",
      "[-0.35955078 -0.95808768  1.20330531]\n",
      "[-0.3039442  -0.81364733  1.20754293]\n",
      "[-0.25932012 -0.69625315  1.21041684]\n",
      "[-0.22425709 -0.60320734  1.2123396 ]\n",
      "[-0.19707707 -0.53065803  1.21359806]\n",
      "[-0.17608982 -0.47442322  1.21439952]\n",
      "[-0.15980354 -0.43067755  1.21489531]\n",
      "[-0.14702166 -0.39629273  1.21519359]\n",
      "[-0.13684075 -0.36887981  1.21536861]\n",
      "[-0.12860044 -0.3466802   1.21546914]\n",
      "[-0.12182404 -0.32841877  1.21552583]\n",
      "[-0.11616737 -0.31317223  1.21555734]\n",
      "[-0.11138007 -0.30026766  1.21557462]\n",
      "[-0.10727787 -0.28920923  1.21558401]\n",
      "[-0.10372331 -0.27962681  1.21558906]\n",
      "[-0.1006124  -0.27124028  1.21559176]\n",
      "[-0.09786538 -0.26383469  1.21559319]\n",
      "[-0.09542039 -0.25724327  1.21559395]\n",
      "[-0.09322847 -0.25133411  1.21559434]\n",
      "[-0.09125075 -0.24600239  1.21559455]\n",
      "[-0.0894559  -0.24116365  1.21559466]\n",
      "[-0.08781841 -0.23674917  1.21559472]\n",
      "[-0.08631735 -0.23270247  1.21559475]\n",
      "[-0.08493535 -0.22897674  1.21559476]\n",
      "[-0.0836579  -0.22553288  1.21559477]\n",
      "[-0.0824728  -0.22233796  1.21559477]\n",
      "[-0.08136967 -0.21936403  1.21559478]\n",
      "[-0.08033967 -0.21658728  1.21559478]\n",
      "[-0.07937523 -0.21398724  1.21559478]\n",
      "[-0.07846977 -0.21154622  1.21559478]\n",
      "[-0.07761761 -0.20924889  1.21559478]\n",
      "[-0.07681378 -0.20708186  1.21559478]\n",
      "[-0.07605393 -0.20503338  1.21559478]\n",
      "[-0.07533422 -0.20309312  1.21559478]\n",
      "[-0.07465127 -0.20125194  1.21559478]\n",
      "[-0.07400205 -0.19950173  1.21559478]\n",
      "[-0.0733839  -0.19783526  1.21559478]\n",
      "[-0.07279442 -0.19624607  1.21559478]\n",
      "[-0.07223145 -0.19472838  1.21559478]\n",
      "[-0.07169308 -0.19327697  1.21559478]\n",
      "[-0.07117755 -0.19188715  1.21559478]\n",
      "[-0.07068328 -0.19055467  1.21559478]\n",
      "[-0.07020885 -0.18927566  1.21559478]\n",
      "[-0.06975296 -0.18804662  1.21559478]\n",
      "[-0.06931441 -0.18686435  1.21559478]\n"
     ]
    }
   ],
   "source": [
    "trajec = []\n",
    "# x0, _ = sample_generate(x0_interval)\n",
    "x0 = np.array([-4.07333333,-3.96666667, 0.])\n",
    "trajec.append(x0)\n",
    "while (np.linalg.norm(x0[0:2]-x_g_s[0:2]))>x_g_s[2]:\n",
    "    u_apply, _, _ = OPT2(V, LfV, LgV, h2, Lfh2, Lgh2, x0, x_g_s, gamma = 0, alpha = 1, v_gain = 1.2, w_gain = 1)\n",
    "    x_dot = (Real_x_r(x0,u_apply[0:2])).flatten()\n",
    "    x0 = (T*Real_x_r(x0,u_apply[0:2])).flatten()+x0\n",
    "    x0[2] = pi_pi_adj(x0[2])\n",
    "    print(x0)\n",
    "    trajec.append(x0)\n",
    "trajec = np.stack(trajec,0)"
   ]
  },
  {
   "cell_type": "code",
   "execution_count": 41,
   "metadata": {},
   "outputs": [
    {
     "ename": "NameError",
     "evalue": "name 'OPT3' is not defined",
     "output_type": "error",
     "traceback": [
      "\u001b[0;31m---------------------------------------------------------------------------\u001b[0m",
      "\u001b[0;31mNameError\u001b[0m                                 Traceback (most recent call last)",
      "\u001b[0;32m/tmp/ipykernel_1953809/1453193629.py\u001b[0m in \u001b[0;36m<module>\u001b[0;34m\u001b[0m\n\u001b[1;32m      1\u001b[0m \u001b[0mx0\u001b[0m \u001b[0;34m=\u001b[0m \u001b[0mnp\u001b[0m\u001b[0;34m.\u001b[0m\u001b[0marray\u001b[0m\u001b[0;34m(\u001b[0m\u001b[0;34m[\u001b[0m\u001b[0;34m-\u001b[0m\u001b[0;36m2.30497356\u001b[0m\u001b[0;34m,\u001b[0m \u001b[0;34m-\u001b[0m\u001b[0;36m2.4103694\u001b[0m \u001b[0;34m,\u001b[0m  \u001b[0;36m0.80759708\u001b[0m\u001b[0;34m]\u001b[0m\u001b[0;34m)\u001b[0m\u001b[0;34m\u001b[0m\u001b[0;34m\u001b[0m\u001b[0m\n\u001b[0;32m----> 2\u001b[0;31m \u001b[0mu_apply\u001b[0m\u001b[0;34m,\u001b[0m \u001b[0mA\u001b[0m\u001b[0;34m,\u001b[0m \u001b[0mb\u001b[0m \u001b[0;34m=\u001b[0m \u001b[0mOPT3\u001b[0m\u001b[0;34m(\u001b[0m\u001b[0mV\u001b[0m\u001b[0;34m,\u001b[0m \u001b[0mLfV\u001b[0m\u001b[0;34m,\u001b[0m \u001b[0mLgV\u001b[0m\u001b[0;34m,\u001b[0m \u001b[0mB\u001b[0m\u001b[0;34m,\u001b[0m \u001b[0mLfB\u001b[0m\u001b[0;34m,\u001b[0m \u001b[0mLgB\u001b[0m\u001b[0;34m,\u001b[0m \u001b[0mx0\u001b[0m\u001b[0;34m,\u001b[0m \u001b[0mx_g_s\u001b[0m\u001b[0;34m,\u001b[0m \u001b[0mgamma\u001b[0m \u001b[0;34m=\u001b[0m \u001b[0;36m0\u001b[0m\u001b[0;34m,\u001b[0m \u001b[0malpha\u001b[0m \u001b[0;34m=\u001b[0m \u001b[0;36m1\u001b[0m\u001b[0;34m,\u001b[0m \u001b[0mv_gain\u001b[0m \u001b[0;34m=\u001b[0m \u001b[0;36m1.2\u001b[0m\u001b[0;34m,\u001b[0m \u001b[0mw_gain\u001b[0m \u001b[0;34m=\u001b[0m \u001b[0;36m1\u001b[0m\u001b[0;34m)\u001b[0m\u001b[0;34m\u001b[0m\u001b[0;34m\u001b[0m\u001b[0m\n\u001b[0m\u001b[1;32m      3\u001b[0m \u001b[0mx1\u001b[0m \u001b[0;34m=\u001b[0m \u001b[0;34m(\u001b[0m\u001b[0;36m0.1\u001b[0m\u001b[0;34m*\u001b[0m\u001b[0mReal_x_r\u001b[0m\u001b[0;34m(\u001b[0m\u001b[0mx0\u001b[0m\u001b[0;34m,\u001b[0m\u001b[0mu_apply\u001b[0m\u001b[0;34m[\u001b[0m\u001b[0;36m0\u001b[0m\u001b[0;34m:\u001b[0m\u001b[0;36m2\u001b[0m\u001b[0;34m]\u001b[0m\u001b[0;34m)\u001b[0m\u001b[0;34m)\u001b[0m\u001b[0;34m.\u001b[0m\u001b[0mflatten\u001b[0m\u001b[0;34m(\u001b[0m\u001b[0;34m)\u001b[0m\u001b[0;34m+\u001b[0m\u001b[0mx0\u001b[0m\u001b[0;34m\u001b[0m\u001b[0;34m\u001b[0m\u001b[0m\n\u001b[1;32m      4\u001b[0m \u001b[0mprint\u001b[0m\u001b[0;34m(\u001b[0m\u001b[0;34m\"x0: {}\"\u001b[0m\u001b[0;34m.\u001b[0m\u001b[0mformat\u001b[0m\u001b[0;34m(\u001b[0m\u001b[0mx0\u001b[0m\u001b[0;34m)\u001b[0m\u001b[0;34m)\u001b[0m\u001b[0;34m\u001b[0m\u001b[0;34m\u001b[0m\u001b[0m\n\u001b[1;32m      5\u001b[0m \u001b[0mprint\u001b[0m\u001b[0;34m(\u001b[0m\u001b[0;34m\"u_ref: {}\"\u001b[0m\u001b[0;34m.\u001b[0m\u001b[0mformat\u001b[0m\u001b[0;34m(\u001b[0m\u001b[0mu_ref\u001b[0m\u001b[0;34m)\u001b[0m\u001b[0;34m)\u001b[0m\u001b[0;34m\u001b[0m\u001b[0;34m\u001b[0m\u001b[0m\n",
      "\u001b[0;31mNameError\u001b[0m: name 'OPT3' is not defined"
     ]
    }
   ],
   "source": [
    "x0 = np.array([-2.30497356, -2.4103694 ,  0.80759708])\n",
    "u_apply, A, b = OPT3(V, LfV, LgV, B, LfB, LgB, x0, x_g_s, gamma = 0, alpha = 1, v_gain = 1.2, w_gain = 1)\n",
    "x1 = (0.1*Real_x_r(x0,u_apply[0:2])).flatten()+x0\n",
    "print(\"x0: {}\".format(x0))\n",
    "print(\"u_ref: {}\".format(u_ref))\n",
    "print(\"u_apply: {}\".format(u_apply))\n",
    "print(\"x1: {}\".format(x1))\n",
    "# print(\"h(x0): {}\".format(h2(x1)))\n",
    "# print(\"h(x1): {}\".format(h2(x1)))"
   ]
  },
  {
   "cell_type": "code",
   "execution_count": 45,
   "metadata": {},
   "outputs": [
    {
     "data": {
      "text/plain": [
       "<matplotlib.patches.Circle at 0x7f1fab52db20>"
      ]
     },
     "execution_count": 45,
     "metadata": {},
     "output_type": "execute_result"
    },
    {
     "data": {
      "image/png": "[encoded data removed]",
      "text/plain": [
       "<Figure size 432x288 with 1 Axes>"
      ]
     },
     "metadata": {
      "needs_background": "light"
     },
     "output_type": "display_data"
    }
   ],
   "source": [
    "plt.plot(x_poly, y_poly, color='blue', alpha=0.7, linewidth=3, solid_capstyle='round', zorder=2, label='Input Set')\n",
    "plt.plot(trajec[:,0],trajec[:,1], color= 'green')\n",
    "ax = plt.gca()\n",
    "ax.add_patch(plt.Circle((x_g_s[0], x_g_s[1]), 0.2, color='red', fill=False))\n",
    "ax.add_patch(plt.Circle((xo[0], xo[1]), xo[2], color='red', fill=False))"
   ]
  },
  {
   "cell_type": "code",
   "execution_count": 25,
   "metadata": {},
   "outputs": [],
   "source": [
    "# np.save('orig_traj', np.concatenate(trajectory))\n",
    "# np.save('orig_traj_NN', np.concatenate(trajectory_NN))\n",
    "# np.save('final_traj', np.concatenate(final_trajectory))\n",
    "# np.save('orig_u', np.concatenate(control))\n",
    "# np.save('final_u', np.concatenate(final_u))"
   ]
  },
  {
   "cell_type": "code",
   "execution_count": null,
   "metadata": {},
   "outputs": [],
   "source": []
  },
  {
   "cell_type": "code",
   "execution_count": null,
   "metadata": {},
   "outputs": [],
   "source": []
  }
 ],
 "metadata": {
  "interpreter": {
   "hash": "0adcc2737ebf6a4a119f135174df96668767fca1ef1112612db5ecadf2b6d608"
  },
  "kernelspec": {
   "display_name": "Python 3",
   "language": "python",
   "name": "python3"
  },
  "language_info": {
   "codemirror_mode": {
    "name": "ipython",
    "version": 3
   },
   "file_extension": ".py",
   "mimetype": "text/x-python",
   "name": "python",
   "nbconvert_exporter": "python",
   "pygments_lexer": "ipython3",
   "version": "3.8.10"
  }
 },
 "nbformat": 4,
 "nbformat_minor": 4
}
