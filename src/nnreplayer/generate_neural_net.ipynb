{
 "cells": [
  {
   "cell_type": "code",
   "execution_count": 1,
   "metadata": {},
   "outputs": [
    {
     "name": "stderr",
     "output_type": "stream",
     "text": [
      "2022-01-19 12:52:51.268993: W tensorflow/stream_executor/platform/default/dso_loader.cc:64] Could not load dynamic library 'libcudart.so.11.0'; dlerror: libcudart.so.11.0: cannot open shared object file: No such file or directory; LD_LIBRARY_PATH: /home/daittan/catkin_ws/devel/lib:/opt/ros/melodic/lib:/home/daittan/NN-Repair/gurobi912/linux64/lib\n",
      "2022-01-19 12:52:51.269108: I tensorflow/stream_executor/cuda/cudart_stub.cc:29] Ignore above cudart dlerror if you do not have a GPU set up on your machine.\n"
     ]
    }
   ],
   "source": [
    "import numpy as np\n",
    "import os\n",
    "import sys\n",
    "from pprint import pprint\n",
    "from numpy import sin, cos, pi\n",
    "import numpy.matlib\n",
    "import random\n",
    "from matplotlib import pyplot as plt\n",
    "from shapely.geometry import Polygon, Point\n",
    "import shapely.affinity as affinity\n",
    "import tensorflow as tf\n",
    "from tensorflow import keras\n",
    "from tensorflow.keras import layers, regularizers\n",
    "from sklearn.model_selection import train_test_split\n",
    "import pyomo.environ as pyo\n",
    "import pyomo.gdp as pyg\n",
    "from pyomo.gdp import *\n",
    "from scipy.spatial import ConvexHull\n",
    "#tf.disable_v2_behavior()  # this line is added to allow placeholder() function to work (does not work in tf2)"
   ]
  },
  {
   "cell_type": "code",
   "execution_count": 2,
   "metadata": {},
   "outputs": [
    {
     "name": "stderr",
     "output_type": "stream",
     "text": [
      "2022-01-19 12:52:53.381749: I tensorflow/stream_executor/cuda/cuda_gpu_executor.cc:937] successful NUMA node read from SysFS had negative value (-1), but there must be at least one NUMA node, so returning NUMA node zero\n",
      "2022-01-19 12:52:53.382661: W tensorflow/stream_executor/platform/default/dso_loader.cc:64] Could not load dynamic library 'libcudart.so.11.0'; dlerror: libcudart.so.11.0: cannot open shared object file: No such file or directory; LD_LIBRARY_PATH: /home/daittan/catkin_ws/devel/lib:/opt/ros/melodic/lib:/home/daittan/NN-Repair/gurobi912/linux64/lib\n",
      "2022-01-19 12:52:53.382939: W tensorflow/stream_executor/platform/default/dso_loader.cc:64] Could not load dynamic library 'libcublas.so.11'; dlerror: libcublas.so.11: cannot open shared object file: No such file or directory; LD_LIBRARY_PATH: /home/daittan/catkin_ws/devel/lib:/opt/ros/melodic/lib:/home/daittan/NN-Repair/gurobi912/linux64/lib\n",
      "2022-01-19 12:52:53.383134: W tensorflow/stream_executor/platform/default/dso_loader.cc:64] Could not load dynamic library 'libcublasLt.so.11'; dlerror: libcublasLt.so.11: cannot open shared object file: No such file or directory; LD_LIBRARY_PATH: /home/daittan/catkin_ws/devel/lib:/opt/ros/melodic/lib:/home/daittan/NN-Repair/gurobi912/linux64/lib\n",
      "2022-01-19 12:52:53.383339: W tensorflow/stream_executor/platform/default/dso_loader.cc:64] Could not load dynamic library 'libcufft.so.10'; dlerror: libcufft.so.10: cannot open shared object file: No such file or directory; LD_LIBRARY_PATH: /home/daittan/catkin_ws/devel/lib:/opt/ros/melodic/lib:/home/daittan/NN-Repair/gurobi912/linux64/lib\n",
      "2022-01-19 12:52:53.383544: W tensorflow/stream_executor/platform/default/dso_loader.cc:64] Could not load dynamic library 'libcurand.so.10'; dlerror: libcurand.so.10: cannot open shared object file: No such file or directory; LD_LIBRARY_PATH: /home/daittan/catkin_ws/devel/lib:/opt/ros/melodic/lib:/home/daittan/NN-Repair/gurobi912/linux64/lib\n",
      "2022-01-19 12:52:53.383733: W tensorflow/stream_executor/platform/default/dso_loader.cc:64] Could not load dynamic library 'libcusolver.so.11'; dlerror: libcusolver.so.11: cannot open shared object file: No such file or directory; LD_LIBRARY_PATH: /home/daittan/catkin_ws/devel/lib:/opt/ros/melodic/lib:/home/daittan/NN-Repair/gurobi912/linux64/lib\n",
      "2022-01-19 12:52:53.383927: W tensorflow/stream_executor/platform/default/dso_loader.cc:64] Could not load dynamic library 'libcusparse.so.11'; dlerror: libcusparse.so.11: cannot open shared object file: No such file or directory; LD_LIBRARY_PATH: /home/daittan/catkin_ws/devel/lib:/opt/ros/melodic/lib:/home/daittan/NN-Repair/gurobi912/linux64/lib\n",
      "2022-01-19 12:52:53.384124: W tensorflow/stream_executor/platform/default/dso_loader.cc:64] Could not load dynamic library 'libcudnn.so.8'; dlerror: libcudnn.so.8: cannot open shared object file: No such file or directory; LD_LIBRARY_PATH: /home/daittan/catkin_ws/devel/lib:/opt/ros/melodic/lib:/home/daittan/NN-Repair/gurobi912/linux64/lib\n",
      "2022-01-19 12:52:53.384138: W tensorflow/core/common_runtime/gpu/gpu_device.cc:1835] Cannot dlopen some GPU libraries. Please make sure the missing libraries mentioned above are installed properly if you would like to use GPU. Follow the guide at https://www.tensorflow.org/install/gpu for how to download and setup the required libraries for your platform.\n",
      "Skipping registering GPU devices...\n"
     ]
    }
   ],
   "source": [
    "physical_devices = tf.config.list_physical_devices('GPU') \n",
    "# tf.config.experimental.set_memory_growth(physical_devices[0], True)"
   ]
  },
  {
   "cell_type": "markdown",
   "metadata": {},
   "source": [
    "#  Generate Data\n"
   ]
  },
  {
   "cell_type": "markdown",
   "metadata": {},
   "source": [
    "## Training/Testing Data "
   ]
  },
  {
   "cell_type": "markdown",
   "metadata": {},
   "source": [
    "#### Create Data "
   ]
  },
  {
   "cell_type": "code",
   "execution_count": 3,
   "metadata": {},
   "outputs": [],
   "source": [
    "x = np.linspace(0,4,200) \n",
    "y = np.stack([np.array([np.exp(-0.5*x[i])*np.sin(x[i]),np.exp(-0.7*x[i])*np.cos(x[i])]) + np.random.normal(0,0.005,1) for i in range(x.shape[0])],axis = 0)"
   ]
  },
  {
   "cell_type": "code",
   "execution_count": 4,
   "metadata": {},
   "outputs": [
    {
     "data": {
      "image/png": "[encoded data removed]",
      "text/plain": [
       "<Figure size 432x288 with 1 Axes>"
      ]
     },
     "metadata": {
      "needs_background": "light"
     },
     "output_type": "display_data"
    }
   ],
   "source": [
    "plt.scatter(y[:,0],y[:,1])\n",
    "plt.show()"
   ]
  },
  {
   "cell_type": "markdown",
   "metadata": {},
   "source": [
    "#### Safe Bound"
   ]
  },
  {
   "cell_type": "code",
   "execution_count": 5,
   "metadata": {},
   "outputs": [],
   "source": [
    "poly3 = Polygon([(.45, .1), (.45, .25), (.55, .25), (.55, .1)])\n",
    "\n",
    "# get the coordinates of the exterior points of the polytope\n",
    "ex_points = np.array(poly3.exterior.coords)\n",
    "\n",
    "# get A and b matrices: A*x <= b\n",
    "hull = ConvexHull(ex_points)\n",
    "eqs = np.array(hull.equations)\n",
    "A = eqs[0:eqs.shape[0],0:eqs.shape[1]-1]  \n",
    "b = -eqs[0:eqs.shape[0],-1]"
   ]
  },
  {
   "cell_type": "code",
   "execution_count": 22,
   "metadata": {},
   "outputs": [
    {
     "name": "stdout",
     "output_type": "stream",
     "text": [
      "[-0.45  0.25 -0.1   0.55]\n"
     ]
    }
   ],
   "source": [
    "print(b)"
   ]
  },
  {
   "cell_type": "code",
   "execution_count": 6,
   "metadata": {},
   "outputs": [
    {
     "data": {
      "image/png": "[encoded data removed]",
      "text/plain": [
       "<Figure size 432x288 with 1 Axes>"
      ]
     },
     "metadata": {
      "needs_background": "light"
     },
     "output_type": "display_data"
    }
   ],
   "source": [
    "x_poly3, y_poly3 = poly3.exterior.xy\n",
    "plt.scatter(y[:,0],y[:,1])\n",
    "plt.plot(x_poly3, y_poly3, color='red', alpha=0.7, linewidth=3, solid_capstyle='round', zorder=2, label='Target Set')\n",
    "plt.ylim(-.2,1.1)\n",
    "plt.xlim(-.2,0.7)\n",
    "plt.show()"
   ]
  },
  {
   "cell_type": "markdown",
   "metadata": {},
   "source": [
    "#### Training Mini-Batch Generator"
   ]
  },
  {
   "cell_type": "code",
   "execution_count": 7,
   "metadata": {},
   "outputs": [
    {
     "name": "stdout",
     "output_type": "stream",
     "text": [
      "(200,)\n"
     ]
    }
   ],
   "source": [
    "print(x.shape)"
   ]
  },
  {
   "cell_type": "code",
   "execution_count": 8,
   "metadata": {},
   "outputs": [],
   "source": [
    "class Batch(object):\n",
    "    def __init__(self, X_col, Y_col, batch_size_val):\n",
    "        self.X = X_col\n",
    "        self.Y = Y_col\n",
    "        self.size = X_col.shape[0]\n",
    "        self.train_size = batch_size_val\n",
    "        self.test_size = self.size - batch_size_val\n",
    "\n",
    "    def getBatch(self):\n",
    "        values = range(self.size)\n",
    "        train_dataset, test_dataset = train_test_split(values, train_size=self.train_size, test_size=self.test_size)\n",
    "        # indices = np.random.choice(range(self.size), self.batch_size)  # sampling with replacement\n",
    "        return self.X[train_dataset], self.Y[train_dataset,:], self.X[test_dataset], self.Y[test_dataset,:]\n",
    "num_pts = x.shape[0]\n",
    "batch_size = int(0.7 * num_pts)\n",
    "batch = Batch(x, y, batch_size)"
   ]
  },
  {
   "cell_type": "markdown",
   "metadata": {},
   "source": [
    "# 3-Layer NN"
   ]
  },
  {
   "cell_type": "markdown",
   "metadata": {},
   "source": [
    "## Build 3-Layer NN Model"
   ]
  },
  {
   "cell_type": "markdown",
   "metadata": {},
   "source": [
    "Here we setup a 3-layer MLP, with the single hidden layer of ReLU activation and train it with gradient descent optimizer to learn the defined affine transformation from the given data. \n",
    "$$\n",
    "\\min_{\\mathbf{W}^0,\\mathbf{W}^1,\\mathbf{W}^2,\\mathbf{b}^0,\\mathbf{b}^1,\\mathbf{b}^2}~~\\frac{1}{2}\\sum^{N}_{n=1}|| \\mathbf{y}(\\mathbf{x}^0_n,\\mathbf{W}^0,\\mathbf{W}^1,\\mathbf{b}^0,\\mathbf{b}^1)-\\mathbf{t}_n||^2_2\n",
    "$$\n",
    "$$\n",
    "\\mathbf{W}^0 \\mathbf{x}^0 + \\mathbf{b}^0 = \\mathbf{h}^0\n",
    "$$\n",
    "$$\n",
    "\\mathbf{x}^1 = \\mathrm{ReLU} (\\mathbf{h}^0)\n",
    "$$\n",
    "$$\n",
    "\\mathbf{W}^1 \\mathbf{x}^1 + \\mathbf{b}^1 = \\mathbf{h}^1\n",
    "$$\n",
    "$$\n",
    "\\mathbf{x}^2 = \\mathrm{ReLU} (\\mathbf{h}^1)\n",
    "$$\n",
    "$$\n",
    "\\mathbf{W}^2 \\mathbf{x}^2 + \\mathbf{b}^2 = \\mathbf{y}\n",
    "$$"
   ]
  },
  {
   "cell_type": "markdown",
   "metadata": {},
   "source": [
    "#### Initializing Parameters for MLP Model"
   ]
  },
  {
   "cell_type": "code",
   "execution_count": 9,
   "metadata": {},
   "outputs": [
    {
     "name": "stdout",
     "output_type": "stream",
     "text": [
      "Model: \"3_layer_NN\"\n",
      "_________________________________________________________________\n",
      "Layer (type)                 Output Shape              Param #   \n",
      "=================================================================\n",
      "layer0 (Dense)               (None, 4)                 8         \n",
      "_________________________________________________________________\n",
      "layer1 (Dense)               (None, 3)                 15        \n",
      "_________________________________________________________________\n",
      "output (Dense)               (None, 2)                 8         \n",
      "=================================================================\n",
      "Total params: 31\n",
      "Trainable params: 31\n",
      "Non-trainable params: 0\n",
      "_________________________________________________________________\n",
      "[<tf.Variable 'layer0/kernel:0' shape=(1, 4) dtype=float32, numpy=\n",
      "array([[ 0.9750378 ,  0.95550895, -0.78766644,  0.73672485]],\n",
      "      dtype=float32)>, <tf.Variable 'layer0/bias:0' shape=(4,) dtype=float32, numpy=array([0., 0., 0., 0.], dtype=float32)>]\n",
      "<tf.Variable 'layer0/kernel:0' shape=(1, 4) dtype=float32, numpy=\n",
      "array([[ 0.9750378 ,  0.95550895, -0.78766644,  0.73672485]],\n",
      "      dtype=float32)>\n"
     ]
    },
    {
     "name": "stderr",
     "output_type": "stream",
     "text": [
      "2022-01-19 12:52:54.004181: I tensorflow/core/platform/cpu_feature_guard.cc:142] This TensorFlow binary is optimized with oneAPI Deep Neural Network Library (oneDNN) to use the following CPU instructions in performance-critical operations:  AVX2 FMA\n",
      "To enable them in other operations, rebuild TensorFlow with the appropriate compiler flags.\n"
     ]
    }
   ],
   "source": [
    "num_input = 1\n",
    "num_output = 2\n",
    "#num_layers_0 = 3\n",
    "num_hidden_0 = 4\n",
    "num_hidden_1 = 3\n",
    "architecture = [num_input, num_hidden_0, num_hidden_1, num_output]\n",
    "starter_learning_rate = 0.0005\n",
    "regularizer_rate = 0.01\n",
    "\n",
    "#Create the 3 layers model\n",
    "# Define Sequential model with 3 layers\n",
    "model_orig = keras.Sequential(name=\"3_layer_NN\")\n",
    "model_orig.add(layers.Dense(num_hidden_0,\n",
    "                            activation=\"relu\",\n",
    "                            kernel_regularizer = regularizers.l2(regularizer_rate),\n",
    "                            bias_regularizer = regularizers.l2(regularizer_rate),\n",
    "                            input_shape=(num_input,),\n",
    "                            name=\"layer0\"))\n",
    "#model_orig.add(layers.Dropout(0.01))\n",
    "model_orig.add(layers.Dense(num_hidden_1,\n",
    "                            activation=\"relu\",\n",
    "                            kernel_regularizer = regularizers.l2(regularizer_rate),\n",
    "                            bias_regularizer = regularizers.l2(regularizer_rate),\n",
    "                            name=\"layer1\"))\n",
    "#model_orig.add(layers.Dropout(0.01))\n",
    "model_orig.add(layers.Dense(num_output,\n",
    "                            kernel_regularizer = regularizers.l2(regularizer_rate),\n",
    "                            bias_regularizer = regularizers.l2(regularizer_rate), \n",
    "                            name=\"output\"))\n",
    "\n",
    "model_orig.summary()\n",
    "print(model_orig.layers[0].weights)\n",
    "print(model_orig.layers[0].kernel)"
   ]
  },
  {
   "cell_type": "code",
   "execution_count": null,
   "metadata": {},
   "outputs": [],
   "source": []
  },
  {
   "cell_type": "code",
   "execution_count": null,
   "metadata": {},
   "outputs": [],
   "source": []
  },
  {
   "cell_type": "markdown",
   "metadata": {},
   "source": [
    "#### Train the model"
   ]
  },
  {
   "cell_type": "code",
   "execution_count": 10,
   "metadata": {},
   "outputs": [],
   "source": [
    "import tensorflow.keras.backend as kb\n",
    "#define costum loss function\n",
    "def keras_SSE_costum(y_actual, y_predicted):\n",
    "    err = y_actual - y_predicted\n",
    "    loss_value = kb.sum(kb.square(err))\n",
    "    return loss_value"
   ]
  },
  {
   "cell_type": "code",
   "execution_count": 11,
   "metadata": {},
   "outputs": [],
   "source": [
    "# define loss \n",
    "loss = keras.losses.MeanSquaredError(name='MSE')\n",
    "#loss = keras.losses.MeanSquaredLogarithmicError(name='MSLE')\n",
    "optimizer = keras.optimizers.SGD(learning_rate = starter_learning_rate, name='SGD')\n",
    "model_orig.compile(optimizer = optimizer,\n",
    "                   loss = keras_SSE_costum,\n",
    "                   metrics=['accuracy'])\n",
    "x_train, y_train, x_test, y_test = batch.getBatch()"
   ]
  },
  {
   "cell_type": "code",
   "execution_count": 12,
   "metadata": {},
   "outputs": [
    {
     "name": "stderr",
     "output_type": "stream",
     "text": [
      "2022-01-19 12:52:54.227801: I tensorflow/compiler/mlir/mlir_graph_optimization_pass.cc:185] None of the MLIR Optimization Passes are enabled (registered 2)\n"
     ]
    },
    {
     "name": "stdout",
     "output_type": "stream",
     "text": [
      "Model Accuracy on Test Data Set\n",
      "2/2 - 0s - loss: 0.1432 - accuracy: 1.0000\n"
     ]
    },
    {
     "data": {
      "text/plain": [
       "[0.1432424634695053, 1.0]"
      ]
     },
     "execution_count": 12,
     "metadata": {},
     "output_type": "execute_result"
    }
   ],
   "source": [
    "his = model_orig.fit(x_train, y_train, epochs=10000, use_multiprocessing = True, verbose = 0)\n",
    "print(\"Model Accuracy on Test Data Set\")\n",
    "model_orig.evaluate(x_test,  y_test, verbose=2)\n"
   ]
  },
  {
   "cell_type": "code",
   "execution_count": 13,
   "metadata": {},
   "outputs": [],
   "source": [
    "#w0_orig, b0_orig, w1_orig, b1_orig, w2_orig, b2_orig = s.run([weights_0, bias_0, weights_1, bias_1, weights_2, bias_2])\n",
    "w0_orig = model_orig.layers[0].kernel.numpy()\n",
    "b0_orig = model_orig.layers[0].bias.numpy()\n",
    "w1_orig = model_orig.layers[1].kernel.numpy()\n",
    "b1_orig = model_orig.layers[1].bias.numpy()\n",
    "w2_orig = model_orig.layers[2].kernel.numpy()\n",
    "b2_orig = model_orig.layers[2].bias.numpy()"
   ]
  },
  {
   "cell_type": "code",
   "execution_count": 14,
   "metadata": {},
   "outputs": [
    {
     "name": "stdout",
     "output_type": "stream",
     "text": [
      "(None, 4)\n",
      "(None, 3)\n",
      "(None, 2)\n"
     ]
    }
   ],
   "source": [
    "weights = []\n",
    "bias = []\n",
    "\n",
    "for iterate in model_orig.layers:\n",
    "    print(iterate.output_shape)\n",
    "    weights.append(iterate.kernel.numpy())\n",
    "    bias.append(iterate.bias.numpy())\n",
    "\n",
    "\n",
    "\n"
   ]
  },
  {
   "cell_type": "markdown",
   "metadata": {},
   "source": [
    "#### Plot Loss Function"
   ]
  },
  {
   "cell_type": "code",
   "execution_count": 15,
   "metadata": {},
   "outputs": [
    {
     "data": {
      "image/png": "[encoded data removed]",
      "text/plain": [
       "<Figure size 432x288 with 1 Axes>"
      ]
     },
     "metadata": {
      "needs_background": "light"
     },
     "output_type": "display_data"
    }
   ],
   "source": [
    "\n",
    "results_train_loss = his.history['loss']\n",
    "plt.plot(results_train_loss, color='red')\n",
    "plt.title('Loss Function Output')\n",
    "plt.xlabel('epoch')\n",
    "plt.ylabel('loss')\n",
    "plt.show()"
   ]
  },
  {
   "cell_type": "markdown",
   "metadata": {},
   "source": [
    "#### Plot Trained Model Ouput"
   ]
  },
  {
   "cell_type": "code",
   "execution_count": 16,
   "metadata": {},
   "outputs": [
    {
     "data": {
      "image/png": "[encoded data removed]",
      "text/plain": [
       "<Figure size 432x288 with 1 Axes>"
      ]
     },
     "metadata": {
      "needs_background": "light"
     },
     "output_type": "display_data"
    },
    {
     "data": {
      "image/png": "[encoded data removed]",
      "text/plain": [
       "<Figure size 432x288 with 1 Axes>"
      ]
     },
     "metadata": {
      "needs_background": "light"
     },
     "output_type": "display_data"
    }
   ],
   "source": [
    "def plot_model(model, x_true, y_true, arg):\n",
    "    y_predict = model_orig.predict(x_true)\n",
    "    \n",
    "    ## training output\n",
    "    plt.plot(y_true[:,0], y_true[:,1], 'ro', label='Original Samples')\n",
    "\n",
    "    ## predicted output\n",
    "    plt.plot(y_predict[:,0], y_predict[:,1], 'ko', label='Predicted Output')\n",
    "    plt.title(arg)\n",
    "    plt.xlabel('x')\n",
    "    plt.ylabel('y')\n",
    "    plt.legend(loc=\"upper left\")\n",
    "    plt.show()\n",
    "    return y_predict\n",
    "\n",
    "y_predict_train = plot_model(model_orig, x_train, y_train, arg='Trained Model - Training Data')\n",
    "y_predict_test = plot_model(model_orig, x_test, y_test, arg='Trained Model - Testing Data')"
   ]
  },
  {
   "cell_type": "code",
   "execution_count": 17,
   "metadata": {},
   "outputs": [],
   "source": [
    "# config = model_orig.get_config()\n",
    "# # print(config)\n",
    "# # At loading time, register the custom objects with a `custom_object_scope`:\n",
    "# custom_objects = {\"keras_SSE_costum\": keras_SSE_costum}\n",
    "from keras.utils.generic_utils import get_custom_objects\n",
    "get_custom_objects().update({\"keras_SSE_costum\": keras_SSE_costum})"
   ]
  },
  {
   "cell_type": "code",
   "execution_count": 18,
   "metadata": {},
   "outputs": [
    {
     "name": "stderr",
     "output_type": "stream",
     "text": [
      "2022-01-19 12:53:31.520818: W tensorflow/python/util/util.cc:348] Sets are not currently considered sequences, but this may change in the future, so consider avoiding using them.\n"
     ]
    },
    {
     "name": "stdout",
     "output_type": "stream",
     "text": [
      "INFO:tensorflow:Assets written to: tp/assets\n"
     ]
    }
   ],
   "source": [
    "model_orig.save('tp', '/home/daittan/NN-Repair')\n",
    "import pickle\n",
    "\n",
    "with open(\"input_output_data.pickle\", \"wb\") as data:\n",
    "    pickle.dump([x_train, y_train, x_test, y_test], data)"
   ]
  },
  {
   "cell_type": "code",
   "execution_count": 19,
   "metadata": {},
   "outputs": [],
   "source": [
    "from tensorflow import keras\n",
    "model_tp = keras.models.load_model('/home/daittan/NN-Repair/nn-repair_keyvan/NN-Repair/tp/')\n",
    "\n"
   ]
  },
  {
   "cell_type": "code",
   "execution_count": 20,
   "metadata": {},
   "outputs": [
    {
     "data": {
      "image/png": "[encoded data removed]",
      "text/plain": [
       "<Figure size 432x288 with 1 Axes>"
      ]
     },
     "metadata": {
      "needs_background": "light"
     },
     "output_type": "display_data"
    },
    {
     "data": {
      "image/png": "[encoded data removed]",
      "text/plain": [
       "<Figure size 432x288 with 1 Axes>"
      ]
     },
     "metadata": {
      "needs_background": "light"
     },
     "output_type": "display_data"
    }
   ],
   "source": [
    "\n",
    "y_predict_train = plot_model(model_tp, x_train, y_train, arg='Trained Model - Training Data')\n",
    "y_predict_test = plot_model(model_tp, x_test, y_test, arg='Trained Model - Testing Data')"
   ]
  }
 ],
 "metadata": {
  "interpreter": {
   "hash": "df0893f56f349688326838aaeea0de204df53a132722cbd565e54b24a8fec5f6"
  },
  "kernelspec": {
   "display_name": "Python 3 (ipykernel)",
   "language": "python",
   "name": "python3"
  },
  "language_info": {
   "codemirror_mode": {
    "name": "ipython",
    "version": 3
   },
   "file_extension": ".py",
   "mimetype": "text/x-python",
   "name": "python",
   "nbconvert_exporter": "python",
   "pygments_lexer": "ipython3",
   "version": "3.8.0"
  }
 },
 "nbformat": 4,
 "nbformat_minor": 4
}
